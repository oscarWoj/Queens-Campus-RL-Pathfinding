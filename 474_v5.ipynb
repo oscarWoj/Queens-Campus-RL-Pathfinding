{
  "cells": [
    {
      "cell_type": "markdown",
      "source": [
        "Queen's Campus Campus Pathfinding\n",
        "Reinforcment Learning agent who uses Q-Learning to find the shortest path between two points on Campus\n",
        "\n",
        "CISC 474\n",
        "names and SN's (insert before handing in - Not while on Github though)\n",
        "- \n",
        "- \n",
        "- \n",
        "-"
      ],
      "metadata": {
        "id": "CV7Ubl-ahgV9"
      }
    },
    {
      "cell_type": "markdown",
      "source": [
        "Reference Materials:\n",
        "\n",
        "[Overpass API/Overpass QL](https://wiki.openstreetmap.org/wiki/Overpass_API/Overpass_QL): API and Query Language for accessing Open Street Maps data.\n",
        "\n",
        "[Overpass Turbo](https://overpass-turbo.eu/): Website to help build and visualize Overpass API calls.\n",
        "\n",
        "[OverPy](https://python-overpy.readthedocs.io/en/latest/api.html): Python Wrapper for Overpass"
      ],
      "metadata": {
        "id": "uzWOa8RLi7V2"
      }
    },
    {
      "cell_type": "code",
      "execution_count": 57,
      "metadata": {
        "id": "1Fuc1QT6grHd"
      },
      "outputs": [],
      "source": [
        "###\n",
        "## TO DO\n",
        "\n",
        "# Build a new query that can delete nodes with 0 ways connected\n",
        "#for eachnode in all_campus_result.nodes:\n",
        "#    world.get_ways_fromNode(eachnode) \n",
        "#\n",
        "#Edit get_ways_from node so it prints you the id of the node with no ways and \n",
        "#theen use overpass turbo to build a query that includes our (already built) query\n",
        "# with a 'difference' of the nodes that are wayless\n",
        "\n",
        "# World.print_world(self)\n",
        "\n",
        "\n",
        "#Do we need values? ie enviroment.set next values if not then delete it\n",
        "####"
      ]
    },
    {
      "cell_type": "code",
      "execution_count": 58,
      "metadata": {
        "colab": {
          "base_uri": "https://localhost:8080/"
        },
        "id": "xOgZkmyD5FmO",
        "outputId": "2e426c0f-3836-4639-c574-1bbbdfaec21e"
      },
      "outputs": [
        {
          "output_type": "stream",
          "name": "stdout",
          "text": [
            "Looking in indexes: https://pypi.org/simple, https://us-python.pkg.dev/colab-wheels/public/simple/\n",
            "Requirement already satisfied: OSMPythonTools in /usr/local/lib/python3.8/dist-packages (0.3.5)\n",
            "Requirement already satisfied: geojson in /usr/local/lib/python3.8/dist-packages (from OSMPythonTools) (2.5.0)\n",
            "Requirement already satisfied: numpy in /usr/local/lib/python3.8/dist-packages (from OSMPythonTools) (1.21.6)\n",
            "Requirement already satisfied: lxml in /usr/local/lib/python3.8/dist-packages (from OSMPythonTools) (4.9.1)\n",
            "Requirement already satisfied: matplotlib in /usr/local/lib/python3.8/dist-packages (from OSMPythonTools) (3.6.2)\n",
            "Requirement already satisfied: pandas in /usr/local/lib/python3.8/dist-packages (from OSMPythonTools) (1.3.5)\n",
            "Requirement already satisfied: beautifulsoup4 in /usr/local/lib/python3.8/dist-packages (from OSMPythonTools) (4.6.3)\n",
            "Requirement already satisfied: ujson in /usr/local/lib/python3.8/dist-packages (from OSMPythonTools) (5.6.0)\n",
            "Requirement already satisfied: xarray in /usr/local/lib/python3.8/dist-packages (from OSMPythonTools) (0.20.2)\n",
            "Requirement already satisfied: packaging>=20.0 in /usr/local/lib/python3.8/dist-packages (from matplotlib->OSMPythonTools) (21.3)\n",
            "Requirement already satisfied: contourpy>=1.0.1 in /usr/local/lib/python3.8/dist-packages (from matplotlib->OSMPythonTools) (1.0.6)\n",
            "Requirement already satisfied: python-dateutil>=2.7 in /usr/local/lib/python3.8/dist-packages (from matplotlib->OSMPythonTools) (2.8.2)\n",
            "Requirement already satisfied: fonttools>=4.22.0 in /usr/local/lib/python3.8/dist-packages (from matplotlib->OSMPythonTools) (4.38.0)\n",
            "Requirement already satisfied: cycler>=0.10 in /usr/local/lib/python3.8/dist-packages (from matplotlib->OSMPythonTools) (0.11.0)\n",
            "Requirement already satisfied: kiwisolver>=1.0.1 in /usr/local/lib/python3.8/dist-packages (from matplotlib->OSMPythonTools) (1.4.4)\n",
            "Requirement already satisfied: pillow>=6.2.0 in /usr/local/lib/python3.8/dist-packages (from matplotlib->OSMPythonTools) (7.1.2)\n",
            "Requirement already satisfied: pyparsing>=2.2.1 in /usr/local/lib/python3.8/dist-packages (from matplotlib->OSMPythonTools) (3.0.9)\n",
            "Requirement already satisfied: six>=1.5 in /usr/local/lib/python3.8/dist-packages (from python-dateutil>=2.7->matplotlib->OSMPythonTools) (1.15.0)\n",
            "Requirement already satisfied: pytz>=2017.3 in /usr/local/lib/python3.8/dist-packages (from pandas->OSMPythonTools) (2022.6)\n",
            "Looking in indexes: https://pypi.org/simple, https://us-python.pkg.dev/colab-wheels/public/simple/\n",
            "Requirement already satisfied: overpy in /usr/local/lib/python3.8/dist-packages (0.6)\n",
            "Looking in indexes: https://pypi.org/simple, https://us-python.pkg.dev/colab-wheels/public/simple/\n",
            "Obtaining prettymaps from git+https://github.com/marceloprates/prettymaps#egg=prettymaps\n",
            "  Updating ./src/prettymaps clone\n",
            "  Running command git fetch -q --tags\n",
            "  Running command git reset --hard -q 3f3b8be923a9c0abda10fbc6f002ceb048c8e7f2\n",
            "Requirement already satisfied: osmnx==1.1.2 in /usr/local/lib/python3.8/dist-packages (from prettymaps) (1.1.2)\n",
            "Requirement already satisfied: tabulate==0.8.9 in /usr/local/lib/python3.8/dist-packages (from prettymaps) (0.8.9)\n",
            "Requirement already satisfied: Shapely<2.0,>=1.8 in /usr/local/lib/python3.8/dist-packages (from prettymaps) (1.8.5.post1)\n",
            "Requirement already satisfied: descartes==1.1.0 in /usr/local/lib/python3.8/dist-packages (from prettymaps) (1.1.0)\n",
            "Requirement already satisfied: pyyaml==6.0.0 in /usr/local/lib/python3.8/dist-packages (from prettymaps) (6.0)\n",
            "Requirement already satisfied: matplotlib in /usr/local/lib/python3.8/dist-packages (from descartes==1.1.0->prettymaps) (3.6.2)\n",
            "Requirement already satisfied: numpy>=1.21 in /usr/local/lib/python3.8/dist-packages (from osmnx==1.1.2->prettymaps) (1.21.6)\n",
            "Requirement already satisfied: pyproj>=3.2 in /usr/local/lib/python3.8/dist-packages (from osmnx==1.1.2->prettymaps) (3.4.0)\n",
            "Requirement already satisfied: geopandas>=0.10 in /usr/local/lib/python3.8/dist-packages (from osmnx==1.1.2->prettymaps) (0.12.1)\n",
            "Requirement already satisfied: requests>=2.26 in /usr/local/lib/python3.8/dist-packages (from osmnx==1.1.2->prettymaps) (2.28.1)\n",
            "Requirement already satisfied: Rtree>=0.9 in /usr/local/lib/python3.8/dist-packages (from osmnx==1.1.2->prettymaps) (1.0.1)\n",
            "Requirement already satisfied: networkx>=2.6 in /usr/local/lib/python3.8/dist-packages (from osmnx==1.1.2->prettymaps) (2.6.3)\n",
            "Requirement already satisfied: pandas>=1.3 in /usr/local/lib/python3.8/dist-packages (from osmnx==1.1.2->prettymaps) (1.3.5)\n",
            "Requirement already satisfied: packaging in /usr/local/lib/python3.8/dist-packages (from geopandas>=0.10->osmnx==1.1.2->prettymaps) (21.3)\n",
            "Requirement already satisfied: fiona>=1.8 in /usr/local/lib/python3.8/dist-packages (from geopandas>=0.10->osmnx==1.1.2->prettymaps) (1.8.22)\n",
            "Requirement already satisfied: click>=4.0 in /usr/local/lib/python3.8/dist-packages (from fiona>=1.8->geopandas>=0.10->osmnx==1.1.2->prettymaps) (7.1.2)\n",
            "Requirement already satisfied: six>=1.7 in /usr/local/lib/python3.8/dist-packages (from fiona>=1.8->geopandas>=0.10->osmnx==1.1.2->prettymaps) (1.15.0)\n",
            "Requirement already satisfied: certifi in /usr/local/lib/python3.8/dist-packages (from fiona>=1.8->geopandas>=0.10->osmnx==1.1.2->prettymaps) (2022.9.24)\n",
            "Requirement already satisfied: click-plugins>=1.0 in /usr/local/lib/python3.8/dist-packages (from fiona>=1.8->geopandas>=0.10->osmnx==1.1.2->prettymaps) (1.1.1)\n",
            "Requirement already satisfied: cligj>=0.5 in /usr/local/lib/python3.8/dist-packages (from fiona>=1.8->geopandas>=0.10->osmnx==1.1.2->prettymaps) (0.7.2)\n",
            "Requirement already satisfied: setuptools in /usr/local/lib/python3.8/dist-packages (from fiona>=1.8->geopandas>=0.10->osmnx==1.1.2->prettymaps) (57.4.0)\n",
            "Requirement already satisfied: munch in /usr/local/lib/python3.8/dist-packages (from fiona>=1.8->geopandas>=0.10->osmnx==1.1.2->prettymaps) (2.5.0)\n",
            "Requirement already satisfied: attrs>=17 in /usr/local/lib/python3.8/dist-packages (from fiona>=1.8->geopandas>=0.10->osmnx==1.1.2->prettymaps) (22.1.0)\n",
            "Requirement already satisfied: contourpy>=1.0.1 in /usr/local/lib/python3.8/dist-packages (from matplotlib->descartes==1.1.0->prettymaps) (1.0.6)\n",
            "Requirement already satisfied: fonttools>=4.22.0 in /usr/local/lib/python3.8/dist-packages (from matplotlib->descartes==1.1.0->prettymaps) (4.38.0)\n",
            "Requirement already satisfied: kiwisolver>=1.0.1 in /usr/local/lib/python3.8/dist-packages (from matplotlib->descartes==1.1.0->prettymaps) (1.4.4)\n",
            "Requirement already satisfied: pillow>=6.2.0 in /usr/local/lib/python3.8/dist-packages (from matplotlib->descartes==1.1.0->prettymaps) (7.1.2)\n",
            "Requirement already satisfied: python-dateutil>=2.7 in /usr/local/lib/python3.8/dist-packages (from matplotlib->descartes==1.1.0->prettymaps) (2.8.2)\n",
            "Requirement already satisfied: pyparsing>=2.2.1 in /usr/local/lib/python3.8/dist-packages (from matplotlib->descartes==1.1.0->prettymaps) (3.0.9)\n",
            "Requirement already satisfied: cycler>=0.10 in /usr/local/lib/python3.8/dist-packages (from matplotlib->descartes==1.1.0->prettymaps) (0.11.0)\n",
            "Requirement already satisfied: pytz>=2017.3 in /usr/local/lib/python3.8/dist-packages (from pandas>=1.3->osmnx==1.1.2->prettymaps) (2022.6)\n",
            "Requirement already satisfied: urllib3<1.27,>=1.21.1 in /usr/local/lib/python3.8/dist-packages (from requests>=2.26->osmnx==1.1.2->prettymaps) (1.24.3)\n",
            "Requirement already satisfied: idna<4,>=2.5 in /usr/local/lib/python3.8/dist-packages (from requests>=2.26->osmnx==1.1.2->prettymaps) (2.10)\n",
            "Requirement already satisfied: charset-normalizer<3,>=2 in /usr/local/lib/python3.8/dist-packages (from requests>=2.26->osmnx==1.1.2->prettymaps) (2.1.1)\n",
            "Installing collected packages: prettymaps\n",
            "  Attempting uninstall: prettymaps\n",
            "    Found existing installation: prettymaps 0.1.3\n",
            "    Can't uninstall 'prettymaps'. No files were found to uninstall.\n",
            "  Running setup.py develop for prettymaps\n",
            "Successfully installed prettymaps-0.1.3\n",
            "node: /lib/x86_64-linux-gnu/libc.so.6: version `GLIBC_2.28' not found (required by node)\n",
            "node: /lib/x86_64-linux-gnu/libc.so.6: version `GLIBC_2.28' not found (required by node)\n",
            "  \u001b[36m   copying\u001b[0m : \u001b[2mnode/18.12.1\u001b[0m\n",
            "node: /lib/x86_64-linux-gnu/libc.so.6: version `GLIBC_2.28' not found (required by node)\n",
            "/usr/local/bin/node: /lib/x86_64-linux-gnu/libc.so.6: version `GLIBC_2.28' not found (required by /usr/local/bin/node)\n",
            "  \u001b[36m installed\u001b[0m : \u001b[2m (with npm )\u001b[0m\n",
            "node: /lib/x86_64-linux-gnu/libc.so.6: version `GLIBC_2.28' not found (required by node)\n",
            "node: /lib/x86_64-linux-gnu/libc.so.6: version `GLIBC_2.28' not found (required by node)\n"
          ]
        }
      ],
      "source": [
        "!pip install OSMPythonTools\n",
        "!pip install overpy\n",
        "from logging import exception\n",
        "!pip install -e \"git+https://github.com/marceloprates/prettymaps#egg=prettymaps\"\n",
        "\n",
        "!npm cache clean -f\n",
        "!npm install -g n\n",
        "!n stable\n",
        "!npm install -g npm\n",
        "!npm install -g osmtogeojson\n",
        "\n",
        "from geopy import distance"
      ]
    },
    {
      "cell_type": "code",
      "execution_count": 59,
      "metadata": {
        "id": "rQe_8QJIUV9H",
        "colab": {
          "base_uri": "https://localhost:8080/"
        },
        "outputId": "3522de8b-7163-42d1-fe19-34376d11bead"
      },
      "outputs": [
        {
          "output_type": "stream",
          "name": "stdout",
          "text": [
            "<OSMPythonTools.api.ApiResult object at 0x7f454a80da90>\n"
          ]
        }
      ],
      "source": [
        "#Not really using this at the moment, but might have to, to do queries between nodes\n",
        "# Api imports and set up to: import and access OpenStreetMaps\n",
        "from OSMPythonTools.api import Api\n",
        "from OSMPythonTools.overpass import Overpass\n",
        "\n",
        "OSMapi = Api()\n",
        "queens = OSMapi.query('way/12030883') \n",
        "#q2 = OSMapi.query('[bbox: 44.2224495448,-76.5017059541,44.2298231916,-76.4903552918];(way[highway=footway];way[highway=pedestrian];way[highway=steps];way[highway=corridor];way[highway=path];way[highway=service];);(._;>;);out;')\n",
        "\n",
        "print(queens)\n",
        "overpass = Overpass()"
      ]
    },
    {
      "cell_type": "code",
      "execution_count": 75,
      "metadata": {
        "colab": {
          "base_uri": "https://localhost:8080/"
        },
        "id": "aZwWaXJl5PUI",
        "outputId": "eaedec56-3ed3-4c37-c6da-3991b16f5ead"
      },
      "outputs": [
        {
          "output_type": "stream",
          "name": "stdout",
          "text": [
            "All nodes on campus: 2362\n",
            "<overpy.Node id=27495897 lat=44.2279960 lon=-76.4908268>\n",
            "All ways on campus: 722\n",
            "<overpy.Way id=4964337 nodes=[30342171, 7434257090, 7434257091, 32871496, 32871497, 305089193, 32871498, 7434257092, 32871499]>\n",
            "[<overpy.Way id=4754821 nodes=[30342167, 401558734, 6719106985, 108808456, 2418407366, 108807813, 108810779]>, <overpy.Way id=4964337 nodes=[30342171, 7434257090, 7434257091, 32871496, 32871497, 305089193, 32871498, 7434257092, 32871499]>, <overpy.Way id=4976348 nodes=[27495896, 9301551838, 2073937368, 9110807381, 32993825, 32993826]>, <overpy.Way id=4976359 nodes=[9225759367, 32993891, 32993892, 32993830, 32993893, 32993901, 32993894, 1707869217, 33719835, 32993896, 7317218633, 7317218608, 7317218625, 7317218626, 7317218607, 32993897, 7317218588, 401544636]>, <overpy.Way id=4976365 nodes=[32993911, 7317219681, 305088291, 305088292, 401544577]>, <overpy.Way id=5041771 nodes=[33721041, 401544465, 33721042, 33721043, 9150433765, 33721044, 33721045]>, <overpy.Way id=5059259 nodes=[33721047, 526540892, 33721048, 6492039827, 33721049, 6492039828, 6492039823, 6492039824, 6492039825, 6492039826, 33721051]>, <overpy.Way id=5066488 nodes=[34148129, 34148130, 34148131, 9203643990, 9091466878]>, <overpy.Way id=5066490 nodes=[34148128, 305157987, 34148130, 7281185752]>, <overpy.Way id=5068929 nodes=[9569034511, 34200188, 7281232858, 7281232848, 7281232847, 443532617, 7386290361, 7386290356, 7386290349, 7386290360, 7281232869, 7281232868, 9863084865, 7386290372, 7281224176]>, <overpy.Way id=5149991 nodes=[35721255, 9580680007, 9684358598]>, <overpy.Way id=5149993 nodes=[9684358603, 7283492048, 7283492047, 9580680008, 401544488, 35721266]>, <overpy.Way id=5149994 nodes=[35721359, 7434257106, 35721358, 9091240924]>, <overpy.Way id=5150002 nodes=[7281185750, 7281185752, 34148131, 9091240926]>, <overpy.Way id=10905335 nodes=[97157917, 7386262453]>, <overpy.Way id=12028930 nodes=[108805208, 7281261056, 108805414, 7281261057, 401563966]>, <overpy.Way id=12028974 nodes=[108805208, 1696386976, 9091466875, 401544563]>, <overpy.Way id=12029177 nodes=[9091466878, 9203637349, 108810488]>, <overpy.Way id=12029190 nodes=[108807813, 7281185758, 7281185753, 6719106986, 108809598, 6719106990]>, <overpy.Way id=12029238 nodes=[108808195, 6719078982, 108808454, 108809977, 7281185759]>, <overpy.Way id=12029373 nodes=[6719106986, 7281185757, 7281185754, 7281207390, 9135958224, 108809977, 9135958218]>, <overpy.Way id=12029482 nodes=[108810779, 305091170, 9078219312]>, <overpy.Way id=27785505 nodes=[97135135, 7434257102, 7281185781, 305088316, 305088317, 305088318]>, <overpy.Way id=27785507 nodes=[401552235, 9277894611, 7317219674, 305088351, 7317219676, 7317219673, 7317219678, 9277894614, 401541070]>, <overpy.Way id=27785545 nodes=[6246290996, 401563951]>, <overpy.Way id=27785546 nodes=[6246290996, 7364594938, 305088943, 305088945, 7364594943, 7364594946, 305088946, 401563953]>, <overpy.Way id=27785716 nodes=[305091212, 108810972, 9077841796, 9077841804, 9077841801, 9077841799, 305091177, 9077841798, 9077841803, 805726990, 9078219315, 9078219312]>, <overpy.Way id=27785718 nodes=[305091212, 9078209274, 305091206, 305091200, 9078209283, 9078219312]>, <overpy.Way id=27785719 nodes=[305091193, 9078209271, 305091206, 9078209285, 305091177]>, <overpy.Way id=27785720 nodes=[305091177, 9078209276, 305091200, 9078209289, 305091189]>, <overpy.Way id=27785721 nodes=[108810980, 401563990, 9078219313, 305091212]>, <overpy.Way id=27785722 nodes=[9078219312, 9077841805, 9078219314, 9078219311, 305091189, 9077841800, 305091193, 108810970, 9077841802, 9077841797, 305091212]>, <overpy.Way id=27792020 nodes=[305157992, 305157987]>, <overpy.Way id=28160906 nodes=[305088948, 401563969, 309309783, 309309782, 309309781, 309309780, 309309779, 401563972, 34148132]>, <overpy.Way id=33826458 nodes=[387493308, 387493311]>, <overpy.Way id=33826459 nodes=[387493311, 9666981602]>, <overpy.Way id=33826460 nodes=[387493309, 9666981601, 387493310]>, <overpy.Way id=33826593 nodes=[387494344, 7060395033]>, <overpy.Way id=34589159 nodes=[9115439732, 184302687, 184303673, 2418408386]>, <overpy.Way id=34589160 nodes=[401544666, 7317232957, 9863762721, 9863762729, 9863762725, 9863762722, 9863762732, 9150475244, 9177254382, 7317219684, 7317232885]>, <overpy.Way id=34589161 nodes=[401541070, 9277894615, 9216707277, 7317218682, 7317218696, 2418412275, 2418412277, 401554669]>, <overpy.Way id=34589434 nodes=[401544482, 9284657177, 9284657191, 9501939605, 9501939602, 9284657176, 401563994]>, <overpy.Way id=34589435 nodes=[7281308536, 401563961, 9102215282, 7281308538, 7281308539, 9102215277, 1705398648, 9102215286, 9102215280, 9102215293, 9102215289, 9102215275, 9102215285, 9130940252, 9130954356, 401563966, 9130940255, 9130954357, 9130954358, 9130954359, 401563969, 9130954360, 401563972, 7364595104]>, <overpy.Way id=34589436 nodes=[401544557, 7281308535, 7281308530, 7281264477]>, <overpy.Way id=34589437 nodes=[401544560, 9130940240, 2530457213, 9091466874, 1696386978, 7281272402]>, <overpy.Way id=34589438 nodes=[401544497, 2418413132, 7283492077, 305089192, 7281191186, 34148124, 7283492075, 7281191187, 34148125, 34148128, 34148126, 34148129]>, <overpy.Way id=34589440 nodes=[9301551833, 401544658, 401544577, 7317219680, 401544580, 401544582, 401544583]>, <overpy.Way id=34589444 nodes=[401544700, 34957883, 7364594975]>, <overpy.Way id=34590735 nodes=[7281308501, 6240010790]>, <overpy.Way id=34591268 nodes=[401563901, 7364594956, 7281272442, 7364594958, 401544680, 9509376270, 9509376269, 401544678, 9509376271, 401544677, 7281272425, 401544674, 401563985, 7364594959, 7364594960, 401563982]>, <overpy.Way id=34591269 nodes=[401563942, 9509376280, 9509376276, 9509376277, 9604207816]>, <overpy.Way id=34591271 nodes=[7426887535, 7426887534, 642336704, 7364594836, 7364594835, 401563936, 401563937, 401563938, 7364591163, 7364591166, 401563939, 7364591167, 7426893316, 7364591174, 401563940, 7426893331, 7281217937, 7281217945, 7281217942, 7281217940, 7364594797, 401563941]>, <overpy.Way id=34591273 nodes=[401563945, 7426887556, 7426887554, 7426887555, 401563946, 401563947, 401563948, 7364594936, 7364594937, 401563949, 401563950, 9177253852, 401563951, 9177253854, 7364594945, 401563952, 401563953, 7281261049, 401563954, 2418408531, 401563955, 7281261052, 401563956, 401563957, 3280440276, 401563958, 642340478, 7364595045, 9102215292, 401563959]>, <overpy.Way id=34591281 nodes=[401563907, 32330516, 7426887537, 401563975, 401563976, 401563947]>, <overpy.Way id=34591284 nodes=[642340488, 9102215287, 7283492044, 9102215278, 9102215294, 401544493, 9102215281, 7283492045, 642340485, 401544497, 7281113884, 7317232960, 7317232969, 9203637359, 401544500, 9203637356, 7281207388, 401544502]>, <overpy.Way id=34591286 nodes=[401563992, 9284657181, 9284657178, 7434257102, 7281185780, 9136490649, 401563990, 401563989, 7281191189, 401563988]>, <overpy.Way id=34591287 nodes=[401563994, 9284657193, 9284657192, 401563995, 9137921815, 9137925631, 9137921810, 9284657185, 9284657182, 401563993]>, <overpy.Way id=34591288 nodes=[32993913, 401563995, 9077669733, 305088289, 9077669734, 9138728846, 305088290, 9191952698, 9077669735, 9191952699, 32993912, 401541055, 9137925629]>, <overpy.Way id=37813762 nodes=[7281232868, 443532625, 443532628, 27495909]>, <overpy.Way id=37924150 nodes=[6240010793, 9284563304, 9284563305, 445180155, 9284563302, 650963395, 9284563303, 650963259]>, <overpy.Way id=39014299 nodes=[465090742, 9667200300]>, <overpy.Way id=39014301 nodes=[465090738, 465090740, 7281264473, 465101889, 7281264458, 465101885, 465101887, 465090749, 7281272388, 7281272389, 465090751, 465090753, 9130940262, 7281272387, 9130940261, 465090755, 9130940263, 465090757, 465103469, 465090759, 9130940260, 465090760, 9127297634, 465090770, 7281308518, 465090764, 7281264465, 7281308512, 7281264455, 9668510464, 9110966464, 465090763]>, <overpy.Way id=39014302 nodes=[465090784, 9668510450, 465090764, 7281308515, 9130940235]>, <overpy.Way id=39014303 nodes=[465090768, 465090770, 465090781]>, <overpy.Way id=39014648 nodes=[9668207360, 465101884, 665044342, 9668207358, 9667203266, 665044347, 465090749]>, <overpy.Way id=39014649 nodes=[465101885, 465101886]>, <overpy.Way id=39014650 nodes=[465101887, 465101888]>, <overpy.Way id=39014651 nodes=[465101889, 465101890, 465101891]>, <overpy.Way id=39014665 nodes=[465103469, 465103470, 2418403627, 9130940258, 9130940259, 7281272395, 2418403626]>, <overpy.Way id=39239293 nodes=[470094897, 2418403641, 470094898, 7281264447, 7281264448, 9667203260, 2418403639, 9667203263, 2418403637, 2418403634, 9667203268, 2418403632, 2418403630, 2418403628]>, <overpy.Way id=42393434 nodes=[401554664, 529211793, 401554669]>, <overpy.Way id=47388323 nodes=[305091352, 9087842683, 9115439729, 603252397]>, <overpy.Way id=49610155 nodes=[7281261084, 9130940246, 630884307, 2418403626, 665044350, 9102215291, 7281272386, 9102215279, 465090751]>, <overpy.Way id=49866821 nodes=[305091352, 633587089, 9095033357, 9078263853, 9078263849, 2164610681, 9095033356, 9071818770, 633587099, 9140041331, 401554663]>, <overpy.Way id=50497738 nodes=[642340478, 642340466]>, <overpy.Way id=50497739 nodes=[642340485, 6240010787, 7283492046, 642340488]>, <overpy.Way id=50497740 nodes=[401544690, 7364595043, 401544693, 401544695, 7364595033, 1696386971, 401544697, 7364595035, 7364595038, 7364594977, 3280440265, 7364594955, 401544700, 7364594970, 9133614292, 401563945]>, <overpy.Way id=50497742 nodes=[34148129, 7283492058, 7283492059, 642340687]>, <overpy.Way id=141901081 nodes=[1553158939, 6719106988, 7281207387, 401544502]>, <overpy.Way id=157419416 nodes=[31395374, 401544485, 30342173, 7283492067, 7281191194, 32367543, 7434257098, 1696386974, 9091240923]>, <overpy.Way id=157419428 nodes=[305088948, 9130954359, 1696386973]>, <overpy.Way id=157419434 nodes=[7281264477, 9091668551, 9130930602, 9127297633, 9140334442, 108805207, 9140374847, 7281272399]>, <overpy.Way id=158313781 nodes=[7281264447, 7726944480]>, <overpy.Way id=158313823 nodes=[1705398509, 7283572590, 7283572591, 7281185777, 9078270561, 305091177]>, <overpy.Way id=158313838 nodes=[108805209, 1705398648]>, <overpy.Way id=189769897 nodes=[32871499, 7434257093, 9078270559, 2003715649, 7434257094, 30342171]>, <overpy.Way id=206455297 nodes=[2164610677, 2164610681]>, <overpy.Way id=233456180 nodes=[2418403629, 2418403631, 2418403633, 2418403636, 2418403638, 2418403640]>, <overpy.Way id=233456183 nodes=[2418403637, 2418403638]>, <overpy.Way id=233456185 nodes=[2418403634, 2418403636]>, <overpy.Way id=233456187 nodes=[2418403632, 2418403633]>, <overpy.Way id=233456189 nodes=[2418403631, 2418403630]>, <overpy.Way id=233456697 nodes=[2418407372, 2418407371]>, <overpy.Way id=233456698 nodes=[2418407366, 2418407367, 2418407368, 2418407365]>, <overpy.Way id=233456699 nodes=[2418407367, 2418407370, 2418407372, 2418407373, 305088318, 2418407371, 2418407369, 2418407370]>, <overpy.Way id=233456782 nodes=[6240010795, 2418408401, 2418408400]>, <overpy.Way id=233456783 nodes=[9239110876, 2418408388, 9239110874]>, <overpy.Way id=233456784 nodes=[2418408410, 2418408408, 2418408405]>, <overpy.Way id=233456785 nodes=[2418408386, 2418408384, 6240010793, 2418408381]>, <overpy.Way id=233456786 nodes=[2418408396, 2418408398, 2418408403]>, <overpy.Way id=233456787 nodes=[2418408384, 2418408388, 2418408398, 2418408408]>, <overpy.Way id=233456788 nodes=[2418408414, 2418408412, 2418408410, 2418408400, 2418408393, 2418408392]>, <overpy.Way id=233458024 nodes=[9670486797, 401563923, 9670486799, 2418412219, 9670548522, 9670486814, 2418412218]>, <overpy.Way id=233458034 nodes=[9216707276, 2418412276, 9216707275, 2418412275]>, <overpy.Way id=233458035 nodes=[2418412277, 7060395034, 2418412276, 2418412274]>, <overpy.Way id=321302033 nodes=[3280440275, 3280440265, 7364594984, 3280440266, 7364594983, 3280440267]>, <overpy.Way id=321302034 nodes=[3280440266, 3280440268, 7364594976]>, <overpy.Way id=321302035 nodes=[3280440276, 9177254375, 9177254378, 3280440273, 7281261046, 7281261048, 7281261045, 3280440274]>, <overpy.Way id=691742392 nodes=[33721055, 6492039838, 9150433773, 33721056, 526540898, 27495911]>, <overpy.Way id=691742393 nodes=[33721051, 9150433772, 33721052, 33721053, 33721054, 33721055]>, <overpy.Way id=691742394 nodes=[6492039826, 6492039829]>, <overpy.Way id=691743555 nodes=[6492068562, 6492068566, 6492068563, 9150433766, 9150433767, 7317212051, 7317212050, 6492068564, 6492068567, 6492068565]>, <overpy.Way id=714852458 nodes=[9135958223, 6719078982, 9135911713, 9135958219, 6719078983]>, <overpy.Way id=714852459 nodes=[6719106985, 7281185760, 6719078984]>, <overpy.Way id=714852460 nodes=[1553158939, 7281207389, 9135958223]>, <overpy.Way id=714852461 nodes=[108808195, 7281185783]>, <overpy.Way id=714852462 nodes=[6719106990, 6719106989]>, <overpy.Way id=714852463 nodes=[6719106989, 108807639]>, <overpy.Way id=779727913 nodes=[7281113884, 9140797381, 7317232964, 7281191185, 6154665864]>, <overpy.Way id=779727914 nodes=[7281191185, 7281191186]>, <overpy.Way id=779727915 nodes=[34148129, 35721491]>, <overpy.Way id=779727916 nodes=[7281191187, 7281191188]>, <overpy.Way id=779727917 nodes=[35721360, 7281191190, 7281191191, 9684443699, 1696386974]>, <overpy.Way id=779727918 nodes=[7281191193, 9091240927, 7281191192, 9684443701, 7281191196, 7434257101, 7434257100, 35721360]>, <overpy.Way id=779727919 nodes=[7281191197, 7281191193]>, <overpy.Way id=779727920 nodes=[7281191196, 7434257107, 9684443698, 7281191199, 7434257108, 7434257109, 7434257110, 7434257111, 7434257112, 7434257113, 7281191200]>, <overpy.Way id=779727921 nodes=[7281191202, 7281191203, 7281191204, 7281191196]>, <overpy.Way id=779727922 nodes=[7281191205, 7281191206, 7281191208, 7281191202]>, <overpy.Way id=779727923 nodes=[7281191206, 7281191207, 7281191208]>, <overpy.Way id=779727924 nodes=[7281191202, 6154665783]>, <overpy.Way id=779727925 nodes=[7281191207, 7281191209]>, <overpy.Way id=779727926 nodes=[9684443674, 7434257099, 35721359, 7281191210, 7434257095, 2003715649]>, <overpy.Way id=779727927 nodes=[7281191210, 35721358, 7281191205]>, <overpy.Way id=779727928 nodes=[1696386974, 7281191211, 7281191210]>, <overpy.Way id=779730342 nodes=[30342171, 8525656141, 8525656140, 7317232965, 35721491, 2003715653, 2003715655, 7281185750]>, <overpy.Way id=779730343 nodes=[7281185754, 7281185755, 9135911712, 9135958222]>, <overpy.Way id=779730344 nodes=[7281185755, 7281185756, 7281185757]>, <overpy.Way id=779730345 nodes=[7281185761, 7281185760, 7281185759, 7281185758]>, <overpy.Way id=779730346 nodes=[7281185763, 7281185764]>, <overpy.Way id=779730347 nodes=[7281185766, 7281185765, 7281185763, 7281185762, 7281185761]>, <overpy.Way id=779730348 nodes=[1720958476, 9611710764, 9611710763, 7281185768, 7281185767]>, <overpy.Way id=779730349 nodes=[32993998, 9136490645, 7281185768]>, <overpy.Way id=779730350 nodes=[7281185752, 35721488, 7281185772, 7281185770, 9203643986]>, <overpy.Way id=779730351 nodes=[7281185771, 7281185773, 7281185772]>, <overpy.Way id=779730352 nodes=[7281185773, 7281185774, 7281185775, 7281185770]>, <overpy.Way id=779730353 nodes=[7281191205, 1705398509, 9684443688, 7281185776, 9203643986]>, <overpy.Way id=779730354 nodes=[7281185778, 7281185779, 7281185781, 7281185780]>, <overpy.Way id=779730355 nodes=[7281207385, 9191949437, 7281185784, 9191949438, 7281185783]>, <overpy.Way id=779730356 nodes=[7281207386, 7281207387]>, <overpy.Way id=779730357 nodes=[7281185783, 6719106988, 7281207388]>, <overpy.Way id=779730358 nodes=[7281207389, 9135958229, 9130215994, 9130215995]>, <overpy.Way id=779733626 nodes=[7281224165, 7281224166, 7281224167, 7281224168, 7281224169, 7281224170, 7281224171, 7281224172]>, <overpy.Way id=779733627 nodes=[97157913, 97157917, 7386290320, 97157920, 97157922]>, <overpy.Way id=779733628 nodes=[8680578966, 7281224176]>, <overpy.Way id=779733629 nodes=[34200190, 8680578966, 7281224177, 7281224178]>, <overpy.Way id=779733630 nodes=[401563980, 401544452, 7281224179, 7281224180, 7281224178]>, <overpy.Way id=779733635 nodes=[31395360, 7281232400]>, <overpy.Way id=779735070 nodes=[9863084829, 443532625, 7281232869]>, <overpy.Way id=779736716 nodes=[6246290996, 7364595064, 305088939]>, <overpy.Way id=779736717 nodes=[6246290993, 305088939]>, <overpy.Way id=779738195 nodes=[3280440269, 7364594951, 7364594952, 7281261047, 7281261048]>, <overpy.Way id=779738196 nodes=[7281261049, 7281261050, 2418408530]>, <overpy.Way id=779738197 nodes=[2418408530, 7281261051, 7281261052]>, <overpy.Way id=779738198 nodes=[7281272385, 108805209, 9102215274, 9102215283, 9102215284, 9102215293, 401563960]>, <overpy.Way id=779738199 nodes=[7281261058, 7281261059, 108805414]>, <overpy.Way id=779738200 nodes=[7281261060, 7281261058]>, <overpy.Way id=779738201 nodes=[30342093, 9130940255, 7281261061, 7281261060]>, <overpy.Way id=779738202 nodes=[7281261062, 7364595112, 7281261063]>, <overpy.Way id=779738203 nodes=[1696386973, 7281261055, 7281261062, 7281261053, 7281261061, 7281261054, 108805414]>, <overpy.Way id=779738204 nodes=[1696386973, 7281261064, 7281261065]>, <overpy.Way id=779738205 nodes=[7281261064, 7281261063, 7281261066, 7281261068]>, <overpy.Way id=779738206 nodes=[7281261070, 7281261069, 7281261068, 7281261071]>, <overpy.Way id=779738207 nodes=[7281261068, 7281261084]>, <overpy.Way id=779738208 nodes=[108805208, 7281272385]>, <overpy.Way id=779738210 nodes=[9668207361, 7281272391, 9130940256, 7281272392, 9130940257, 7281272393, 2418403626]>, <overpy.Way id=779738211 nodes=[7281272390, 9668207361]>, <overpy.Way id=779738212 nodes=[7281272395, 7281272396, 7281272397]>, <overpy.Way id=779738213 nodes=[9092632761, 108805208]>, <overpy.Way id=779738214 nodes=[7281272399, 9140374848, 630884295, 9092632761]>, <overpy.Way id=779738215 nodes=[7281272399, 7281272400, 9091668553, 7281272401]>, <overpy.Way id=779738216 nodes=[7281272405, 7281272403, 1696386976]>, <overpy.Way id=779738217 nodes=[7281272404, 7281272405]>, <overpy.Way id=779738219 nodes=[401544500, 108810488]>, <overpy.Way id=779738220 nodes=[108810488, 7281272406, 9203637351, 108807639, 9267152579, 1553158939, 108808195, 7281207385, 7281185782, 108807642, 401558736, 108807643]>, <overpy.Way id=779738221 nodes=[7281272406, 7281207391, 9203643985, 108810489, 9203643988, 35721488, 108810490]>, <overpy.Way id=779738225 nodes=[7281272425, 7281272424]>, <overpy.Way id=779738226 nodes=[7281272424, 7281272426, 7281272427, 7281272428, 7281272429]>, <overpy.Way id=779738227 nodes=[7281272427, 7281272430]>, <overpy.Way id=779738228 nodes=[7281272430, 7281272431]>, <overpy.Way id=779738229 nodes=[7281272432, 7281272435, 7281272450, 7281272433, 7281272434]>, <overpy.Way id=779738230 nodes=[7281272440, 7281272442, 7281272441]>, <overpy.Way id=779738231 nodes=[7281272441, 7281272434]>, <overpy.Way id=779738232 nodes=[7281272433, 7281272443, 7281272444, 7281272445, 7281272446]>, <overpy.Way id=779738233 nodes=[7281272443, 7281272447, 7281272448, 7281272449]>, <overpy.Way id=779740769 nodes=[465101891, 7281264466, 7281264451, 7281264468, 7281264470, 7281264452, 7281264453, 9668207353, 7281264454, 7281264455]>, <overpy.Way id=779740770 nodes=[7281264451, 7281264456]>, <overpy.Way id=779740771 nodes=[7281264452, 7281264457]>, <overpy.Way id=779740772 nodes=[7281264458, 9667203262, 9667203270, 9667203264, 7281264459, 9668207356, 7281264467, 7281264460, 7281264469, 7281264461, 7281264471, 7281264462, 7281264472, 9668207357, 7281264463, 9668207355, 7281264464, 9668207359, 7281264465]>, <overpy.Way id=779740773 nodes=[7281264466, 7281264467]>, <overpy.Way id=779740774 nodes=[7281264468, 7281264469]>, <overpy.Way id=779740775 nodes=[7281264470, 7281264471]>, <overpy.Way id=779740776 nodes=[7281264453, 7281264472]>, <overpy.Way id=779740777 nodes=[7281264475, 9110966473, 9130940277, 7281264474, 9136006834]>, <overpy.Way id=779740778 nodes=[7281264474, 9130940276, 7281264476, 9136024721]>, <overpy.Way id=779740779 nodes=[7281264477, 7281308508, 7281264482]>, <overpy.Way id=779740780 nodes=[7281264480, 7281308498]>, <overpy.Way id=779740781 nodes=[7281264478, 9130930615, 9077736043, 7281308525, 7281308526, 7281264479]>, <overpy.Way id=779740782 nodes=[7281308494, 9130940226, 7281308495, 7281308496, 7281308497, 7281308498, 7281264481, 7281264484, 7281308485, 7281308486, 7281264482, 9130940227, 7281264478, 9130940228, 7281308494]>, <overpy.Way id=779740783 nodes=[9140334495, 9135966949, 7281308500, 9130940224, 7281308501, 9130940229]>, <overpy.Way id=779740784 nodes=[7281308500, 9130930609, 9130940225, 9130930610, 7281308502]>, <overpy.Way id=779740785 nodes=[7281308504, 7281308503, 7281308505]>, <overpy.Way id=779740786 nodes=[7281264480, 7281308507, 7281308508]>, <overpy.Way id=779740787 nodes=[7281264480, 9135992138]>, <overpy.Way id=779740788 nodes=[9136013716, 9136024722, 7281308510, 9136024718]>, <overpy.Way id=779740789 nodes=[7281308512, 7281308514, 7281308513]>, <overpy.Way id=779740790 nodes=[7281308514, 7281308516, 7281308515]>, <overpy.Way id=779740791 nodes=[7281308518, 7281308519, 7281308520, 465090767, 9130940236]>, <overpy.Way id=779740792 nodes=[9136006831, 9140334443, 7281308521, 7281308522]>, <overpy.Way id=779740793 nodes=[7281308523, 7281308524, 7281308525]>, <overpy.Way id=779740794 nodes=[7281308526, 7281308527, 7281308528]>, <overpy.Way id=779740795 nodes=[7281308527, 7281308531, 7281308529, 7281308530]>, <overpy.Way id=779740796 nodes=[7281308534, 7281308533, 7281308532, 9130940237]>, <overpy.Way id=779740797 nodes=[7281308536, 7281308537, 7281308541, 7281308538]>, <overpy.Way id=779740798 nodes=[7281308539, 7281308540, 7281308541]>, <overpy.Way id=780036742 nodes=[7283492045, 7283492046, 7283492047]>, <overpy.Way id=780036743 nodes=[7283492048, 9102216009, 9102216008, 7283492072, 7283492051, 7283492052]>, <overpy.Way id=780036744 nodes=[7283492053, 7283492052, 9102215276, 9102215290]>, <overpy.Way id=780036745 nodes=[7283492051, 7283492054, 9102215290, 7283492070, 7283492055, 7434257088]>, <overpy.Way id=780036746 nodes=[642340687, 7434257089, 7283492060, 7283492061, 7434257088]>, <overpy.Way id=780036747 nodes=[7283492062, 7393223959, 7283492063, 7393223960, 7393223961, 7393223962, 7283492064, 7283492065, 401544485, 7434257103, 7283492068, 7283492066, 401563988]>, <overpy.Way id=780036748 nodes=[7283492067, 9684443684, 7283492069, 9501939610, 7281191189]>, <overpy.Way id=780036749 nodes=[7283492068, 7283492069]>, <overpy.Way id=780036750 nodes=[7283492070, 7283492071]>, <overpy.Way id=780036751 nodes=[7283492072, 7283492073, 7283492074]>, <overpy.Way id=780036752 nodes=[7283492075, 9140797382, 9140797379, 7283492076]>, <overpy.Way id=783482415 nodes=[27495897, 7317218682, 7317218677, 7317218678, 7317218679, 7317218680, 7317218681]>, <overpy.Way id=783482419 nodes=[7317218678, 7317218689, 7317218690, 7317218691]>, <overpy.Way id=783482420 nodes=[7317218692, 7317218696, 7317218693, 7317218694, 7317218695]>, <overpy.Way id=783484093 nodes=[7317219673, 7317219675, 30342207]>, <overpy.Way id=783484095 nodes=[401541069, 7317219677, 7317219678, 9277894610]>, <overpy.Way id=783484103 nodes=[7317232894, 7317232893, 9509376259, 7317232892, 7317232891, 9712295934, 7317232890, 7317232889, 9712318580, 7317232888, 7317232887, 7317232948, 7317232886, 7317232885]>, <overpy.Way id=783484104 nodes=[401563981, 9509376260, 526540892, 7317212047, 7317212041, 526540898, 7393223948, 7393223946, 7393223942, 7393223967, 7317232912, 7317232911, 7317232913, 8680629551]>, <overpy.Way id=783484105 nodes=[7317232929, 9155865624, 7317232930, 7317219683, 401541052, 7317219682, 401544481]>, <overpy.Way id=783484107 nodes=[7317232946, 7317232941, 7317232939, 9712295941]>, <overpy.Way id=783484108 nodes=[7317232939, 7317232943]>, <overpy.Way id=783484109 nodes=[7317232941, 9712285738, 9712285737, 7317232942, 7317232943, 7317232940]>, <overpy.Way id=783484110 nodes=[7317232944, 7317232948, 7317232945, 7317232946]>, <overpy.Way id=783484111 nodes=[7317232945, 7317232947, 9150475254]>, <overpy.Way id=783484113 nodes=[7317232950, 7317232951, 9150475245, 9177254381, 7317232952, 9150475255]>, <overpy.Way id=783484114 nodes=[9150475253, 7317232951]>, <overpy.Way id=783484115 nodes=[7317232960, 7317232961, 7317232962, 7317232963, 7317232964]>, <overpy.Way id=783484116 nodes=[7317232969, 7317232970]>, <overpy.Way id=783484942 nodes=[7317211989, 7317211990, 7317211991, 7317211992, 7317211993, 9150433784]>, <overpy.Way id=783484944 nodes=[7317211989, 7317211997, 7317211998]>, <overpy.Way id=783484945 nodes=[7317211989, 7317211999, 9150433783, 7317212000, 7317212001]>, <overpy.Way id=783484947 nodes=[7317212016, 7317212020, 7317212017]>, <overpy.Way id=783484948 nodes=[7317212019, 7317212018, 7317212017, 7317212021]>, <overpy.Way id=783484949 nodes=[7317212023, 6492039829]>, <overpy.Way id=783484952 nodes=[7317212041, 7317212042, 7317212043]>, <overpy.Way id=783484953 nodes=[7317212043, 7317212044, 7317212049]>, <overpy.Way id=783484954 nodes=[7317212049, 7317212045, 7317212046, 7317212047]>, <overpy.Way id=787675270 nodes=[7364594810, 7364594811]>, <overpy.Way id=787675271 nodes=[7364594812, 7364594813]>, <overpy.Way id=787675279 nodes=[7364594837, 7364594835]>, <overpy.Way id=787675280 nodes=[7364594839, 7364594840, 9133614294]>, <overpy.Way id=787675281 nodes=[7364594841, 7364594842, 7426887505]>, <overpy.Way id=787675295 nodes=[7364594934, 7364594936, 9155842507, 9155842506, 7364594935]>, <overpy.Way id=787675296 nodes=[7364594943, 7364594944, 7364594945]>, <overpy.Way id=787675297 nodes=[7364594946, 7364594947, 7364594948]>, <overpy.Way id=787675298 nodes=[7281261050, 7364594949, 7364594950]>, <overpy.Way id=787675300 nodes=[2418408531, 2418408530]>, <overpy.Way id=787675301 nodes=[7364594954, 7364594955]>, <overpy.Way id=787675302 nodes=[1696386971, 7364594957]>, <overpy.Way id=787675303 nodes=[401563985, 7364594961, 7364594962, 7364594963]>, <overpy.Way id=787675304 nodes=[7364594966, 7364594967, 7364594968, 7364594969, 7364594970]>, <overpy.Way id=787675305 nodes=[7364594971, 7364594972, 7364594973, 7364594974, 7364594975]>, <overpy.Way id=787675306 nodes=[7364594977, 7364594978, 7364594979, 7364594980, 7364594981, 7364594982]>, <overpy.Way id=787675310 nodes=[7364595016, 7364595017, 7364595022, 7364595021, 7364595018, 7364595019]>, <overpy.Way id=787675311 nodes=[7364595020, 7364595021]>, <overpy.Way id=787675312 nodes=[7364595022, 7364595023]>, <overpy.Way id=787675313 nodes=[7364595023, 7364595024]>, <overpy.Way id=787675314 nodes=[7364595024, 7364595027, 7364595025, 7364595026]>, <overpy.Way id=787675315 nodes=[7364595027, 7364595028, 7364595029]>, <overpy.Way id=787675316 nodes=[7364595029, 7364595030]>, <overpy.Way id=787675317 nodes=[7364595030, 7364595031, 7364595032, 7364595033]>, <overpy.Way id=787675318 nodes=[7364595034, 7364595036, 7364595035]>, <overpy.Way id=787675319 nodes=[7364595036, 7364595037]>, <overpy.Way id=787675320 nodes=[7364595038, 6154665652]>, <overpy.Way id=787675321 nodes=[7364595041, 7364595042]>, <overpy.Way id=787675322 nodes=[7364594976, 3280440269, 3280440270, 3280440271, 3280440274, 7364595034, 3280440272, 7364595041, 7364595039, 7364595040, 1696386971]>, <overpy.Way id=787675323 nodes=[7364595043, 7364595044]>, <overpy.Way id=787675326 nodes=[7364595064, 7364595065]>, <overpy.Way id=787675329 nodes=[7364595094, 7364595095]>, <overpy.Way id=787675330 nodes=[7364595096, 7364595104]>, <overpy.Way id=787675332 nodes=[7364595104, 7364595120, 7364595117, 7364595105, 7364595115, 7364595106, 7364595113, 7364595108, 7364595109, 7364595110, 7364595111]>, <overpy.Way id=787675333 nodes=[7364595113, 7364595114]>, <overpy.Way id=787675334 nodes=[7364595115, 7364595116]>, <overpy.Way id=787675335 nodes=[7364595117, 7364595118, 7364595119, 7364595120]>, <overpy.Way id=787675337 nodes=[7364595134, 7364595135, 7364595136, 7364595095, 7364595137, 7364595119]>, <overpy.Way id=787675338 nodes=[7364595135, 7364595139, 7364595140, 7364595141, 7364595142]>, <overpy.Way id=787675339 nodes=[7364595139, 7364595143]>, <overpy.Way id=789688386 nodes=[7383296701, 7383296702, 7281224165]>, <overpy.Way id=789688387 nodes=[7281224165, 33721032, 7383296703]>, <overpy.Way id=790025541 nodes=[7386290320, 7386290321]>, <overpy.Way id=790025542 nodes=[9556833093, 7386290323, 7386290324]>, <overpy.Way id=790025543 nodes=[9556833088, 9556833087, 7386290326, 7386290327, 7386290328]>, <overpy.Way id=790025544 nodes=[7386290326, 7386290329]>, <overpy.Way id=790025545 nodes=[7386290327, 7386290330, 7386290331, 7386290332, 7386290333, 7386290334, 7386290335, 7386290336]>, <overpy.Way id=790025550 nodes=[7386290349, 7386290357, 7386290350]>, <overpy.Way id=790025551 nodes=[7386290351, 7386290350, 7386290358, 7386290352]>, <overpy.Way id=790025552 nodes=[7386290356, 7386290357, 7386290358]>, <overpy.Way id=790025553 nodes=[7386290352, 7386290359, 7386290360]>, <overpy.Way id=790025554 nodes=[7386290351, 7386290361]>, <overpy.Way id=790843553 nodes=[7393223942, 7393223965, 7393223943]>, <overpy.Way id=790843554 nodes=[7393223943, 7393223944]>, <overpy.Way id=790843555 nodes=[7393223946, 7393223947]>, <overpy.Way id=790843557 nodes=[7393223948, 7393223957]>, <overpy.Way id=790843558 nodes=[7393223948, 7393223958]>, <overpy.Way id=790843559 nodes=[7393223957, 7393223963, 7393223947]>, <overpy.Way id=790843560 nodes=[7393223947, 7393223964, 7393223965, 7393223966, 7393223967]>, <overpy.Way id=790843561 nodes=[7393223966, 7393223968]>, <overpy.Way id=790843562 nodes=[7393223964, 7393223969]>, <overpy.Way id=793968031 nodes=[7426887503, 7426887504]>, <overpy.Way id=793968038 nodes=[7364595096, 7426887536, 401563935, 642336704]>, <overpy.Way id=793968039 nodes=[7364594835, 7426887538, 7426887537]>, <overpy.Way id=793968051 nodes=[30362877, 7426893331, 7426893332]>, <overpy.Way id=827675557 nodes=[7726944449, 7726944438, 7726944448, 7726944447, 7726944446]>, <overpy.Way id=827675559 nodes=[7726944455, 7726944454]>, <overpy.Way id=827675560 nodes=[7726944457, 7726944456]>, <overpy.Way id=827675561 nodes=[7726944459, 7726944458]>, <overpy.Way id=827675562 nodes=[7726944462, 7726914246, 7726944461, 7726944460, 7726944458, 7726944456, 7726944454, 7726963189, 35721514]>, <overpy.Way id=827675563 nodes=[7726944468, 401558738, 401558737, 401544503, 401544504, 7726944466, 9578090961, 7726944465, 401541047, 7726944464, 9578090958, 7726944463, 401544553, 401544555, 7726944468]>, <overpy.Way id=827675565 nodes=[7726944482, 7726944478, 7726944481]>, <overpy.Way id=827675566 nodes=[7726948087, 7726948086, 7726948085, 7726944484]>, <overpy.Way id=827675572 nodes=[401558737, 9110966466, 401558736, 401558735, 7281185766, 9550828468, 401558734, 7281185767, 9284563308, 9284563306, 7281185778, 9284657179, 9284657180, 401563992]>, <overpy.Way id=827677401 nodes=[7726963211, 9675751164, 9675751163, 9675751160, 7726963212, 9675751161, 9675751159, 9675751167, 7726914283, 7726963301, 7726963302, 9675751166, 7726914255, 9675751165, 9675751162, 7726963211]>, <overpy.Way id=827677406 nodes=[7726963224, 7726914280, 9518377195, 7726963223]>, <overpy.Way id=827677409 nodes=[7726963295, 7726963296, 9675834806, 9675834809, 7726914278, 9675834810, 9675834805, 7726963230, 7726944484]>, <overpy.Way id=827793892 nodes=[7281191196, 9684443671, 7281191195, 35721361, 7281191197, 401563989]>, <overpy.Way id=827962852 nodes=[7729537618, 7729537615]>, <overpy.Way id=827962853 nodes=[7729537604, 642336684, 7364594788, 465188776]>, <overpy.Way id=827962854 nodes=[465188773, 7729537618, 7729537603, 7729537617]>, <overpy.Way id=917960845 nodes=[2003715672, 2003715670, 9091240929, 9091240930, 9091240925, 2003715655]>, <overpy.Way id=917960846 nodes=[7281191194, 7281191193]>, <overpy.Way id=936843582 nodes=[8680629549, 8680629550, 9095117649]>, <overpy.Way id=936843583 nodes=[8680629548, 8680629551, 8680629549]>, <overpy.Way id=936844097 nodes=[8680628977, 8680628978, 8680628979, 8680628985, 8680628980]>, <overpy.Way id=980715734 nodes=[9071818773, 9140041351, 9071818770]>, <overpy.Way id=980715735 nodes=[9071818771, 9284657199]>, <overpy.Way id=981458866 nodes=[2418407365, 305091170]>, <overpy.Way id=983218913 nodes=[108810779, 9203643986, 108810490, 30342168]>, <overpy.Way id=983218914 nodes=[9091240923, 7434257097, 7434257096, 32871499]>, <overpy.Way id=983218915 nodes=[30342168, 8525656139, 8525656138, 8525656137, 2003715672, 7281185750]>, <overpy.Way id=983218916 nodes=[1705398509, 9091240928, 30342168]>, <overpy.Way id=983249894 nodes=[9091466879, 9091466877, 7281272402, 7281272404]>, <overpy.Way id=983249895 nodes=[9091466875, 9091466876]>, <overpy.Way id=983249896 nodes=[9091466876, 9091466879]>, <overpy.Way id=983406843 nodes=[7281261084, 9130940250, 9092632761]>, <overpy.Way id=983681017 nodes=[9095033355, 2164610675]>, <overpy.Way id=983681018 nodes=[9140041355, 9140041354, 927579789]>, <overpy.Way id=983681019 nodes=[2164610675, 9095033352]>, <overpy.Way id=983681020 nodes=[927579789, 9593248328, 9095033353]>, <overpy.Way id=983681021 nodes=[9095033353, 9140041352, 9095033356]>, <overpy.Way id=983681022 nodes=[9095033352, 9284657286, 9095033357]>, <overpy.Way id=983686226 nodes=[9095117649, 9095117648]>, <overpy.Way id=983709585 nodes=[9095293132, 9095309669, 9095293134]>, <overpy.Way id=983710312 nodes=[9095309669, 9095309668]>, <overpy.Way id=983710313 nodes=[9095309668, 9095309670]>, <overpy.Way id=984500792 nodes=[401544493, 401563984, 401563985]>, <overpy.Way id=984500793 nodes=[401544493, 401544687, 401544690]>, <overpy.Way id=984500794 nodes=[401563959, 7364595046, 642340466, 9102215288, 401544690]>, <overpy.Way id=984500795 nodes=[401563961, 401544565, 401563959]>, <overpy.Way id=984500796 nodes=[401544690, 7281272423, 7281272425]>, <overpy.Way id=985515921 nodes=[7281308536, 9110966465, 401544497]>, <overpy.Way id=986058669 nodes=[401541049, 9115439733]>, <overpy.Way id=986058670 nodes=[9115439733, 9115439732]>, <overpy.Way id=986058671 nodes=[2418403632, 9130954372, 9115439743]>, <overpy.Way id=987462562 nodes=[9127297630, 9127297635]>, <overpy.Way id=987462563 nodes=[9127297633, 9127297632]>, <overpy.Way id=987462564 nodes=[9127297635, 9127297637]>, <overpy.Way id=987462565 nodes=[9127297637, 9127297631, 9127297629, 9127297636, 9127297634]>, <overpy.Way id=987462566 nodes=[9127297632, 9127297630]>, <overpy.Way id=987779429 nodes=[9130215996, 9130215997, 9135958224]>, <overpy.Way id=987779430 nodes=[9130215995, 9130215996]>, <overpy.Way id=987856496 nodes=[9130930602, 9130930603]>, <overpy.Way id=987856497 nodes=[387492710, 7281308504, 9130940230, 9130940217]>, <overpy.Way id=987856498 nodes=[9130940218, 7281308503]>, <overpy.Way id=987856499 nodes=[6240010790, 9130940233]>, <overpy.Way id=987856500 nodes=[9130930616, 9130930615]>, <overpy.Way id=987856501 nodes=[9130940219, 7281308501]>, <overpy.Way id=987856502 nodes=[9130940217, 9130940219]>, <overpy.Way id=987856503 nodes=[7281308502, 9130940218]>, <overpy.Way id=987856504 nodes=[9130940222, 7281308505, 9130940221]>, <overpy.Way id=987856505 nodes=[9130940232, 9130940231, 9130940230]>, <overpy.Way id=987856506 nodes=[9130940234, 9135966948, 9140334495]>, <overpy.Way id=987856507 nodes=[9130940233, 7281308521, 7281264480]>, <overpy.Way id=987856508 nodes=[7281308494, 7281308522, 9130940234]>, <overpy.Way id=987856509 nodes=[6154666233, 7281308510, 465090767]>, <overpy.Way id=987856510 nodes=[9130940238, 7281308534, 9130940239]>, <overpy.Way id=987856511 nodes=[9130940240, 9130940264]>, <overpy.Way id=987856512 nodes=[7281308532, 9130940265]>, <overpy.Way id=987856513 nodes=[9130940243, 9130940242]>, <overpy.Way id=987856514 nodes=[9130940245, 9130940244]>, <overpy.Way id=987856515 nodes=[9130940246, 9130940247, 9130940248, 9130940249]>, <overpy.Way id=987856516 nodes=[9600058185, 9130940251]>, <overpy.Way id=987856517 nodes=[305088949, 9130940252, 9130940253, 9130940254]>, <overpy.Way id=987856518 nodes=[9130940265, 9130940241]>, <overpy.Way id=987856519 nodes=[9130940264, 7281308532]>, <overpy.Way id=987856520 nodes=[9130940274, 9130940275]>, <overpy.Way id=987856521 nodes=[9130940276, 9130940277]>, <overpy.Way id=987858959 nodes=[7364594975, 9130954352, 6246290993]>, <overpy.Way id=988153015 nodes=[642336704, 7364594837, 7364594840, 7364594842, 9133614293, 9133614295, 9133614297]>, <overpy.Way id=988153016 nodes=[9133614296, 642336684]>, <overpy.Way id=988153017 nodes=[9133614297, 9133614296]>, <overpy.Way id=988391938 nodes=[9135911709, 9135958217]>, <overpy.Way id=988391940 nodes=[9135958218, 9135911709]>, <overpy.Way id=988391941 nodes=[6719078983, 9135958220]>, <overpy.Way id=988391944 nodes=[9135958217, 9135911715]>, <overpy.Way id=988391945 nodes=[9135958222, 9135958228]>, <overpy.Way id=988391946 nodes=[9135958228, 9135958229]>, <overpy.Way id=988391949 nodes=[9135911715, 6719078984, 6719078983, 401558735]>, <overpy.Way id=988396668 nodes=[9135966950, 9135966949]>, <overpy.Way id=988396669 nodes=[9135966947, 9135966948]>, <overpy.Way id=988397363 nodes=[9135992138, 7281308509]>, <overpy.Way id=988399181 nodes=[9136006831, 9136006833]>, <overpy.Way id=988399182 nodes=[9136006834, 6154666233]>, <overpy.Way id=988399183 nodes=[9136006834, 9136006835, 9136006832, 9136006829, 9136006836, 9203623083, 9136006831]>, <overpy.Way id=988401240 nodes=[9136024717, 9136024721, 9136024720, 9136024723, 9136024724, 9136024719, 9136024722]>, <overpy.Way id=988455238 nodes=[9136490649, 9136490643, 9136490648, 9136490650, 9136490646]>, <overpy.Way id=988455239 nodes=[9136490651, 9136490644]>, <overpy.Way id=988455240 nodes=[9137758993, 9136490646, 108810970]>, <overpy.Way id=988455241 nodes=[9136490645, 9136490647]>, <overpy.Way id=988592199 nodes=[9136490644, 9137758993]>, <overpy.Way id=988592200 nodes=[9137758994, 9136490651]>, <overpy.Way id=988615905 nodes=[9137921814, 9137921805, 9556805318]>, <overpy.Way id=988615906 nodes=[9556805321, 9137925619]>, <overpy.Way id=988615907 nodes=[9077669733, 401563995, 9137921815, 9137921814, 9137925623, 9137925620, 35676233, 35676234, 253273032, 6154664942, 6154664943, 35676220, 35676221, 9191952711, 35676222, 9077669733]>, <overpy.Way id=988615908 nodes=[9137925628, 9137921806, 9137925626, 9137925634]>, <overpy.Way id=988615909 nodes=[9137921810, 9556805320]>, <overpy.Way id=988615911 nodes=[9137925620, 9137921813]>, <overpy.Way id=988615912 nodes=[9137925631, 9556805319]>, <overpy.Way id=988731781 nodes=[9138728846, 9138728848, 9138728844]>, <overpy.Way id=988731782 nodes=[9138728847, 9138728845, 9138728849, 305088290]>, <overpy.Way id=988731783 nodes=[9138728848, 9138728843]>, <overpy.Way id=988731784 nodes=[9138728842, 9138728849]>, <overpy.Way id=988731785 nodes=[9138728843, 9138728842]>, <overpy.Way id=988882915 nodes=[9140041353, 9140041356]>, <overpy.Way id=988882916 nodes=[9140041356, 9140041355]>, <overpy.Way id=988923867 nodes=[9136024718, 9136006836]>, <overpy.Way id=988971592 nodes=[9140797381, 9140797380]>, <overpy.Way id=990206390 nodes=[33721045, 9150433748, 9150433749, 9150433755, 9150433750, 33721046, 9150433756]>, <overpy.Way id=990206391 nodes=[9150433752, 9150433753, 9150433754, 33721045]>, <overpy.Way id=990206392 nodes=[9150433757, 9150433758, 9150433759, 9150433760, 9150433761, 9150433762, 9150433763, 9150433764]>, <overpy.Way id=990206393 nodes=[9150433773, 9150433774, 9150433775, 9150433776, 9150433777]>, <overpy.Way id=990206394 nodes=[9150433782, 9150433783]>, <overpy.Way id=990206395 nodes=[9150433785, 9150433786, 9150433787, 9150433788, 9150433789, 9150433790, 9150433791, 9150433792, 9150433793]>, <overpy.Way id=990213247 nodes=[9150475244, 9177254366]>, <overpy.Way id=990213248 nodes=[9150475252, 7317232950]>, <overpy.Way id=990213249 nodes=[7317232953, 7317232954, 7317232955, 9177254373]>, <overpy.Way id=990213250 nodes=[9150475255, 7317232953]>, <overpy.Way id=990627660 nodes=[9150433756, 9150433751, 9150433752]>, <overpy.Way id=990627661 nodes=[9153613540, 9153613541, 9153613542, 9153613543, 401544462, 9153613544]>, <overpy.Way id=990627662 nodes=[9150433764, 9153613538, 9153613539, 9153613540]>, <overpy.Way id=990924549 nodes=[9155865622, 9155865624, 9155865621, 9155865623]>, <overpy.Way id=993356185 nodes=[9177254382, 9177254371, 9177254362, 9177254368]>, <overpy.Way id=993356186 nodes=[9177254367, 9177254370]>, <overpy.Way id=993356187 nodes=[9177254366, 9177254377, 9177254376, 9177254372, 9177254365, 9177254367, 9177254369]>, <overpy.Way id=993356188 nodes=[7317232955, 9177254363]>, <overpy.Way id=993356189 nodes=[9177254370, 9177254374, 9177261653, 9177254364, 9177261652, 9177254381]>, <overpy.Way id=993356190 nodes=[9177254379, 9150475245]>, <overpy.Way id=993356191 nodes=[9177254376, 9177254379]>, <overpy.Way id=995436751 nodes=[9191952700, 9191952708]>, <overpy.Way id=995436752 nodes=[9077669735, 9191952709]>, <overpy.Way id=995436753 nodes=[9191952704, 9191952712, 9191952701]>, <overpy.Way id=995436754 nodes=[9191952702, 9191952713]>, <overpy.Way id=995436755 nodes=[9191952712, 9191952705, 9191952710, 9191952707, 9191952706, 9191952703, 9191952709, 9191952697]>, <overpy.Way id=995436756 nodes=[9191952713, 9191952711]>, <overpy.Way id=995436757 nodes=[9191952708, 9191952702]>, <overpy.Way id=995436758 nodes=[9191952697, 9191952700]>, <overpy.Way id=995439169 nodes=[9191981626, 9191981625, 9191981624, 9191981623]>, <overpy.Way id=995668285 nodes=[9194043235, 9194043236, 9194043238]>, <overpy.Way id=995668286 nodes=[9194043237, 9194043238, 9194043242, 9194043239, 9194043240, 9194043241, 9194043242]>, <overpy.Way id=996757503 nodes=[7281207391, 7281207392]>, <overpy.Way id=996757504 nodes=[9203643988, 9203643987]>, <overpy.Way id=997613603 nodes=[6154666049, 9211411918, 9211411919, 9176380577, 9176380593, 9176380605, 9176380604, 9176380584, 6154666047, 9130940244, 9211411920, 9211411921, 9211411922, 9211411923, 9130940242, 6154666049]>, <overpy.Way id=998008326 nodes=[9214954288, 9214954293, 9214954289, 9214954290, 9214954291]>, <overpy.Way id=998203381 nodes=[401554669, 401554670]>, <overpy.Way id=998203383 nodes=[401554666, 9216707272, 401554673, 9558379601, 9558379599, 9558379608, 401554671, 9216707270, 401554665, 9216707268, 9216707267, 9558379605, 9216707266, 401550384, 9216707269, 9216707265, 401550383, 9216707271, 401554666]>, <overpy.Way id=998203384 nodes=[9216707257, 401541072, 401550384]>, <overpy.Way id=999325612 nodes=[401544481, 401544713, 9225759372, 30363952, 401544712]>, <overpy.Way id=999325613 nodes=[7317232919, 401544477, 655446916]>, <overpy.Way id=999325615 nodes=[7317232885, 401541053, 7317219683]>, <overpy.Way id=999325617 nodes=[7317232888, 655446919, 7317232928]>, <overpy.Way id=1000919916 nodes=[9239075960, 9239075959]>, <overpy.Way id=1000924778 nodes=[9239139613, 9239139614]>, <overpy.Way id=1000924779 nodes=[7281272403, 9239139613]>, <overpy.Way id=1000924780 nodes=[9239139614, 9239139612]>, <overpy.Way id=1001191440 nodes=[9241415681, 9241415678, 9241415682, 9241415683, 9241415674, 9241415673, 9241415680]>, <overpy.Way id=1001191441 nodes=[9241415673, 9241415677, 9241415675]>, <overpy.Way id=1001191442 nodes=[9241415676, 9241415671, 9241415672, 9558379594, 9241415679, 9241415683]>, <overpy.Way id=1005748255 nodes=[9279442289, 9279442290, 9666981599]>, <overpy.Way id=1005748256 nodes=[7726944445, 7726944446, 9279442291]>, <overpy.Way id=1005748257 nodes=[9279442292, 9279442294, 9279442293]>, <overpy.Way id=1005748258 nodes=[9279442295, 9279442293, 9279442296]>, <overpy.Way id=1006320502 nodes=[401563994, 401544483, 401563988]>, <overpy.Way id=1006320503 nodes=[401556469, 9284563292, 9284563291, 9316158947, 9284563283, 9284563284, 401556470, 9284563295, 9284563285, 9284563294, 9284563286, 2418408412, 9284563287, 9284563288, 401554664, 9284563296, 9284563297, 9284563299, 401541050, 9284563301, 9284563298, 9284563300, 9284563289, 650963259, 401541049, 9284563290, 9316158945, 9284563293, 401556469]>, <overpy.Way id=1006320505 nodes=[401541050, 401541056, 401558732]>, <overpy.Way id=1006320506 nodes=[9284563306, 9115439736, 401556469, 9115439734, 9140017283, 9284563307, 9140017282, 9115439735, 9284563308]>, <overpy.Way id=1006320507 nodes=[401556470, 401556471, 401556472]>, <overpy.Way id=1006320508 nodes=[401556472, 9284563309, 9284657126, 9284657210, 401556473, 9284657209, 9284657125, 9611722170, 9611722176, 9284563310, 401554656, 9284657118, 9284657117, 9558379590, 9558379593, 9558379597, 9241415671, 9284563311, 9284563312, 9284563316, 9284563315, 9284563313, 9241415678, 9241415677, 9284563314, 401556472]>, <overpy.Way id=1006320509 nodes=[401556493, 401554649, 9284657122, 401556474, 401556473, 401554655, 6240010801, 401556494, 401556493]>, <overpy.Way id=1006320510 nodes=[9284657122, 7726898253, 9284657124, 9284657144, 1988454017, 9284657143, 9284657133, 401554639, 9621289855, 401554638, 9284657127, 9284657119, 9284657120, 9284657121, 6240010791, 6240010792, 9611786416, 9611786413, 401556475, 9284657122]>, <overpy.Way id=1006320514 nodes=[401558732, 9284657187, 9191952704, 401541055, 401544569, 401544663, 9301551835, 9284657188, 401544482]>, <overpy.Way id=1006320515 nodes=[401563992, 401558733, 401563993]>, <overpy.Way id=1006320516 nodes=[401544482, 401541054, 401544666]>, <overpy.Way id=1006320520 nodes=[401556495, 650965668, 9140041331, 9194043236, 9140017288]>, <overpy.Way id=1006320521 nodes=[9284657200, 650965668, 30342133]>, <overpy.Way id=1006320522 nodes=[9284657199, 633587108, 9284657203, 9284657200]>, <overpy.Way id=1006320523 nodes=[9284657200, 9284657202, 9284657201, 9284657199]>, <overpy.Way id=1006320524 nodes=[7726898255, 9284794273, 9284657229, 7726898254, 9284794271, 9284794270, 9115439729, 9095033355, 6240010801, 6160675175, 401556495, 9284657204, 9284657205, 9284657206, 9284657207, 9284657208]>, <overpy.Way id=1006320525 nodes=[7726944465, 9140017270, 9284657215, 9284657217, 9284657218, 9284657219, 9284657220, 9284657221, 9284657222, 9284657223]>, <overpy.Way id=1006320527 nodes=[7726944471, 9284657243, 9284657242, 7726963194, 9499866357, 9499866361, 387494344, 9284657260, 9279442294, 9284657245, 9284657248, 9284657249, 9284657251, 7726963193, 9284657252, 9284657250, 9284657247, 9284657246, 9284657259, 7726963299, 9284657234, 7726944442]>, <overpy.Way id=1006320529 nodes=[7726944471, 7726944421, 7726944472]>, <overpy.Way id=1006320530 nodes=[7726963197, 7726914274, 7726963193, 7726914238, 7726963192, 7726914258, 9284657253, 9284794286, 7726963197]>, <overpy.Way id=1006320531 nodes=[387493501, 9284657260, 9284657254, 9284657255, 9284657256, 9284657257, 9284657259, 9284657258]>, <overpy.Way id=1006320532 nodes=[401555284, 9284657268, 9284657267, 401554642, 9284657269, 401556492, 9284657270, 9284657231, 401556493, 9284657166, 9284657165, 9214954293, 9284657273, 401555283, 9284657272, 9284657271, 401555284]>, <overpy.Way id=1006338737 nodes=[7726963207, 7726914256, 7726963203, 7726914237, 7726963202, 7726914277, 7726963208, 7726914239, 7726963207]>, <overpy.Way id=1006338738 nodes=[7726963200, 7726944436, 7726944474]>, <overpy.Way id=1006338739 nodes=[7726914246, 9284794298, 9284794301, 9284794302, 9284794303, 7726963202, 9284794300, 9284794299, 7726963298, 9284794284, 7726963197, 9284794297, 7726963196, 9284794296, 9284794295, 7726963189, 7726963195, 9667054879, 9667054881, 387493310, 9284657263, 7726944472]>, <overpy.Way id=1006338741 nodes=[7726914283, 7726914249, 7726914254, 9284799519, 7726914271, 7726914267, 7726963185, 7726914282, 7726914283]>, <overpy.Way id=1006338743 nodes=[9284794312, 9284794313, 7726963208, 7726963209, 9284794316, 9284794315, 7726963210, 7726944474]>, <overpy.Way id=1006338744 nodes=[7726944482, 9284799521, 9862843937, 9862843934, 9675139943, 9284799522, 7726944483, 9284799523, 7726963229, 9675139949, 9284799524]>, <overpy.Way id=1006338745 nodes=[7726963219, 9284799531, 9674812694, 9284799530, 7726963220, 9284799534, 9675834804, 9675834807, 7726914272, 9675834808, 9675834803, 7726963185, 9675751168, 9284799542, 7726963219]>, <overpy.Way id=1006338746 nodes=[7726944483, 7726944428, 7726944484]>, <overpy.Way id=1008234353 nodes=[9284657190, 9301551838, 9301551837]>, <overpy.Way id=1008234354 nodes=[401563993, 9284657184, 9284657183, 9284657186, 401558732]>, <overpy.Way id=1009697186 nodes=[9316158941, 9316158946, 9316158944, 9316158945]>, <overpy.Way id=1009697187 nodes=[9316158946, 9316158947]>, <overpy.Way id=1019780375 nodes=[305090886, 30363947, 30363948, 30363949, 7383296693, 30363336]>, <overpy.Way id=1019782689 nodes=[7281224176, 34200190, 34200191, 443532631]>, <overpy.Way id=1020855117 nodes=[9415537714, 9415557831]>, <overpy.Way id=1020855120 nodes=[9415557823, 9415557822]>, <overpy.Way id=1020855122 nodes=[9415557831, 9415537716, 9415557823]>, <overpy.Way id=1020855123 nodes=[9415557821, 9415537715, 9415557832]>, <overpy.Way id=1020855124 nodes=[9415537713, 9415557821]>, <overpy.Way id=1020855125 nodes=[9415557832, 9415557829]>, <overpy.Way id=1020856589 nodes=[9415560571, 9415560573]>, <overpy.Way id=1020856590 nodes=[9415560567, 9415560569]>, <overpy.Way id=1020856591 nodes=[9415560572, 927579791]>, <overpy.Way id=1020856592 nodes=[9415560570, 9415560567]>, <overpy.Way id=1020856593 nodes=[9415560568, 9415560572]>, <overpy.Way id=1021018675 nodes=[9415557817, 9415557818, 9416968912, 9416968913, 9416968911, 6154666032, 6154666033, 35675773, 35675774, 9415560574, 9416983217, 9415537712, 9415557833, 9415557826, 9415557827, 9415557820, 9415557829, 9415537714, 9416968916, 9415557817]>, <overpy.Way id=1030583133 nodes=[9499843966, 9667173162, 9279442290]>, <overpy.Way id=1030584016 nodes=[9499866362, 9499866361]>, <overpy.Way id=1030584017 nodes=[9499866356, 9499866362]>, <overpy.Way id=1030584018 nodes=[9499866364, 9499866363, 9499866356]>, <overpy.Way id=1030584020 nodes=[9499866357, 9499866355]>, <overpy.Way id=1030584021 nodes=[9499866355, 9499866364]>, <overpy.Way id=1030584268 nodes=[7726963195, 9667054875, 9667054871, 9667054876]>, <overpy.Way id=1030837000 nodes=[9501939602, 9501939603, 9501939604, 9501939605]>, <overpy.Way id=1030837001 nodes=[9501939606, 9501939608, 9301551835]>, <overpy.Way id=1030837002 nodes=[9501939607, 9501939608]>, <overpy.Way id=1031657698 nodes=[9507884105, 9507884106, 9507884107, 9507884108, 9177254373, 9507884109, 9507884110, 9211245452, 529161879, 529161881, 9211245448, 9211245443, 529161887, 529161885, 529161891, 529161889, 9507884111, 9507884105]>, <overpy.Way id=1031862166 nodes=[7317232911, 401544669, 7317232894]>, <overpy.Way id=1031862167 nodes=[9509376267, 9509376266, 9509376265, 9405612274, 9509376264]>, <overpy.Way id=1031862168 nodes=[7281224178, 9509376267]>, <overpy.Way id=1031862169 nodes=[401563982, 401544672, 401563981]>, <overpy.Way id=1031862170 nodes=[401563900, 401544451, 401563903]>, <overpy.Way id=1031862172 nodes=[401563942, 401544449, 401563941]>, <overpy.Way id=1031862173 nodes=[9509376281, 9509376282, 7386290350]>, <overpy.Way id=1031862174 nodes=[401563920, 9670486801, 9670486810, 401563921, 401563922, 401563923, 401563924, 9670486803, 401563925, 401563926, 401563927, 401563928, 9670486816, 401563929, 9670486802, 9670486808, 9670486807, 9670486792, 401563930, 401563931, 401563932, 401563933, 9670486813, 9670486804, 401563934, 9670486812, 9670486796, 9674832715, 7729537613, 9670486791, 9670502818, 7729537614, 9670486793, 7729537616, 7729255027, 7729255026, 9670486809, 9670486806, 401563920]>, <overpy.Way id=1033114112 nodes=[9518377195, 9518377196]>, <overpy.Way id=1033116558 nodes=[9518400371, 401544548]>, <overpy.Way id=1033116560 nodes=[7060395033, 9518400371]>, <overpy.Way id=1036689266 nodes=[7281185765, 9550828467, 9550828466]>, <overpy.Way id=1036689267 nodes=[7281185765, 9550828465, 9550828468]>, <overpy.Way id=1037431888 nodes=[9556805318, 9137925634]>, <overpy.Way id=1037431889 nodes=[9556805319, 9137925626]>, <overpy.Way id=1037431890 nodes=[9556805320, 9137925628]>, <overpy.Way id=1037431891 nodes=[9137921806, 9556805321]>, <overpy.Way id=1037435419 nodes=[7386290325, 9509376266, 9556833088, 9556833090, 9556833091, 9556833092, 9556833093, 9556833089, 7386290322]>, <overpy.Way id=1037713774 nodes=[9558379590, 9558379591]>, <overpy.Way id=1037713775 nodes=[9558379592, 9558379593]>, <overpy.Way id=1037713776 nodes=[9558379594, 9558379595, 9558379596, 9558379597]>, <overpy.Way id=1037713777 nodes=[9558379598, 9558379602, 9558379599]>, <overpy.Way id=1037713778 nodes=[9558379600, 9558379601]>, <overpy.Way id=1037713779 nodes=[9558379602, 9558379603, 9558379604, 9558379605]>, <overpy.Way id=1037713780 nodes=[9558379603, 9558379606, 9558379607, 9558379608]>, <overpy.Way id=1039101794 nodes=[465188773, 443537322, 443537323, 7729537620]>, <overpy.Way id=1039101797 nodes=[465188776, 401544444, 465188773]>, <overpy.Way id=1039101798 nodes=[401563941, 9509376281, 465188776]>, <overpy.Way id=1039101799 nodes=[401563902, 9604229823, 401563903]>, <overpy.Way id=1039101800 nodes=[7281224179, 7281272446, 401563900]>, <overpy.Way id=1039101801 nodes=[401563903, 9509376275, 401563942]>, <overpy.Way id=1039107447 nodes=[8680629551, 7317212020, 7317232914, 9150433782, 7317211988, 7317232915, 7317232916, 9150433785, 7317232931, 7317232917, 7317232932, 9569094733, 7317232918, 7317232919, 7317232920, 9569094725, 401544475, 401544472, 9569094726, 401544468, 9569094727, 7383296703, 9150433758, 401544465, 401544462, 401544461, 7383296710, 7383296713, 401544458, 9509376264, 9405612272, 401563980]>, <overpy.Way id=1039107448 nodes=[9569094719, 9569094725, 9569094720, 9863762734, 9569094721, 9569094722, 9569094723, 9569094726, 9569094724]>, <overpy.Way id=1039107449 nodes=[9569094727, 9569094728, 9569094729, 9569094730, 9863762733, 9569094731, 9569094732, 9569094733]>, <overpy.Way id=1039107450 nodes=[401544481, 401544479, 9863084879, 7317232922, 7383296722, 655446916, 7317232921, 7317232927, 7317232928, 7317232929]>, <overpy.Way id=1039107451 nodes=[9225759373, 401541051, 401544481]>, <overpy.Way id=1040246726 nodes=[7729537622, 7729255028, 7729537617]>, <overpy.Way id=1040246727 nodes=[7729537617, 7729255016, 7729537616]>, <overpy.Way id=1040246728 nodes=[7726944480, 401563914, 9667200301, 465090740, 9668510470, 7281264456, 7281264457, 9668510466, 9130954378, 9668510467, 9110966464, 9130940274, 7281264475, 9130940232, 387492710, 9110966469, 9110966462, 9110966470, 9130940220, 9130940222, 7281308506, 9130940223, 9110966471, 7726944468, 401558739, 9110966467, 7281308523, 7281264479, 7281308528]>, <overpy.Way id=1040246729 nodes=[7726944480, 7726944475, 401563920]>, <overpy.Way id=1040246730 nodes=[7726944481, 7726944477, 7726944480]>, <overpy.Way id=1040246731 nodes=[7726944481, 7726963222, 9284794306, 7726914271, 9284794311, 9284794312]>, <overpy.Way id=1040246732 nodes=[401563920, 7726944476, 7726944482]>, <overpy.Way id=1040246733 nodes=[9284799524, 7726963215, 7726963216, 9674855620, 7726963217, 9284799525, 7726963218, 7726914280, 9284799520, 7726944482]>, <overpy.Way id=1040246734 nodes=[7726944463, 9110966463, 7726944469, 7726944470, 9284657244, 7726944471]>, <overpy.Way id=1040246735 nodes=[7726944472, 387493308, 9279442289, 7726944473, 7726963200]>, <overpy.Way id=1040246736 nodes=[7726963200, 9284794294, 7726963201, 9499843966, 9667054882, 9667054885, 7726914246]>, <overpy.Way id=1040246737 nodes=[7726944474, 9862843939, 9284794314, 7726944481]>, <overpy.Way id=1040246738 nodes=[9578090958, 9578090960, 9578090962, 9578090959, 401558737]>, <overpy.Way id=1040246739 nodes=[7726944468, 9578090963, 9578090962, 9578090964, 9578090961]>, <overpy.Way id=1040529842 nodes=[9580679986, 9091466880, 401544500]>, <overpy.Way id=1040529843 nodes=[401544502, 7281207386, 9110966474, 401558737]>, <overpy.Way id=1040529844 nodes=[7281308528, 401544557, 9130940239, 9130940241, 9580679986, 401544560, 9130940243, 9130940245, 401544563, 7281308536]>, <overpy.Way id=1040529845 nodes=[7281308528, 108807839, 401544502]>, <overpy.Way id=1040529846 nodes=[9284657215, 7726914244, 9284657224]>, <overpy.Way id=1040529847 nodes=[9284657228, 9284657227, 9284657226, 9284657225, 9284657224, 9284657214, 9284657213, 9284657212, 9284657211, 9284794272, 7726898255]>, <overpy.Way id=1040529848 nodes=[7726944442, 9115439731, 7726898255]>, <overpy.Way id=1040529849 nodes=[7726898255, 9115439730, 401554653]>, <overpy.Way id=1040529853 nodes=[7726944442, 9284657230, 9284657262, 9284657261, 7726944438, 401544548, 9110966472, 7726944441, 7726944464]>, <overpy.Way id=1040529854 nodes=[7726944439, 7726944442]>, <overpy.Way id=1040529871 nodes=[7283492053, 9580680007, 9580680008, 642340488]>, <overpy.Way id=1040529872 nodes=[401563980, 9509376263, 9405612275, 7281224164, 6492068566, 6492068567, 7317212023, 9509376261, 9509376262, 401563981]>, <overpy.Way id=1042094908 nodes=[9593248328, 9095293132]>, <overpy.Way id=1042735170 nodes=[7725595561, 9598183111, 7726944450, 7726963231, 9675751169, 7726914263, 9675751172, 7726963234, 9675751170, 7726963233, 7726963232, 9675751171, 7725595561]>, <overpy.Way id=1042735176 nodes=[7726963207, 7726963300, 7726914254, 9284794307, 9284794305, 9611721412, 7726963221, 7726944452]>, <overpy.Way id=1042978992 nodes=[9600068306, 7281272398]>, <overpy.Way id=1042978993 nodes=[7281272397, 9600068306]>, <overpy.Way id=1042979021 nodes=[9130940250, 9600058185]>, <overpy.Way id=1043081002 nodes=[465090760, 9600731931, 9600731932]>, <overpy.Way id=1043564624 nodes=[401563945, 9604229817, 9604207816]>, <overpy.Way id=1043564625 nodes=[9604207816, 401563943, 9509376283, 9604229822, 9509376278, 401563902]>, <overpy.Way id=1043564626 nodes=[401563901, 9604229821, 401563902]>, <overpy.Way id=1043564627 nodes=[401563900, 7281272435, 9509376268, 401563901]>, <overpy.Way id=1043564628 nodes=[7434257088, 9604229840, 7283492062]>, <overpy.Way id=1043564629 nodes=[7283492062, 7283492057]>, <overpy.Way id=1043564630 nodes=[7317232894, 7317232910, 9501939609, 7317232958, 9863639915, 7317232956, 401544666]>, <overpy.Way id=1043564631 nodes=[401544666, 9284657285, 9284657190]>, <overpy.Way id=1044592318 nodes=[9611722175, 9611722170, 9611722169, 9611722168]>, <overpy.Way id=1044592319 nodes=[9611722171, 9611722167]>, <overpy.Way id=1044592320 nodes=[9611722169, 9611722174, 9611722177, 9611722173]>, <overpy.Way id=1044592321 nodes=[9611722172, 9611722176, 9611722171]>, <overpy.Way id=1044592322 nodes=[9611722167, 9611722173]>, <overpy.Way id=1044592741 nodes=[9611786408, 9611794618, 9611786410, 9611786412]>, <overpy.Way id=1044592742 nodes=[9611786409, 9611786416, 9611786411, 9611794619, 9611786407]>, <overpy.Way id=1044592743 nodes=[9611786415, 9611786413, 9611786414, 9611794617]>, <overpy.Way id=1044593135 nodes=[9611786412, 9611785749, 9611785750]>, <overpy.Way id=1046222773 nodes=[796572739, 796572746, 9216707273, 9216707258, 9216707264, 9216707257, 9216707263, 9611794618, 9216707262, 9216707260]>, <overpy.Way id=1051951705 nodes=[9666981602, 387493309, 9666981600]>, <overpy.Way id=1051952545 nodes=[9667054873, 9667054874, 9667054875]>, <overpy.Way id=1051952546 nodes=[9667054873, 9667054872]>, <overpy.Way id=1051952547 nodes=[9667054876, 9667054873]>, <overpy.Way id=1051952548 nodes=[9667054879, 9667054878, 9667054877]>, <overpy.Way id=1051952549 nodes=[9667054880, 9667054881]>, <overpy.Way id=1051952550 nodes=[9667054882, 9667054883]>, <overpy.Way id=1051952551 nodes=[9667054884, 9667054885]>, <overpy.Way id=1051963099 nodes=[9667173162, 9667173164]>, <overpy.Way id=1051966879 nodes=[9667200300, 9667200299, 9870757309, 9667200295, 470094897]>, <overpy.Way id=1051966880 nodes=[9667200301, 465090738]>, <overpy.Way id=1051966881 nodes=[9667200303, 9667200301]>, <overpy.Way id=1051966882 nodes=[470094897, 9667200301]>, <overpy.Way id=1051966883 nodes=[470094897, 9667200296, 9870757306, 9667200298, 9667200300]>, <overpy.Way id=1051966884 nodes=[9667200297, 9696398608, 9667200302, 9696398607, 465090742]>, <overpy.Way id=1051968115 nodes=[2418403639, 2418403640]>, <overpy.Way id=1051968116 nodes=[9667203266, 9667203269]>, <overpy.Way id=1051968117 nodes=[2418403629, 2418403628]>, <overpy.Way id=1051968262 nodes=[9667202063, 9667202062, 9667202072]>, <overpy.Way id=1051968263 nodes=[9667202064, 9667202066, 9667202073, 9667202068, 9667202067, 9667202069, 9667202070, 9668543951]>, <overpy.Way id=1051968264 nodes=[9667174116, 9667202076, 9667202063]>, <overpy.Way id=1051968652 nodes=[9667202071, 9667174116]>, <overpy.Way id=1052061170 nodes=[9668207358, 9668207354]>, <overpy.Way id=1052084663 nodes=[9668447983, 9668447984, 9668447985, 9668447986, 9668447988, 9668447987, 9668447981]>, <overpy.Way id=1052090404 nodes=[9668510464, 9668510463]>, <overpy.Way id=1052090405 nodes=[6154668187, 7281264453]>, <overpy.Way id=1052090406 nodes=[9668510468, 9668510467]>, <overpy.Way id=1052090407 nodes=[465090787, 9668510465, 9668510468]>, <overpy.Way id=1052090408 nodes=[6154668192, 7281264466]>, <overpy.Way id=1052090409 nodes=[9668510469, 6154668192]>, <overpy.Way id=1052090410 nodes=[465090772, 9668510469, 9668510471]>, <overpy.Way id=1052090411 nodes=[9668510471, 9668510470]>, <overpy.Way id=1052090412 nodes=[9668510465, 6154668187]>, <overpy.Way id=1052095082 nodes=[9668543951, 9667202065, 9667202074, 9667202075, 9667202063]>, <overpy.Way id=1052275803 nodes=[7364595104, 9130939024, 9130954361, 9130954362, 9130954363, 401563907, 9130954364, 7364595096, 7364595094, 9130954365, 9130954379, 7364595134, 7364595142, 9130954366, 9130954367, 9130954368, 9130954369, 9667202062, 465101884, 9130954370, 9130954371, 9667203261, 9130954372, 9130954373, 9130954374, 9130954375, 9130954376, 9130954377, 7726944480]>, <overpy.Way id=1052332506 nodes=[7281272389, 7281272390]>, <overpy.Way id=1052332507 nodes=[9668207361, 9667202064]>, <overpy.Way id=1052735571 nodes=[9674832713, 9674832715, 9674832714]>, <overpy.Way id=1052735572 nodes=[9674832716, 9674855620, 9674855617, 9674855618, 9674855619, 9675139944, 9675139948, 9675139942, 9675139945]>, <overpy.Way id=1052735695 nodes=[9674832716, 9674812694, 9674812693]>, <overpy.Way id=1052771256 nodes=[9675139946, 9675139949, 9675139942]>, <overpy.Way id=1052771257 nodes=[9675139943, 9675139947, 9675139945]>, <overpy.Way id=1053809960 nodes=[9684358609, 9684358605]>, <overpy.Way id=1053809961 nodes=[35721263, 9684358603]>, <overpy.Way id=1053809962 nodes=[9684358605, 9684358608]>, <overpy.Way id=1053809963 nodes=[9684358607, 9684358602]>, <overpy.Way id=1053809964 nodes=[9684358598, 9684358610, 7283492049]>, <overpy.Way id=1053809965 nodes=[9684358601, 9684358599, 9684358600, 9684358611, 9684358604, 9684358609, 9684358607]>, <overpy.Way id=1053819330 nodes=[7281191203, 9684443673, 9684443676, 9684443670, 9684443687, 7434257112]>, <overpy.Way id=1053819331 nodes=[35721360, 9684443674]>, <overpy.Way id=1053819332 nodes=[7434257094, 9684443697]>, <overpy.Way id=1053819333 nodes=[7281191200, 7281191201]>, <overpy.Way id=1053819334 nodes=[9684443687, 6154665794]>, <overpy.Way id=1055236279 nodes=[9696398609, 465090777]>, <overpy.Way id=1055236280 nodes=[9696398610, 465090774]>, <overpy.Way id=1055236281 nodes=[9696398606, 9696398604, 9696398603, 9696398605, 9696398611, 9696398602, 9696398601, 9696398600]>, <overpy.Way id=1056991665 nodes=[9712295936, 7317232937]>, <overpy.Way id=1056991666 nodes=[9712295941, 9712295936]>, <overpy.Way id=1056991667 nodes=[9712295934, 9712295938, 9712295932, 9712295940, 9712295936]>, <overpy.Way id=1056991668 nodes=[9712295941, 9712295935]>, <overpy.Way id=1056994578 nodes=[9712318580, 9712286384]>, <overpy.Way id=1075418194 nodes=[9862843934, 9862843935, 9862843936, 9862843937]>, <overpy.Way id=1075418195 nodes=[9862843938, 9862843939]>, <overpy.Way id=1075434338 nodes=[9863084869, 9863084864, 9863084855, 9863084875, 9863084872, 9863084859, 9863084871, 9863084865]>, <overpy.Way id=1075434545 nodes=[9863084878, 9863084879, 9863084880]>, <overpy.Way id=1075437048 nodes=[9863114730, 9863639915, 9863114731]>, <overpy.Way id=1075513705 nodes=[9863762720, 9863762721]>, <overpy.Way id=1075513706 nodes=[9863762722, 9863762723, 9863762724, 9863762725]>, <overpy.Way id=1075513707 nodes=[9863762726, 9863762727, 9863762728, 9863762729]>, <overpy.Way id=1075513708 nodes=[9863762730, 9863762728]>, <overpy.Way id=1075513709 nodes=[9863762731, 9863762732]>, <overpy.Way id=1076395630 nodes=[9870744305, 9301551849]>]\n",
            "sssss\n",
            "[<overpy.Way id=4754821 nodes=[30342167, 401558734, 6719106985, 108808456, 2418407366, 108807813, 108810779]>, <overpy.Way id=4964337 nodes=[30342171, 7434257090, 7434257091, 32871496, 32871497, 305089193, 32871498, 7434257092, 32871499]>, <overpy.Way id=4976348 nodes=[27495896, 9301551838, 2073937368, 9110807381, 32993825, 32993826]>, <overpy.Way id=4976359 nodes=[9225759367, 32993891, 32993892, 32993830, 32993893, 32993901, 32993894, 1707869217, 33719835, 32993896, 7317218633, 7317218608, 7317218625, 7317218626, 7317218607, 32993897, 7317218588, 401544636]>, <overpy.Way id=4976365 nodes=[32993911, 7317219681, 305088291, 305088292, 401544577]>, <overpy.Way id=5041771 nodes=[33721041, 401544465, 33721042, 33721043, 9150433765, 33721044, 33721045]>, <overpy.Way id=5059259 nodes=[33721047, 526540892, 33721048, 6492039827, 33721049, 6492039828, 6492039823, 6492039824, 6492039825, 6492039826, 33721051]>, <overpy.Way id=5066488 nodes=[34148129, 34148130, 34148131, 9203643990, 9091466878]>, <overpy.Way id=5066490 nodes=[34148128, 305157987, 34148130, 7281185752]>, <overpy.Way id=5068929 nodes=[9569034511, 34200188, 7281232858, 7281232848, 7281232847, 443532617, 7386290361, 7386290356, 7386290349, 7386290360, 7281232869, 7281232868, 9863084865, 7386290372, 7281224176]>, <overpy.Way id=5149991 nodes=[35721255, 9580680007, 9684358598]>, <overpy.Way id=5149993 nodes=[9684358603, 7283492048, 7283492047, 9580680008, 401544488, 35721266]>, <overpy.Way id=5149994 nodes=[35721359, 7434257106, 35721358, 9091240924]>, <overpy.Way id=5150002 nodes=[7281185750, 7281185752, 34148131, 9091240926]>, <overpy.Way id=10905335 nodes=[97157917, 7386262453]>, <overpy.Way id=12028930 nodes=[108805208, 7281261056, 108805414, 7281261057, 401563966]>, <overpy.Way id=12028974 nodes=[108805208, 1696386976, 9091466875, 401544563]>, <overpy.Way id=12029177 nodes=[9091466878, 9203637349, 108810488]>, <overpy.Way id=12029190 nodes=[108807813, 7281185758, 7281185753, 6719106986, 108809598, 6719106990]>, <overpy.Way id=12029238 nodes=[108808195, 6719078982, 108808454, 108809977, 7281185759]>, <overpy.Way id=12029373 nodes=[6719106986, 7281185757, 7281185754, 7281207390, 9135958224, 108809977, 9135958218]>, <overpy.Way id=12029482 nodes=[108810779, 305091170, 9078219312]>, <overpy.Way id=27785505 nodes=[97135135, 7434257102, 7281185781, 305088316, 305088317, 305088318]>, <overpy.Way id=27785507 nodes=[401552235, 9277894611, 7317219674, 305088351, 7317219676, 7317219673, 7317219678, 9277894614, 401541070]>, <overpy.Way id=27785545 nodes=[6246290996, 401563951]>, <overpy.Way id=27785546 nodes=[6246290996, 7364594938, 305088943, 305088945, 7364594943, 7364594946, 305088946, 401563953]>, <overpy.Way id=27785716 nodes=[305091212, 108810972, 9077841796, 9077841804, 9077841801, 9077841799, 305091177, 9077841798, 9077841803, 805726990, 9078219315, 9078219312]>, <overpy.Way id=27785718 nodes=[305091212, 9078209274, 305091206, 305091200, 9078209283, 9078219312]>, <overpy.Way id=27785719 nodes=[305091193, 9078209271, 305091206, 9078209285, 305091177]>, <overpy.Way id=27785720 nodes=[305091177, 9078209276, 305091200, 9078209289, 305091189]>, <overpy.Way id=27785721 nodes=[108810980, 401563990, 9078219313, 305091212]>, <overpy.Way id=27785722 nodes=[9078219312, 9077841805, 9078219314, 9078219311, 305091189, 9077841800, 305091193, 108810970, 9077841802, 9077841797, 305091212]>, <overpy.Way id=27792020 nodes=[305157992, 305157987]>, <overpy.Way id=28160906 nodes=[305088948, 401563969, 309309783, 309309782, 309309781, 309309780, 309309779, 401563972, 34148132]>, <overpy.Way id=33826458 nodes=[387493308, 387493311]>, <overpy.Way id=33826459 nodes=[387493311, 9666981602]>, <overpy.Way id=33826460 nodes=[387493309, 9666981601, 387493310]>, <overpy.Way id=33826593 nodes=[387494344, 7060395033]>, <overpy.Way id=34589159 nodes=[9115439732, 184302687, 184303673, 2418408386]>, <overpy.Way id=34589160 nodes=[401544666, 7317232957, 9863762721, 9863762729, 9863762725, 9863762722, 9863762732, 9150475244, 9177254382, 7317219684, 7317232885]>, <overpy.Way id=34589161 nodes=[401541070, 9277894615, 9216707277, 7317218682, 7317218696, 2418412275, 2418412277, 401554669]>, <overpy.Way id=34589434 nodes=[401544482, 9284657177, 9284657191, 9501939605, 9501939602, 9284657176, 401563994]>, <overpy.Way id=34589435 nodes=[7281308536, 401563961, 9102215282, 7281308538, 7281308539, 9102215277, 1705398648, 9102215286, 9102215280, 9102215293, 9102215289, 9102215275, 9102215285, 9130940252, 9130954356, 401563966, 9130940255, 9130954357, 9130954358, 9130954359, 401563969, 9130954360, 401563972, 7364595104]>, <overpy.Way id=34589436 nodes=[401544557, 7281308535, 7281308530, 7281264477]>, <overpy.Way id=34589437 nodes=[401544560, 9130940240, 2530457213, 9091466874, 1696386978, 7281272402]>, <overpy.Way id=34589438 nodes=[401544497, 2418413132, 7283492077, 305089192, 7281191186, 34148124, 7283492075, 7281191187, 34148125, 34148128, 34148126, 34148129]>, <overpy.Way id=34589440 nodes=[9301551833, 401544658, 401544577, 7317219680, 401544580, 401544582, 401544583]>, <overpy.Way id=34589444 nodes=[401544700, 34957883, 7364594975]>, <overpy.Way id=34590735 nodes=[7281308501, 6240010790]>, <overpy.Way id=34591268 nodes=[401563901, 7364594956, 7281272442, 7364594958, 401544680, 9509376270, 9509376269, 401544678, 9509376271, 401544677, 7281272425, 401544674, 401563985, 7364594959, 7364594960, 401563982]>, <overpy.Way id=34591269 nodes=[401563942, 9509376280, 9509376276, 9509376277, 9604207816]>, <overpy.Way id=34591271 nodes=[7426887535, 7426887534, 642336704, 7364594836, 7364594835, 401563936, 401563937, 401563938, 7364591163, 7364591166, 401563939, 7364591167, 7426893316, 7364591174, 401563940, 7426893331, 7281217937, 7281217945, 7281217942, 7281217940, 7364594797, 401563941]>, <overpy.Way id=34591273 nodes=[401563945, 7426887556, 7426887554, 7426887555, 401563946, 401563947, 401563948, 7364594936, 7364594937, 401563949, 401563950, 9177253852, 401563951, 9177253854, 7364594945, 401563952, 401563953, 7281261049, 401563954, 2418408531, 401563955, 7281261052, 401563956, 401563957, 3280440276, 401563958, 642340478, 7364595045, 9102215292, 401563959]>, <overpy.Way id=34591281 nodes=[401563907, 32330516, 7426887537, 401563975, 401563976, 401563947]>, <overpy.Way id=34591284 nodes=[642340488, 9102215287, 7283492044, 9102215278, 9102215294, 401544493, 9102215281, 7283492045, 642340485, 401544497, 7281113884, 7317232960, 7317232969, 9203637359, 401544500, 9203637356, 7281207388, 401544502]>, <overpy.Way id=34591286 nodes=[401563992, 9284657181, 9284657178, 7434257102, 7281185780, 9136490649, 401563990, 401563989, 7281191189, 401563988]>, <overpy.Way id=34591287 nodes=[401563994, 9284657193, 9284657192, 401563995, 9137921815, 9137925631, 9137921810, 9284657185, 9284657182, 401563993]>, <overpy.Way id=34591288 nodes=[32993913, 401563995, 9077669733, 305088289, 9077669734, 9138728846, 305088290, 9191952698, 9077669735, 9191952699, 32993912, 401541055, 9137925629]>, <overpy.Way id=37813762 nodes=[7281232868, 443532625, 443532628, 27495909]>, <overpy.Way id=37924150 nodes=[6240010793, 9284563304, 9284563305, 445180155, 9284563302, 650963395, 9284563303, 650963259]>, <overpy.Way id=39014299 nodes=[465090742, 9667200300]>, <overpy.Way id=39014301 nodes=[465090738, 465090740, 7281264473, 465101889, 7281264458, 465101885, 465101887, 465090749, 7281272388, 7281272389, 465090751, 465090753, 9130940262, 7281272387, 9130940261, 465090755, 9130940263, 465090757, 465103469, 465090759, 9130940260, 465090760, 9127297634, 465090770, 7281308518, 465090764, 7281264465, 7281308512, 7281264455, 9668510464, 9110966464, 465090763]>, <overpy.Way id=39014302 nodes=[465090784, 9668510450, 465090764, 7281308515, 9130940235]>, <overpy.Way id=39014303 nodes=[465090768, 465090770, 465090781]>, <overpy.Way id=39014648 nodes=[9668207360, 465101884, 665044342, 9668207358, 9667203266, 665044347, 465090749]>, <overpy.Way id=39014649 nodes=[465101885, 465101886]>, <overpy.Way id=39014650 nodes=[465101887, 465101888]>, <overpy.Way id=39014651 nodes=[465101889, 465101890, 465101891]>, <overpy.Way id=39014665 nodes=[465103469, 465103470, 2418403627, 9130940258, 9130940259, 7281272395, 2418403626]>, <overpy.Way id=39239293 nodes=[470094897, 2418403641, 470094898, 7281264447, 7281264448, 9667203260, 2418403639, 9667203263, 2418403637, 2418403634, 9667203268, 2418403632, 2418403630, 2418403628]>, <overpy.Way id=42393434 nodes=[401554664, 529211793, 401554669]>, <overpy.Way id=47388323 nodes=[305091352, 9087842683, 9115439729, 603252397]>, <overpy.Way id=49610155 nodes=[7281261084, 9130940246, 630884307, 2418403626, 665044350, 9102215291, 7281272386, 9102215279, 465090751]>, <overpy.Way id=49866821 nodes=[305091352, 633587089, 9095033357, 9078263853, 9078263849, 2164610681, 9095033356, 9071818770, 633587099, 9140041331, 401554663]>, <overpy.Way id=50497738 nodes=[642340478, 642340466]>, <overpy.Way id=50497739 nodes=[642340485, 6240010787, 7283492046, 642340488]>, <overpy.Way id=50497740 nodes=[401544690, 7364595043, 401544693, 401544695, 7364595033, 1696386971, 401544697, 7364595035, 7364595038, 7364594977, 3280440265, 7364594955, 401544700, 7364594970, 9133614292, 401563945]>, <overpy.Way id=50497742 nodes=[34148129, 7283492058, 7283492059, 642340687]>, <overpy.Way id=141901081 nodes=[1553158939, 6719106988, 7281207387, 401544502]>, <overpy.Way id=157419416 nodes=[31395374, 401544485, 30342173, 7283492067, 7281191194, 32367543, 7434257098, 1696386974, 9091240923]>, <overpy.Way id=157419428 nodes=[305088948, 9130954359, 1696386973]>, <overpy.Way id=157419434 nodes=[7281264477, 9091668551, 9130930602, 9127297633, 9140334442, 108805207, 9140374847, 7281272399]>, <overpy.Way id=158313781 nodes=[7281264447, 7726944480]>, <overpy.Way id=158313823 nodes=[1705398509, 7283572590, 7283572591, 7281185777, 9078270561, 305091177]>, <overpy.Way id=158313838 nodes=[108805209, 1705398648]>, <overpy.Way id=189769897 nodes=[32871499, 7434257093, 9078270559, 2003715649, 7434257094, 30342171]>, <overpy.Way id=206455297 nodes=[2164610677, 2164610681]>, <overpy.Way id=233456180 nodes=[2418403629, 2418403631, 2418403633, 2418403636, 2418403638, 2418403640]>, <overpy.Way id=233456183 nodes=[2418403637, 2418403638]>, <overpy.Way id=233456185 nodes=[2418403634, 2418403636]>, <overpy.Way id=233456187 nodes=[2418403632, 2418403633]>, <overpy.Way id=233456189 nodes=[2418403631, 2418403630]>, <overpy.Way id=233456697 nodes=[2418407372, 2418407371]>, <overpy.Way id=233456698 nodes=[2418407366, 2418407367, 2418407368, 2418407365]>, <overpy.Way id=233456699 nodes=[2418407367, 2418407370, 2418407372, 2418407373, 305088318, 2418407371, 2418407369, 2418407370]>, <overpy.Way id=233456782 nodes=[6240010795, 2418408401, 2418408400]>, <overpy.Way id=233456783 nodes=[9239110876, 2418408388, 9239110874]>, <overpy.Way id=233456784 nodes=[2418408410, 2418408408, 2418408405]>, <overpy.Way id=233456785 nodes=[2418408386, 2418408384, 6240010793, 2418408381]>, <overpy.Way id=233456786 nodes=[2418408396, 2418408398, 2418408403]>, <overpy.Way id=233456787 nodes=[2418408384, 2418408388, 2418408398, 2418408408]>, <overpy.Way id=233456788 nodes=[2418408414, 2418408412, 2418408410, 2418408400, 2418408393, 2418408392]>, <overpy.Way id=233458024 nodes=[9670486797, 401563923, 9670486799, 2418412219, 9670548522, 9670486814, 2418412218]>, <overpy.Way id=233458034 nodes=[9216707276, 2418412276, 9216707275, 2418412275]>, <overpy.Way id=233458035 nodes=[2418412277, 7060395034, 2418412276, 2418412274]>, <overpy.Way id=321302033 nodes=[3280440275, 3280440265, 7364594984, 3280440266, 7364594983, 3280440267]>, <overpy.Way id=321302034 nodes=[3280440266, 3280440268, 7364594976]>, <overpy.Way id=321302035 nodes=[3280440276, 9177254375, 9177254378, 3280440273, 7281261046, 7281261048, 7281261045, 3280440274]>, <overpy.Way id=691742392 nodes=[33721055, 6492039838, 9150433773, 33721056, 526540898, 27495911]>, <overpy.Way id=691742393 nodes=[33721051, 9150433772, 33721052, 33721053, 33721054, 33721055]>, <overpy.Way id=691742394 nodes=[6492039826, 6492039829]>, <overpy.Way id=691743555 nodes=[6492068562, 6492068566, 6492068563, 9150433766, 9150433767, 7317212051, 7317212050, 6492068564, 6492068567, 6492068565]>, <overpy.Way id=714852458 nodes=[9135958223, 6719078982, 9135911713, 9135958219, 6719078983]>, <overpy.Way id=714852459 nodes=[6719106985, 7281185760, 6719078984]>, <overpy.Way id=714852460 nodes=[1553158939, 7281207389, 9135958223]>, <overpy.Way id=714852461 nodes=[108808195, 7281185783]>, <overpy.Way id=714852462 nodes=[6719106990, 6719106989]>, <overpy.Way id=714852463 nodes=[6719106989, 108807639]>, <overpy.Way id=779727913 nodes=[7281113884, 9140797381, 7317232964, 7281191185, 6154665864]>, <overpy.Way id=779727914 nodes=[7281191185, 7281191186]>, <overpy.Way id=779727915 nodes=[34148129, 35721491]>, <overpy.Way id=779727916 nodes=[7281191187, 7281191188]>, <overpy.Way id=779727917 nodes=[35721360, 7281191190, 7281191191, 9684443699, 1696386974]>, <overpy.Way id=779727918 nodes=[7281191193, 9091240927, 7281191192, 9684443701, 7281191196, 7434257101, 7434257100, 35721360]>, <overpy.Way id=779727919 nodes=[7281191197, 7281191193]>, <overpy.Way id=779727920 nodes=[7281191196, 7434257107, 9684443698, 7281191199, 7434257108, 7434257109, 7434257110, 7434257111, 7434257112, 7434257113, 7281191200]>, <overpy.Way id=779727921 nodes=[7281191202, 7281191203, 7281191204, 7281191196]>, <overpy.Way id=779727922 nodes=[7281191205, 7281191206, 7281191208, 7281191202]>, <overpy.Way id=779727923 nodes=[7281191206, 7281191207, 7281191208]>, <overpy.Way id=779727924 nodes=[7281191202, 6154665783]>, <overpy.Way id=779727925 nodes=[7281191207, 7281191209]>, <overpy.Way id=779727926 nodes=[9684443674, 7434257099, 35721359, 7281191210, 7434257095, 2003715649]>, <overpy.Way id=779727927 nodes=[7281191210, 35721358, 7281191205]>, <overpy.Way id=779727928 nodes=[1696386974, 7281191211, 7281191210]>, <overpy.Way id=779730342 nodes=[30342171, 8525656141, 8525656140, 7317232965, 35721491, 2003715653, 2003715655, 7281185750]>, <overpy.Way id=779730343 nodes=[7281185754, 7281185755, 9135911712, 9135958222]>, <overpy.Way id=779730344 nodes=[7281185755, 7281185756, 7281185757]>, <overpy.Way id=779730345 nodes=[7281185761, 7281185760, 7281185759, 7281185758]>, <overpy.Way id=779730346 nodes=[7281185763, 7281185764]>, <overpy.Way id=779730347 nodes=[7281185766, 7281185765, 7281185763, 7281185762, 7281185761]>, <overpy.Way id=779730348 nodes=[1720958476, 9611710764, 9611710763, 7281185768, 7281185767]>, <overpy.Way id=779730349 nodes=[32993998, 9136490645, 7281185768]>, <overpy.Way id=779730350 nodes=[7281185752, 35721488, 7281185772, 7281185770, 9203643986]>, <overpy.Way id=779730351 nodes=[7281185771, 7281185773, 7281185772]>, <overpy.Way id=779730352 nodes=[7281185773, 7281185774, 7281185775, 7281185770]>, <overpy.Way id=779730353 nodes=[7281191205, 1705398509, 9684443688, 7281185776, 9203643986]>, <overpy.Way id=779730354 nodes=[7281185778, 7281185779, 7281185781, 7281185780]>, <overpy.Way id=779730355 nodes=[7281207385, 9191949437, 7281185784, 9191949438, 7281185783]>, <overpy.Way id=779730356 nodes=[7281207386, 7281207387]>, <overpy.Way id=779730357 nodes=[7281185783, 6719106988, 7281207388]>, <overpy.Way id=779730358 nodes=[7281207389, 9135958229, 9130215994, 9130215995]>, <overpy.Way id=779733626 nodes=[7281224165, 7281224166, 7281224167, 7281224168, 7281224169, 7281224170, 7281224171, 7281224172]>, <overpy.Way id=779733627 nodes=[97157913, 97157917, 7386290320, 97157920, 97157922]>, <overpy.Way id=779733628 nodes=[8680578966, 7281224176]>, <overpy.Way id=779733629 nodes=[34200190, 8680578966, 7281224177, 7281224178]>, <overpy.Way id=779733630 nodes=[401563980, 401544452, 7281224179, 7281224180, 7281224178]>, <overpy.Way id=779733635 nodes=[31395360, 7281232400]>, <overpy.Way id=779735070 nodes=[9863084829, 443532625, 7281232869]>, <overpy.Way id=779736716 nodes=[6246290996, 7364595064, 305088939]>, <overpy.Way id=779736717 nodes=[6246290993, 305088939]>, <overpy.Way id=779738195 nodes=[3280440269, 7364594951, 7364594952, 7281261047, 7281261048]>, <overpy.Way id=779738196 nodes=[7281261049, 7281261050, 2418408530]>, <overpy.Way id=779738197 nodes=[2418408530, 7281261051, 7281261052]>, <overpy.Way id=779738198 nodes=[7281272385, 108805209, 9102215274, 9102215283, 9102215284, 9102215293, 401563960]>, <overpy.Way id=779738199 nodes=[7281261058, 7281261059, 108805414]>, <overpy.Way id=779738200 nodes=[7281261060, 7281261058]>, <overpy.Way id=779738201 nodes=[30342093, 9130940255, 7281261061, 7281261060]>, <overpy.Way id=779738202 nodes=[7281261062, 7364595112, 7281261063]>, <overpy.Way id=779738203 nodes=[1696386973, 7281261055, 7281261062, 7281261053, 7281261061, 7281261054, 108805414]>, <overpy.Way id=779738204 nodes=[1696386973, 7281261064, 7281261065]>, <overpy.Way id=779738205 nodes=[7281261064, 7281261063, 7281261066, 7281261068]>, <overpy.Way id=779738206 nodes=[7281261070, 7281261069, 7281261068, 7281261071]>, <overpy.Way id=779738207 nodes=[7281261068, 7281261084]>, <overpy.Way id=779738208 nodes=[108805208, 7281272385]>, <overpy.Way id=779738210 nodes=[9668207361, 7281272391, 9130940256, 7281272392, 9130940257, 7281272393, 2418403626]>, <overpy.Way id=779738211 nodes=[7281272390, 9668207361]>, <overpy.Way id=779738212 nodes=[7281272395, 7281272396, 7281272397]>, <overpy.Way id=779738213 nodes=[9092632761, 108805208]>, <overpy.Way id=779738214 nodes=[7281272399, 9140374848, 630884295, 9092632761]>, <overpy.Way id=779738215 nodes=[7281272399, 7281272400, 9091668553, 7281272401]>, <overpy.Way id=779738216 nodes=[7281272405, 7281272403, 1696386976]>, <overpy.Way id=779738217 nodes=[7281272404, 7281272405]>, <overpy.Way id=779738219 nodes=[401544500, 108810488]>, <overpy.Way id=779738220 nodes=[108810488, 7281272406, 9203637351, 108807639, 9267152579, 1553158939, 108808195, 7281207385, 7281185782, 108807642, 401558736, 108807643]>, <overpy.Way id=779738221 nodes=[7281272406, 7281207391, 9203643985, 108810489, 9203643988, 35721488, 108810490]>, <overpy.Way id=779738225 nodes=[7281272425, 7281272424]>, <overpy.Way id=779738226 nodes=[7281272424, 7281272426, 7281272427, 7281272428, 7281272429]>, <overpy.Way id=779738227 nodes=[7281272427, 7281272430]>, <overpy.Way id=779738228 nodes=[7281272430, 7281272431]>, <overpy.Way id=779738229 nodes=[7281272432, 7281272435, 7281272450, 7281272433, 7281272434]>, <overpy.Way id=779738230 nodes=[7281272440, 7281272442, 7281272441]>, <overpy.Way id=779738231 nodes=[7281272441, 7281272434]>, <overpy.Way id=779738232 nodes=[7281272433, 7281272443, 7281272444, 7281272445, 7281272446]>, <overpy.Way id=779738233 nodes=[7281272443, 7281272447, 7281272448, 7281272449]>, <overpy.Way id=779740769 nodes=[465101891, 7281264466, 7281264451, 7281264468, 7281264470, 7281264452, 7281264453, 9668207353, 7281264454, 7281264455]>, <overpy.Way id=779740770 nodes=[7281264451, 7281264456]>, <overpy.Way id=779740771 nodes=[7281264452, 7281264457]>, <overpy.Way id=779740772 nodes=[7281264458, 9667203262, 9667203270, 9667203264, 7281264459, 9668207356, 7281264467, 7281264460, 7281264469, 7281264461, 7281264471, 7281264462, 7281264472, 9668207357, 7281264463, 9668207355, 7281264464, 9668207359, 7281264465]>, <overpy.Way id=779740773 nodes=[7281264466, 7281264467]>, <overpy.Way id=779740774 nodes=[7281264468, 7281264469]>, <overpy.Way id=779740775 nodes=[7281264470, 7281264471]>, <overpy.Way id=779740776 nodes=[7281264453, 7281264472]>, <overpy.Way id=779740777 nodes=[7281264475, 9110966473, 9130940277, 7281264474, 9136006834]>, <overpy.Way id=779740778 nodes=[7281264474, 9130940276, 7281264476, 9136024721]>, <overpy.Way id=779740779 nodes=[7281264477, 7281308508, 7281264482]>, <overpy.Way id=779740780 nodes=[7281264480, 7281308498]>, <overpy.Way id=779740781 nodes=[7281264478, 9130930615, 9077736043, 7281308525, 7281308526, 7281264479]>, <overpy.Way id=779740782 nodes=[7281308494, 9130940226, 7281308495, 7281308496, 7281308497, 7281308498, 7281264481, 7281264484, 7281308485, 7281308486, 7281264482, 9130940227, 7281264478, 9130940228, 7281308494]>, <overpy.Way id=779740783 nodes=[9140334495, 9135966949, 7281308500, 9130940224, 7281308501, 9130940229]>, <overpy.Way id=779740784 nodes=[7281308500, 9130930609, 9130940225, 9130930610, 7281308502]>, <overpy.Way id=779740785 nodes=[7281308504, 7281308503, 7281308505]>, <overpy.Way id=779740786 nodes=[7281264480, 7281308507, 7281308508]>, <overpy.Way id=779740787 nodes=[7281264480, 9135992138]>, <overpy.Way id=779740788 nodes=[9136013716, 9136024722, 7281308510, 9136024718]>, <overpy.Way id=779740789 nodes=[7281308512, 7281308514, 7281308513]>, <overpy.Way id=779740790 nodes=[7281308514, 7281308516, 7281308515]>, <overpy.Way id=779740791 nodes=[7281308518, 7281308519, 7281308520, 465090767, 9130940236]>, <overpy.Way id=779740792 nodes=[9136006831, 9140334443, 7281308521, 7281308522]>, <overpy.Way id=779740793 nodes=[7281308523, 7281308524, 7281308525]>, <overpy.Way id=779740794 nodes=[7281308526, 7281308527, 7281308528]>, <overpy.Way id=779740795 nodes=[7281308527, 7281308531, 7281308529, 7281308530]>, <overpy.Way id=779740796 nodes=[7281308534, 7281308533, 7281308532, 9130940237]>, <overpy.Way id=779740797 nodes=[7281308536, 7281308537, 7281308541, 7281308538]>, <overpy.Way id=779740798 nodes=[7281308539, 7281308540, 7281308541]>, <overpy.Way id=780036742 nodes=[7283492045, 7283492046, 7283492047]>, <overpy.Way id=780036743 nodes=[7283492048, 9102216009, 9102216008, 7283492072, 7283492051, 7283492052]>, <overpy.Way id=780036744 nodes=[7283492053, 7283492052, 9102215276, 9102215290]>, <overpy.Way id=780036745 nodes=[7283492051, 7283492054, 9102215290, 7283492070, 7283492055, 7434257088]>, <overpy.Way id=780036746 nodes=[642340687, 7434257089, 7283492060, 7283492061, 7434257088]>, <overpy.Way id=780036747 nodes=[7283492062, 7393223959, 7283492063, 7393223960, 7393223961, 7393223962, 7283492064, 7283492065, 401544485, 7434257103, 7283492068, 7283492066, 401563988]>, <overpy.Way id=780036748 nodes=[7283492067, 9684443684, 7283492069, 9501939610, 7281191189]>, <overpy.Way id=780036749 nodes=[7283492068, 7283492069]>, <overpy.Way id=780036750 nodes=[7283492070, 7283492071]>, <overpy.Way id=780036751 nodes=[7283492072, 7283492073, 7283492074]>, <overpy.Way id=780036752 nodes=[7283492075, 9140797382, 9140797379, 7283492076]>, <overpy.Way id=783482415 nodes=[27495897, 7317218682, 7317218677, 7317218678, 7317218679, 7317218680, 7317218681]>, <overpy.Way id=783482419 nodes=[7317218678, 7317218689, 7317218690, 7317218691]>, <overpy.Way id=783482420 nodes=[7317218692, 7317218696, 7317218693, 7317218694, 7317218695]>, <overpy.Way id=783484093 nodes=[7317219673, 7317219675, 30342207]>, <overpy.Way id=783484095 nodes=[401541069, 7317219677, 7317219678, 9277894610]>, <overpy.Way id=783484103 nodes=[7317232894, 7317232893, 9509376259, 7317232892, 7317232891, 9712295934, 7317232890, 7317232889, 9712318580, 7317232888, 7317232887, 7317232948, 7317232886, 7317232885]>, <overpy.Way id=783484104 nodes=[401563981, 9509376260, 526540892, 7317212047, 7317212041, 526540898, 7393223948, 7393223946, 7393223942, 7393223967, 7317232912, 7317232911, 7317232913, 8680629551]>, <overpy.Way id=783484105 nodes=[7317232929, 9155865624, 7317232930, 7317219683, 401541052, 7317219682, 401544481]>, <overpy.Way id=783484107 nodes=[7317232946, 7317232941, 7317232939, 9712295941]>, <overpy.Way id=783484108 nodes=[7317232939, 7317232943]>, <overpy.Way id=783484109 nodes=[7317232941, 9712285738, 9712285737, 7317232942, 7317232943, 7317232940]>, <overpy.Way id=783484110 nodes=[7317232944, 7317232948, 7317232945, 7317232946]>, <overpy.Way id=783484111 nodes=[7317232945, 7317232947, 9150475254]>, <overpy.Way id=783484113 nodes=[7317232950, 7317232951, 9150475245, 9177254381, 7317232952, 9150475255]>, <overpy.Way id=783484114 nodes=[9150475253, 7317232951]>, <overpy.Way id=783484115 nodes=[7317232960, 7317232961, 7317232962, 7317232963, 7317232964]>, <overpy.Way id=783484116 nodes=[7317232969, 7317232970]>, <overpy.Way id=783484942 nodes=[7317211989, 7317211990, 7317211991, 7317211992, 7317211993, 9150433784]>, <overpy.Way id=783484944 nodes=[7317211989, 7317211997, 7317211998]>, <overpy.Way id=783484945 nodes=[7317211989, 7317211999, 9150433783, 7317212000, 7317212001]>, <overpy.Way id=783484947 nodes=[7317212016, 7317212020, 7317212017]>, <overpy.Way id=783484948 nodes=[7317212019, 7317212018, 7317212017, 7317212021]>, <overpy.Way id=783484949 nodes=[7317212023, 6492039829]>, <overpy.Way id=783484952 nodes=[7317212041, 7317212042, 7317212043]>, <overpy.Way id=783484953 nodes=[7317212043, 7317212044, 7317212049]>, <overpy.Way id=783484954 nodes=[7317212049, 7317212045, 7317212046, 7317212047]>, <overpy.Way id=787675270 nodes=[7364594810, 7364594811]>, <overpy.Way id=787675271 nodes=[7364594812, 7364594813]>, <overpy.Way id=787675279 nodes=[7364594837, 7364594835]>, <overpy.Way id=787675280 nodes=[7364594839, 7364594840, 9133614294]>, <overpy.Way id=787675281 nodes=[7364594841, 7364594842, 7426887505]>, <overpy.Way id=787675295 nodes=[7364594934, 7364594936, 9155842507, 9155842506, 7364594935]>, <overpy.Way id=787675296 nodes=[7364594943, 7364594944, 7364594945]>, <overpy.Way id=787675297 nodes=[7364594946, 7364594947, 7364594948]>, <overpy.Way id=787675298 nodes=[7281261050, 7364594949, 7364594950]>, <overpy.Way id=787675300 nodes=[2418408531, 2418408530]>, <overpy.Way id=787675301 nodes=[7364594954, 7364594955]>, <overpy.Way id=787675302 nodes=[1696386971, 7364594957]>, <overpy.Way id=787675303 nodes=[401563985, 7364594961, 7364594962, 7364594963]>, <overpy.Way id=787675304 nodes=[7364594966, 7364594967, 7364594968, 7364594969, 7364594970]>, <overpy.Way id=787675305 nodes=[7364594971, 7364594972, 7364594973, 7364594974, 7364594975]>, <overpy.Way id=787675306 nodes=[7364594977, 7364594978, 7364594979, 7364594980, 7364594981, 7364594982]>, <overpy.Way id=787675310 nodes=[7364595016, 7364595017, 7364595022, 7364595021, 7364595018, 7364595019]>, <overpy.Way id=787675311 nodes=[7364595020, 7364595021]>, <overpy.Way id=787675312 nodes=[7364595022, 7364595023]>, <overpy.Way id=787675313 nodes=[7364595023, 7364595024]>, <overpy.Way id=787675314 nodes=[7364595024, 7364595027, 7364595025, 7364595026]>, <overpy.Way id=787675315 nodes=[7364595027, 7364595028, 7364595029]>, <overpy.Way id=787675316 nodes=[7364595029, 7364595030]>, <overpy.Way id=787675317 nodes=[7364595030, 7364595031, 7364595032, 7364595033]>, <overpy.Way id=787675318 nodes=[7364595034, 7364595036, 7364595035]>, <overpy.Way id=787675319 nodes=[7364595036, 7364595037]>, <overpy.Way id=787675320 nodes=[7364595038, 6154665652]>, <overpy.Way id=787675321 nodes=[7364595041, 7364595042]>, <overpy.Way id=787675322 nodes=[7364594976, 3280440269, 3280440270, 3280440271, 3280440274, 7364595034, 3280440272, 7364595041, 7364595039, 7364595040, 1696386971]>, <overpy.Way id=787675323 nodes=[7364595043, 7364595044]>, <overpy.Way id=787675326 nodes=[7364595064, 7364595065]>, <overpy.Way id=787675329 nodes=[7364595094, 7364595095]>, <overpy.Way id=787675330 nodes=[7364595096, 7364595104]>, <overpy.Way id=787675332 nodes=[7364595104, 7364595120, 7364595117, 7364595105, 7364595115, 7364595106, 7364595113, 7364595108, 7364595109, 7364595110, 7364595111]>, <overpy.Way id=787675333 nodes=[7364595113, 7364595114]>, <overpy.Way id=787675334 nodes=[7364595115, 7364595116]>, <overpy.Way id=787675335 nodes=[7364595117, 7364595118, 7364595119, 7364595120]>, <overpy.Way id=787675337 nodes=[7364595134, 7364595135, 7364595136, 7364595095, 7364595137, 7364595119]>, <overpy.Way id=787675338 nodes=[7364595135, 7364595139, 7364595140, 7364595141, 7364595142]>, <overpy.Way id=787675339 nodes=[7364595139, 7364595143]>, <overpy.Way id=789688386 nodes=[7383296701, 7383296702, 7281224165]>, <overpy.Way id=789688387 nodes=[7281224165, 33721032, 7383296703]>, <overpy.Way id=790025541 nodes=[7386290320, 7386290321]>, <overpy.Way id=790025542 nodes=[9556833093, 7386290323, 7386290324]>, <overpy.Way id=790025543 nodes=[9556833088, 9556833087, 7386290326, 7386290327, 7386290328]>, <overpy.Way id=790025544 nodes=[7386290326, 7386290329]>, <overpy.Way id=790025545 nodes=[7386290327, 7386290330, 7386290331, 7386290332, 7386290333, 7386290334, 7386290335, 7386290336]>, <overpy.Way id=790025550 nodes=[7386290349, 7386290357, 7386290350]>, <overpy.Way id=790025551 nodes=[7386290351, 7386290350, 7386290358, 7386290352]>, <overpy.Way id=790025552 nodes=[7386290356, 7386290357, 7386290358]>, <overpy.Way id=790025553 nodes=[7386290352, 7386290359, 7386290360]>, <overpy.Way id=790025554 nodes=[7386290351, 7386290361]>, <overpy.Way id=790843553 nodes=[7393223942, 7393223965, 7393223943]>, <overpy.Way id=790843554 nodes=[7393223943, 7393223944]>, <overpy.Way id=790843555 nodes=[7393223946, 7393223947]>, <overpy.Way id=790843557 nodes=[7393223948, 7393223957]>, <overpy.Way id=790843558 nodes=[7393223948, 7393223958]>, <overpy.Way id=790843559 nodes=[7393223957, 7393223963, 7393223947]>, <overpy.Way id=790843560 nodes=[7393223947, 7393223964, 7393223965, 7393223966, 7393223967]>, <overpy.Way id=790843561 nodes=[7393223966, 7393223968]>, <overpy.Way id=790843562 nodes=[7393223964, 7393223969]>, <overpy.Way id=793968031 nodes=[7426887503, 7426887504]>, <overpy.Way id=793968038 nodes=[7364595096, 7426887536, 401563935, 642336704]>, <overpy.Way id=793968039 nodes=[7364594835, 7426887538, 7426887537]>, <overpy.Way id=793968051 nodes=[30362877, 7426893331, 7426893332]>, <overpy.Way id=827675557 nodes=[7726944449, 7726944438, 7726944448, 7726944447, 7726944446]>, <overpy.Way id=827675559 nodes=[7726944455, 7726944454]>, <overpy.Way id=827675560 nodes=[7726944457, 7726944456]>, <overpy.Way id=827675561 nodes=[7726944459, 7726944458]>, <overpy.Way id=827675562 nodes=[7726944462, 7726914246, 7726944461, 7726944460, 7726944458, 7726944456, 7726944454, 7726963189, 35721514]>, <overpy.Way id=827675563 nodes=[7726944468, 401558738, 401558737, 401544503, 401544504, 7726944466, 9578090961, 7726944465, 401541047, 7726944464, 9578090958, 7726944463, 401544553, 401544555, 7726944468]>, <overpy.Way id=827675565 nodes=[7726944482, 7726944478, 7726944481]>, <overpy.Way id=827675566 nodes=[7726948087, 7726948086, 7726948085, 7726944484]>, <overpy.Way id=827675572 nodes=[401558737, 9110966466, 401558736, 401558735, 7281185766, 9550828468, 401558734, 7281185767, 9284563308, 9284563306, 7281185778, 9284657179, 9284657180, 401563992]>, <overpy.Way id=827677401 nodes=[7726963211, 9675751164, 9675751163, 9675751160, 7726963212, 9675751161, 9675751159, 9675751167, 7726914283, 7726963301, 7726963302, 9675751166, 7726914255, 9675751165, 9675751162, 7726963211]>, <overpy.Way id=827677406 nodes=[7726963224, 7726914280, 9518377195, 7726963223]>, <overpy.Way id=827677409 nodes=[7726963295, 7726963296, 9675834806, 9675834809, 7726914278, 9675834810, 9675834805, 7726963230, 7726944484]>, <overpy.Way id=827793892 nodes=[7281191196, 9684443671, 7281191195, 35721361, 7281191197, 401563989]>, <overpy.Way id=827962852 nodes=[7729537618, 7729537615]>, <overpy.Way id=827962853 nodes=[7729537604, 642336684, 7364594788, 465188776]>, <overpy.Way id=827962854 nodes=[465188773, 7729537618, 7729537603, 7729537617]>, <overpy.Way id=917960845 nodes=[2003715672, 2003715670, 9091240929, 9091240930, 9091240925, 2003715655]>, <overpy.Way id=917960846 nodes=[7281191194, 7281191193]>, <overpy.Way id=936843582 nodes=[8680629549, 8680629550, 9095117649]>, <overpy.Way id=936843583 nodes=[8680629548, 8680629551, 8680629549]>, <overpy.Way id=936844097 nodes=[8680628977, 8680628978, 8680628979, 8680628985, 8680628980]>, <overpy.Way id=980715734 nodes=[9071818773, 9140041351, 9071818770]>, <overpy.Way id=980715735 nodes=[9071818771, 9284657199]>, <overpy.Way id=981458866 nodes=[2418407365, 305091170]>, <overpy.Way id=983218913 nodes=[108810779, 9203643986, 108810490, 30342168]>, <overpy.Way id=983218914 nodes=[9091240923, 7434257097, 7434257096, 32871499]>, <overpy.Way id=983218915 nodes=[30342168, 8525656139, 8525656138, 8525656137, 2003715672, 7281185750]>, <overpy.Way id=983218916 nodes=[1705398509, 9091240928, 30342168]>, <overpy.Way id=983249894 nodes=[9091466879, 9091466877, 7281272402, 7281272404]>, <overpy.Way id=983249895 nodes=[9091466875, 9091466876]>, <overpy.Way id=983249896 nodes=[9091466876, 9091466879]>, <overpy.Way id=983406843 nodes=[7281261084, 9130940250, 9092632761]>, <overpy.Way id=983681017 nodes=[9095033355, 2164610675]>, <overpy.Way id=983681018 nodes=[9140041355, 9140041354, 927579789]>, <overpy.Way id=983681019 nodes=[2164610675, 9095033352]>, <overpy.Way id=983681020 nodes=[927579789, 9593248328, 9095033353]>, <overpy.Way id=983681021 nodes=[9095033353, 9140041352, 9095033356]>, <overpy.Way id=983681022 nodes=[9095033352, 9284657286, 9095033357]>, <overpy.Way id=983686226 nodes=[9095117649, 9095117648]>, <overpy.Way id=983709585 nodes=[9095293132, 9095309669, 9095293134]>, <overpy.Way id=983710312 nodes=[9095309669, 9095309668]>, <overpy.Way id=983710313 nodes=[9095309668, 9095309670]>, <overpy.Way id=984500792 nodes=[401544493, 401563984, 401563985]>, <overpy.Way id=984500793 nodes=[401544493, 401544687, 401544690]>, <overpy.Way id=984500794 nodes=[401563959, 7364595046, 642340466, 9102215288, 401544690]>, <overpy.Way id=984500795 nodes=[401563961, 401544565, 401563959]>, <overpy.Way id=984500796 nodes=[401544690, 7281272423, 7281272425]>, <overpy.Way id=985515921 nodes=[7281308536, 9110966465, 401544497]>, <overpy.Way id=986058669 nodes=[401541049, 9115439733]>, <overpy.Way id=986058670 nodes=[9115439733, 9115439732]>, <overpy.Way id=986058671 nodes=[2418403632, 9130954372, 9115439743]>, <overpy.Way id=987462562 nodes=[9127297630, 9127297635]>, <overpy.Way id=987462563 nodes=[9127297633, 9127297632]>, <overpy.Way id=987462564 nodes=[9127297635, 9127297637]>, <overpy.Way id=987462565 nodes=[9127297637, 9127297631, 9127297629, 9127297636, 9127297634]>, <overpy.Way id=987462566 nodes=[9127297632, 9127297630]>, <overpy.Way id=987779429 nodes=[9130215996, 9130215997, 9135958224]>, <overpy.Way id=987779430 nodes=[9130215995, 9130215996]>, <overpy.Way id=987856496 nodes=[9130930602, 9130930603]>, <overpy.Way id=987856497 nodes=[387492710, 7281308504, 9130940230, 9130940217]>, <overpy.Way id=987856498 nodes=[9130940218, 7281308503]>, <overpy.Way id=987856499 nodes=[6240010790, 9130940233]>, <overpy.Way id=987856500 nodes=[9130930616, 9130930615]>, <overpy.Way id=987856501 nodes=[9130940219, 7281308501]>, <overpy.Way id=987856502 nodes=[9130940217, 9130940219]>, <overpy.Way id=987856503 nodes=[7281308502, 9130940218]>, <overpy.Way id=987856504 nodes=[9130940222, 7281308505, 9130940221]>, <overpy.Way id=987856505 nodes=[9130940232, 9130940231, 9130940230]>, <overpy.Way id=987856506 nodes=[9130940234, 9135966948, 9140334495]>, <overpy.Way id=987856507 nodes=[9130940233, 7281308521, 7281264480]>, <overpy.Way id=987856508 nodes=[7281308494, 7281308522, 9130940234]>, <overpy.Way id=987856509 nodes=[6154666233, 7281308510, 465090767]>, <overpy.Way id=987856510 nodes=[9130940238, 7281308534, 9130940239]>, <overpy.Way id=987856511 nodes=[9130940240, 9130940264]>, <overpy.Way id=987856512 nodes=[7281308532, 9130940265]>, <overpy.Way id=987856513 nodes=[9130940243, 9130940242]>, <overpy.Way id=987856514 nodes=[9130940245, 9130940244]>, <overpy.Way id=987856515 nodes=[9130940246, 9130940247, 9130940248, 9130940249]>, <overpy.Way id=987856516 nodes=[9600058185, 9130940251]>, <overpy.Way id=987856517 nodes=[305088949, 9130940252, 9130940253, 9130940254]>, <overpy.Way id=987856518 nodes=[9130940265, 9130940241]>, <overpy.Way id=987856519 nodes=[9130940264, 7281308532]>, <overpy.Way id=987856520 nodes=[9130940274, 9130940275]>, <overpy.Way id=987856521 nodes=[9130940276, 9130940277]>, <overpy.Way id=987858959 nodes=[7364594975, 9130954352, 6246290993]>, <overpy.Way id=988153015 nodes=[642336704, 7364594837, 7364594840, 7364594842, 9133614293, 9133614295, 9133614297]>, <overpy.Way id=988153016 nodes=[9133614296, 642336684]>, <overpy.Way id=988153017 nodes=[9133614297, 9133614296]>, <overpy.Way id=988391938 nodes=[9135911709, 9135958217]>, <overpy.Way id=988391940 nodes=[9135958218, 9135911709]>, <overpy.Way id=988391941 nodes=[6719078983, 9135958220]>, <overpy.Way id=988391944 nodes=[9135958217, 9135911715]>, <overpy.Way id=988391945 nodes=[9135958222, 9135958228]>, <overpy.Way id=988391946 nodes=[9135958228, 9135958229]>, <overpy.Way id=988391949 nodes=[9135911715, 6719078984, 6719078983, 401558735]>, <overpy.Way id=988396668 nodes=[9135966950, 9135966949]>, <overpy.Way id=988396669 nodes=[9135966947, 9135966948]>, <overpy.Way id=988397363 nodes=[9135992138, 7281308509]>, <overpy.Way id=988399181 nodes=[9136006831, 9136006833]>, <overpy.Way id=988399182 nodes=[9136006834, 6154666233]>, <overpy.Way id=988399183 nodes=[9136006834, 9136006835, 9136006832, 9136006829, 9136006836, 9203623083, 9136006831]>, <overpy.Way id=988401240 nodes=[9136024717, 9136024721, 9136024720, 9136024723, 9136024724, 9136024719, 9136024722]>, <overpy.Way id=988455238 nodes=[9136490649, 9136490643, 9136490648, 9136490650, 9136490646]>, <overpy.Way id=988455239 nodes=[9136490651, 9136490644]>, <overpy.Way id=988455240 nodes=[9137758993, 9136490646, 108810970]>, <overpy.Way id=988455241 nodes=[9136490645, 9136490647]>, <overpy.Way id=988592199 nodes=[9136490644, 9137758993]>, <overpy.Way id=988592200 nodes=[9137758994, 9136490651]>, <overpy.Way id=988615905 nodes=[9137921814, 9137921805, 9556805318]>, <overpy.Way id=988615906 nodes=[9556805321, 9137925619]>, <overpy.Way id=988615907 nodes=[9077669733, 401563995, 9137921815, 9137921814, 9137925623, 9137925620, 35676233, 35676234, 253273032, 6154664942, 6154664943, 35676220, 35676221, 9191952711, 35676222, 9077669733]>, <overpy.Way id=988615908 nodes=[9137925628, 9137921806, 9137925626, 9137925634]>, <overpy.Way id=988615909 nodes=[9137921810, 9556805320]>, <overpy.Way id=988615911 nodes=[9137925620, 9137921813]>, <overpy.Way id=988615912 nodes=[9137925631, 9556805319]>, <overpy.Way id=988731781 nodes=[9138728846, 9138728848, 9138728844]>, <overpy.Way id=988731782 nodes=[9138728847, 9138728845, 9138728849, 305088290]>, <overpy.Way id=988731783 nodes=[9138728848, 9138728843]>, <overpy.Way id=988731784 nodes=[9138728842, 9138728849]>, <overpy.Way id=988731785 nodes=[9138728843, 9138728842]>, <overpy.Way id=988882915 nodes=[9140041353, 9140041356]>, <overpy.Way id=988882916 nodes=[9140041356, 9140041355]>, <overpy.Way id=988923867 nodes=[9136024718, 9136006836]>, <overpy.Way id=988971592 nodes=[9140797381, 9140797380]>, <overpy.Way id=990206390 nodes=[33721045, 9150433748, 9150433749, 9150433755, 9150433750, 33721046, 9150433756]>, <overpy.Way id=990206391 nodes=[9150433752, 9150433753, 9150433754, 33721045]>, <overpy.Way id=990206392 nodes=[9150433757, 9150433758, 9150433759, 9150433760, 9150433761, 9150433762, 9150433763, 9150433764]>, <overpy.Way id=990206393 nodes=[9150433773, 9150433774, 9150433775, 9150433776, 9150433777]>, <overpy.Way id=990206394 nodes=[9150433782, 9150433783]>, <overpy.Way id=990206395 nodes=[9150433785, 9150433786, 9150433787, 9150433788, 9150433789, 9150433790, 9150433791, 9150433792, 9150433793]>, <overpy.Way id=990213247 nodes=[9150475244, 9177254366]>, <overpy.Way id=990213248 nodes=[9150475252, 7317232950]>, <overpy.Way id=990213249 nodes=[7317232953, 7317232954, 7317232955, 9177254373]>, <overpy.Way id=990213250 nodes=[9150475255, 7317232953]>, <overpy.Way id=990627660 nodes=[9150433756, 9150433751, 9150433752]>, <overpy.Way id=990627661 nodes=[9153613540, 9153613541, 9153613542, 9153613543, 401544462, 9153613544]>, <overpy.Way id=990627662 nodes=[9150433764, 9153613538, 9153613539, 9153613540]>, <overpy.Way id=990924549 nodes=[9155865622, 9155865624, 9155865621, 9155865623]>, <overpy.Way id=993356185 nodes=[9177254382, 9177254371, 9177254362, 9177254368]>, <overpy.Way id=993356186 nodes=[9177254367, 9177254370]>, <overpy.Way id=993356187 nodes=[9177254366, 9177254377, 9177254376, 9177254372, 9177254365, 9177254367, 9177254369]>, <overpy.Way id=993356188 nodes=[7317232955, 9177254363]>, <overpy.Way id=993356189 nodes=[9177254370, 9177254374, 9177261653, 9177254364, 9177261652, 9177254381]>, <overpy.Way id=993356190 nodes=[9177254379, 9150475245]>, <overpy.Way id=993356191 nodes=[9177254376, 9177254379]>, <overpy.Way id=995436751 nodes=[9191952700, 9191952708]>, <overpy.Way id=995436752 nodes=[9077669735, 9191952709]>, <overpy.Way id=995436753 nodes=[9191952704, 9191952712, 9191952701]>, <overpy.Way id=995436754 nodes=[9191952702, 9191952713]>, <overpy.Way id=995436755 nodes=[9191952712, 9191952705, 9191952710, 9191952707, 9191952706, 9191952703, 9191952709, 9191952697]>, <overpy.Way id=995436756 nodes=[9191952713, 9191952711]>, <overpy.Way id=995436757 nodes=[9191952708, 9191952702]>, <overpy.Way id=995436758 nodes=[9191952697, 9191952700]>, <overpy.Way id=995439169 nodes=[9191981626, 9191981625, 9191981624, 9191981623]>, <overpy.Way id=995668285 nodes=[9194043235, 9194043236, 9194043238]>, <overpy.Way id=995668286 nodes=[9194043237, 9194043238, 9194043242, 9194043239, 9194043240, 9194043241, 9194043242]>, <overpy.Way id=996757503 nodes=[7281207391, 7281207392]>, <overpy.Way id=996757504 nodes=[9203643988, 9203643987]>, <overpy.Way id=997613603 nodes=[6154666049, 9211411918, 9211411919, 9176380577, 9176380593, 9176380605, 9176380604, 9176380584, 6154666047, 9130940244, 9211411920, 9211411921, 9211411922, 9211411923, 9130940242, 6154666049]>, <overpy.Way id=998008326 nodes=[9214954288, 9214954293, 9214954289, 9214954290, 9214954291]>, <overpy.Way id=998203381 nodes=[401554669, 401554670]>, <overpy.Way id=998203383 nodes=[401554666, 9216707272, 401554673, 9558379601, 9558379599, 9558379608, 401554671, 9216707270, 401554665, 9216707268, 9216707267, 9558379605, 9216707266, 401550384, 9216707269, 9216707265, 401550383, 9216707271, 401554666]>, <overpy.Way id=998203384 nodes=[9216707257, 401541072, 401550384]>, <overpy.Way id=999325612 nodes=[401544481, 401544713, 9225759372, 30363952, 401544712]>, <overpy.Way id=999325613 nodes=[7317232919, 401544477, 655446916]>, <overpy.Way id=999325615 nodes=[7317232885, 401541053, 7317219683]>, <overpy.Way id=999325617 nodes=[7317232888, 655446919, 7317232928]>, <overpy.Way id=1000919916 nodes=[9239075960, 9239075959]>, <overpy.Way id=1000924778 nodes=[9239139613, 9239139614]>, <overpy.Way id=1000924779 nodes=[7281272403, 9239139613]>, <overpy.Way id=1000924780 nodes=[9239139614, 9239139612]>, <overpy.Way id=1001191440 nodes=[9241415681, 9241415678, 9241415682, 9241415683, 9241415674, 9241415673, 9241415680]>, <overpy.Way id=1001191441 nodes=[9241415673, 9241415677, 9241415675]>, <overpy.Way id=1001191442 nodes=[9241415676, 9241415671, 9241415672, 9558379594, 9241415679, 9241415683]>, <overpy.Way id=1005748255 nodes=[9279442289, 9279442290, 9666981599]>, <overpy.Way id=1005748256 nodes=[7726944445, 7726944446, 9279442291]>, <overpy.Way id=1005748257 nodes=[9279442292, 9279442294, 9279442293]>, <overpy.Way id=1005748258 nodes=[9279442295, 9279442293, 9279442296]>, <overpy.Way id=1006320502 nodes=[401563994, 401544483, 401563988]>, <overpy.Way id=1006320503 nodes=[401556469, 9284563292, 9284563291, 9316158947, 9284563283, 9284563284, 401556470, 9284563295, 9284563285, 9284563294, 9284563286, 2418408412, 9284563287, 9284563288, 401554664, 9284563296, 9284563297, 9284563299, 401541050, 9284563301, 9284563298, 9284563300, 9284563289, 650963259, 401541049, 9284563290, 9316158945, 9284563293, 401556469]>, <overpy.Way id=1006320505 nodes=[401541050, 401541056, 401558732]>, <overpy.Way id=1006320506 nodes=[9284563306, 9115439736, 401556469, 9115439734, 9140017283, 9284563307, 9140017282, 9115439735, 9284563308]>, <overpy.Way id=1006320507 nodes=[401556470, 401556471, 401556472]>, <overpy.Way id=1006320508 nodes=[401556472, 9284563309, 9284657126, 9284657210, 401556473, 9284657209, 9284657125, 9611722170, 9611722176, 9284563310, 401554656, 9284657118, 9284657117, 9558379590, 9558379593, 9558379597, 9241415671, 9284563311, 9284563312, 9284563316, 9284563315, 9284563313, 9241415678, 9241415677, 9284563314, 401556472]>, <overpy.Way id=1006320509 nodes=[401556493, 401554649, 9284657122, 401556474, 401556473, 401554655, 6240010801, 401556494, 401556493]>, <overpy.Way id=1006320510 nodes=[9284657122, 7726898253, 9284657124, 9284657144, 1988454017, 9284657143, 9284657133, 401554639, 9621289855, 401554638, 9284657127, 9284657119, 9284657120, 9284657121, 6240010791, 6240010792, 9611786416, 9611786413, 401556475, 9284657122]>, <overpy.Way id=1006320514 nodes=[401558732, 9284657187, 9191952704, 401541055, 401544569, 401544663, 9301551835, 9284657188, 401544482]>, <overpy.Way id=1006320515 nodes=[401563992, 401558733, 401563993]>, <overpy.Way id=1006320516 nodes=[401544482, 401541054, 401544666]>, <overpy.Way id=1006320520 nodes=[401556495, 650965668, 9140041331, 9194043236, 9140017288]>, <overpy.Way id=1006320521 nodes=[9284657200, 650965668, 30342133]>, <overpy.Way id=1006320522 nodes=[9284657199, 633587108, 9284657203, 9284657200]>, <overpy.Way id=1006320523 nodes=[9284657200, 9284657202, 9284657201, 9284657199]>, <overpy.Way id=1006320524 nodes=[7726898255, 9284794273, 9284657229, 7726898254, 9284794271, 9284794270, 9115439729, 9095033355, 6240010801, 6160675175, 401556495, 9284657204, 9284657205, 9284657206, 9284657207, 9284657208]>, <overpy.Way id=1006320525 nodes=[7726944465, 9140017270, 9284657215, 9284657217, 9284657218, 9284657219, 9284657220, 9284657221, 9284657222, 9284657223]>, <overpy.Way id=1006320527 nodes=[7726944471, 9284657243, 9284657242, 7726963194, 9499866357, 9499866361, 387494344, 9284657260, 9279442294, 9284657245, 9284657248, 9284657249, 9284657251, 7726963193, 9284657252, 9284657250, 9284657247, 9284657246, 9284657259, 7726963299, 9284657234, 7726944442]>, <overpy.Way id=1006320529 nodes=[7726944471, 7726944421, 7726944472]>, <overpy.Way id=1006320530 nodes=[7726963197, 7726914274, 7726963193, 7726914238, 7726963192, 7726914258, 9284657253, 9284794286, 7726963197]>, <overpy.Way id=1006320531 nodes=[387493501, 9284657260, 9284657254, 9284657255, 9284657256, 9284657257, 9284657259, 9284657258]>, <overpy.Way id=1006320532 nodes=[401555284, 9284657268, 9284657267, 401554642, 9284657269, 401556492, 9284657270, 9284657231, 401556493, 9284657166, 9284657165, 9214954293, 9284657273, 401555283, 9284657272, 9284657271, 401555284]>, <overpy.Way id=1006338737 nodes=[7726963207, 7726914256, 7726963203, 7726914237, 7726963202, 7726914277, 7726963208, 7726914239, 7726963207]>, <overpy.Way id=1006338738 nodes=[7726963200, 7726944436, 7726944474]>, <overpy.Way id=1006338739 nodes=[7726914246, 9284794298, 9284794301, 9284794302, 9284794303, 7726963202, 9284794300, 9284794299, 7726963298, 9284794284, 7726963197, 9284794297, 7726963196, 9284794296, 9284794295, 7726963189, 7726963195, 9667054879, 9667054881, 387493310, 9284657263, 7726944472]>, <overpy.Way id=1006338741 nodes=[7726914283, 7726914249, 7726914254, 9284799519, 7726914271, 7726914267, 7726963185, 7726914282, 7726914283]>, <overpy.Way id=1006338743 nodes=[9284794312, 9284794313, 7726963208, 7726963209, 9284794316, 9284794315, 7726963210, 7726944474]>, <overpy.Way id=1006338744 nodes=[7726944482, 9284799521, 9862843937, 9862843934, 9675139943, 9284799522, 7726944483, 9284799523, 7726963229, 9675139949, 9284799524]>, <overpy.Way id=1006338745 nodes=[7726963219, 9284799531, 9674812694, 9284799530, 7726963220, 9284799534, 9675834804, 9675834807, 7726914272, 9675834808, 9675834803, 7726963185, 9675751168, 9284799542, 7726963219]>, <overpy.Way id=1006338746 nodes=[7726944483, 7726944428, 7726944484]>, <overpy.Way id=1008234353 nodes=[9284657190, 9301551838, 9301551837]>, <overpy.Way id=1008234354 nodes=[401563993, 9284657184, 9284657183, 9284657186, 401558732]>, <overpy.Way id=1009697186 nodes=[9316158941, 9316158946, 9316158944, 9316158945]>, <overpy.Way id=1009697187 nodes=[9316158946, 9316158947]>, <overpy.Way id=1019780375 nodes=[305090886, 30363947, 30363948, 30363949, 7383296693, 30363336]>, <overpy.Way id=1019782689 nodes=[7281224176, 34200190, 34200191, 443532631]>, <overpy.Way id=1020855117 nodes=[9415537714, 9415557831]>, <overpy.Way id=1020855120 nodes=[9415557823, 9415557822]>, <overpy.Way id=1020855122 nodes=[9415557831, 9415537716, 9415557823]>, <overpy.Way id=1020855123 nodes=[9415557821, 9415537715, 9415557832]>, <overpy.Way id=1020855124 nodes=[9415537713, 9415557821]>, <overpy.Way id=1020855125 nodes=[9415557832, 9415557829]>, <overpy.Way id=1020856589 nodes=[9415560571, 9415560573]>, <overpy.Way id=1020856590 nodes=[9415560567, 9415560569]>, <overpy.Way id=1020856591 nodes=[9415560572, 927579791]>, <overpy.Way id=1020856592 nodes=[9415560570, 9415560567]>, <overpy.Way id=1020856593 nodes=[9415560568, 9415560572]>, <overpy.Way id=1021018675 nodes=[9415557817, 9415557818, 9416968912, 9416968913, 9416968911, 6154666032, 6154666033, 35675773, 35675774, 9415560574, 9416983217, 9415537712, 9415557833, 9415557826, 9415557827, 9415557820, 9415557829, 9415537714, 9416968916, 9415557817]>, <overpy.Way id=1030583133 nodes=[9499843966, 9667173162, 9279442290]>, <overpy.Way id=1030584016 nodes=[9499866362, 9499866361]>, <overpy.Way id=1030584017 nodes=[9499866356, 9499866362]>, <overpy.Way id=1030584018 nodes=[9499866364, 9499866363, 9499866356]>, <overpy.Way id=1030584020 nodes=[9499866357, 9499866355]>, <overpy.Way id=1030584021 nodes=[9499866355, 9499866364]>, <overpy.Way id=1030584268 nodes=[7726963195, 9667054875, 9667054871, 9667054876]>, <overpy.Way id=1030837000 nodes=[9501939602, 9501939603, 9501939604, 9501939605]>, <overpy.Way id=1030837001 nodes=[9501939606, 9501939608, 9301551835]>, <overpy.Way id=1030837002 nodes=[9501939607, 9501939608]>, <overpy.Way id=1031657698 nodes=[9507884105, 9507884106, 9507884107, 9507884108, 9177254373, 9507884109, 9507884110, 9211245452, 529161879, 529161881, 9211245448, 9211245443, 529161887, 529161885, 529161891, 529161889, 9507884111, 9507884105]>, <overpy.Way id=1031862166 nodes=[7317232911, 401544669, 7317232894]>, <overpy.Way id=1031862167 nodes=[9509376267, 9509376266, 9509376265, 9405612274, 9509376264]>, <overpy.Way id=1031862168 nodes=[7281224178, 9509376267]>, <overpy.Way id=1031862169 nodes=[401563982, 401544672, 401563981]>, <overpy.Way id=1031862170 nodes=[401563900, 401544451, 401563903]>, <overpy.Way id=1031862172 nodes=[401563942, 401544449, 401563941]>, <overpy.Way id=1031862173 nodes=[9509376281, 9509376282, 7386290350]>, <overpy.Way id=1031862174 nodes=[401563920, 9670486801, 9670486810, 401563921, 401563922, 401563923, 401563924, 9670486803, 401563925, 401563926, 401563927, 401563928, 9670486816, 401563929, 9670486802, 9670486808, 9670486807, 9670486792, 401563930, 401563931, 401563932, 401563933, 9670486813, 9670486804, 401563934, 9670486812, 9670486796, 9674832715, 7729537613, 9670486791, 9670502818, 7729537614, 9670486793, 7729537616, 7729255027, 7729255026, 9670486809, 9670486806, 401563920]>, <overpy.Way id=1033114112 nodes=[9518377195, 9518377196]>, <overpy.Way id=1033116558 nodes=[9518400371, 401544548]>, <overpy.Way id=1033116560 nodes=[7060395033, 9518400371]>, <overpy.Way id=1036689266 nodes=[7281185765, 9550828467, 9550828466]>, <overpy.Way id=1036689267 nodes=[7281185765, 9550828465, 9550828468]>, <overpy.Way id=1037431888 nodes=[9556805318, 9137925634]>, <overpy.Way id=1037431889 nodes=[9556805319, 9137925626]>, <overpy.Way id=1037431890 nodes=[9556805320, 9137925628]>, <overpy.Way id=1037431891 nodes=[9137921806, 9556805321]>, <overpy.Way id=1037435419 nodes=[7386290325, 9509376266, 9556833088, 9556833090, 9556833091, 9556833092, 9556833093, 9556833089, 7386290322]>, <overpy.Way id=1037713774 nodes=[9558379590, 9558379591]>, <overpy.Way id=1037713775 nodes=[9558379592, 9558379593]>, <overpy.Way id=1037713776 nodes=[9558379594, 9558379595, 9558379596, 9558379597]>, <overpy.Way id=1037713777 nodes=[9558379598, 9558379602, 9558379599]>, <overpy.Way id=1037713778 nodes=[9558379600, 9558379601]>, <overpy.Way id=1037713779 nodes=[9558379602, 9558379603, 9558379604, 9558379605]>, <overpy.Way id=1037713780 nodes=[9558379603, 9558379606, 9558379607, 9558379608]>, <overpy.Way id=1039101794 nodes=[465188773, 443537322, 443537323, 7729537620]>, <overpy.Way id=1039101797 nodes=[465188776, 401544444, 465188773]>, <overpy.Way id=1039101798 nodes=[401563941, 9509376281, 465188776]>, <overpy.Way id=1039101799 nodes=[401563902, 9604229823, 401563903]>, <overpy.Way id=1039101800 nodes=[7281224179, 7281272446, 401563900]>, <overpy.Way id=1039101801 nodes=[401563903, 9509376275, 401563942]>, <overpy.Way id=1039107447 nodes=[8680629551, 7317212020, 7317232914, 9150433782, 7317211988, 7317232915, 7317232916, 9150433785, 7317232931, 7317232917, 7317232932, 9569094733, 7317232918, 7317232919, 7317232920, 9569094725, 401544475, 401544472, 9569094726, 401544468, 9569094727, 7383296703, 9150433758, 401544465, 401544462, 401544461, 7383296710, 7383296713, 401544458, 9509376264, 9405612272, 401563980]>, <overpy.Way id=1039107448 nodes=[9569094719, 9569094725, 9569094720, 9863762734, 9569094721, 9569094722, 9569094723, 9569094726, 9569094724]>, <overpy.Way id=1039107449 nodes=[9569094727, 9569094728, 9569094729, 9569094730, 9863762733, 9569094731, 9569094732, 9569094733]>, <overpy.Way id=1039107450 nodes=[401544481, 401544479, 9863084879, 7317232922, 7383296722, 655446916, 7317232921, 7317232927, 7317232928, 7317232929]>, <overpy.Way id=1039107451 nodes=[9225759373, 401541051, 401544481]>, <overpy.Way id=1040246726 nodes=[7729537622, 7729255028, 7729537617]>, <overpy.Way id=1040246727 nodes=[7729537617, 7729255016, 7729537616]>, <overpy.Way id=1040246728 nodes=[7726944480, 401563914, 9667200301, 465090740, 9668510470, 7281264456, 7281264457, 9668510466, 9130954378, 9668510467, 9110966464, 9130940274, 7281264475, 9130940232, 387492710, 9110966469, 9110966462, 9110966470, 9130940220, 9130940222, 7281308506, 9130940223, 9110966471, 7726944468, 401558739, 9110966467, 7281308523, 7281264479, 7281308528]>, <overpy.Way id=1040246729 nodes=[7726944480, 7726944475, 401563920]>, <overpy.Way id=1040246730 nodes=[7726944481, 7726944477, 7726944480]>, <overpy.Way id=1040246731 nodes=[7726944481, 7726963222, 9284794306, 7726914271, 9284794311, 9284794312]>, <overpy.Way id=1040246732 nodes=[401563920, 7726944476, 7726944482]>, <overpy.Way id=1040246733 nodes=[9284799524, 7726963215, 7726963216, 9674855620, 7726963217, 9284799525, 7726963218, 7726914280, 9284799520, 7726944482]>, <overpy.Way id=1040246734 nodes=[7726944463, 9110966463, 7726944469, 7726944470, 9284657244, 7726944471]>, <overpy.Way id=1040246735 nodes=[7726944472, 387493308, 9279442289, 7726944473, 7726963200]>, <overpy.Way id=1040246736 nodes=[7726963200, 9284794294, 7726963201, 9499843966, 9667054882, 9667054885, 7726914246]>, <overpy.Way id=1040246737 nodes=[7726944474, 9862843939, 9284794314, 7726944481]>, <overpy.Way id=1040246738 nodes=[9578090958, 9578090960, 9578090962, 9578090959, 401558737]>, <overpy.Way id=1040246739 nodes=[7726944468, 9578090963, 9578090962, 9578090964, 9578090961]>, <overpy.Way id=1040529842 nodes=[9580679986, 9091466880, 401544500]>, <overpy.Way id=1040529843 nodes=[401544502, 7281207386, 9110966474, 401558737]>, <overpy.Way id=1040529844 nodes=[7281308528, 401544557, 9130940239, 9130940241, 9580679986, 401544560, 9130940243, 9130940245, 401544563, 7281308536]>, <overpy.Way id=1040529845 nodes=[7281308528, 108807839, 401544502]>, <overpy.Way id=1040529846 nodes=[9284657215, 7726914244, 9284657224]>, <overpy.Way id=1040529847 nodes=[9284657228, 9284657227, 9284657226, 9284657225, 9284657224, 9284657214, 9284657213, 9284657212, 9284657211, 9284794272, 7726898255]>, <overpy.Way id=1040529848 nodes=[7726944442, 9115439731, 7726898255]>, <overpy.Way id=1040529849 nodes=[7726898255, 9115439730, 401554653]>, <overpy.Way id=1040529853 nodes=[7726944442, 9284657230, 9284657262, 9284657261, 7726944438, 401544548, 9110966472, 7726944441, 7726944464]>, <overpy.Way id=1040529854 nodes=[7726944439, 7726944442]>, <overpy.Way id=1040529871 nodes=[7283492053, 9580680007, 9580680008, 642340488]>, <overpy.Way id=1040529872 nodes=[401563980, 9509376263, 9405612275, 7281224164, 6492068566, 6492068567, 7317212023, 9509376261, 9509376262, 401563981]>, <overpy.Way id=1042094908 nodes=[9593248328, 9095293132]>, <overpy.Way id=1042735170 nodes=[7725595561, 9598183111, 7726944450, 7726963231, 9675751169, 7726914263, 9675751172, 7726963234, 9675751170, 7726963233, 7726963232, 9675751171, 7725595561]>, <overpy.Way id=1042735176 nodes=[7726963207, 7726963300, 7726914254, 9284794307, 9284794305, 9611721412, 7726963221, 7726944452]>, <overpy.Way id=1042978992 nodes=[9600068306, 7281272398]>, <overpy.Way id=1042978993 nodes=[7281272397, 9600068306]>, <overpy.Way id=1042979021 nodes=[9130940250, 9600058185]>, <overpy.Way id=1043081002 nodes=[465090760, 9600731931, 9600731932]>, <overpy.Way id=1043564624 nodes=[401563945, 9604229817, 9604207816]>, <overpy.Way id=1043564625 nodes=[9604207816, 401563943, 9509376283, 9604229822, 9509376278, 401563902]>, <overpy.Way id=1043564626 nodes=[401563901, 9604229821, 401563902]>, <overpy.Way id=1043564627 nodes=[401563900, 7281272435, 9509376268, 401563901]>, <overpy.Way id=1043564628 nodes=[7434257088, 9604229840, 7283492062]>, <overpy.Way id=1043564629 nodes=[7283492062, 7283492057]>, <overpy.Way id=1043564630 nodes=[7317232894, 7317232910, 9501939609, 7317232958, 9863639915, 7317232956, 401544666]>, <overpy.Way id=1043564631 nodes=[401544666, 9284657285, 9284657190]>, <overpy.Way id=1044592318 nodes=[9611722175, 9611722170, 9611722169, 9611722168]>, <overpy.Way id=1044592319 nodes=[9611722171, 9611722167]>, <overpy.Way id=1044592320 nodes=[9611722169, 9611722174, 9611722177, 9611722173]>, <overpy.Way id=1044592321 nodes=[9611722172, 9611722176, 9611722171]>, <overpy.Way id=1044592322 nodes=[9611722167, 9611722173]>, <overpy.Way id=1044592741 nodes=[9611786408, 9611794618, 9611786410, 9611786412]>, <overpy.Way id=1044592742 nodes=[9611786409, 9611786416, 9611786411, 9611794619, 9611786407]>, <overpy.Way id=1044592743 nodes=[9611786415, 9611786413, 9611786414, 9611794617]>, <overpy.Way id=1044593135 nodes=[9611786412, 9611785749, 9611785750]>, <overpy.Way id=1046222773 nodes=[796572739, 796572746, 9216707273, 9216707258, 9216707264, 9216707257, 9216707263, 9611794618, 9216707262, 9216707260]>, <overpy.Way id=1051951705 nodes=[9666981602, 387493309, 9666981600]>, <overpy.Way id=1051952545 nodes=[9667054873, 9667054874, 9667054875]>, <overpy.Way id=1051952546 nodes=[9667054873, 9667054872]>, <overpy.Way id=1051952547 nodes=[9667054876, 9667054873]>, <overpy.Way id=1051952548 nodes=[9667054879, 9667054878, 9667054877]>, <overpy.Way id=1051952549 nodes=[9667054880, 9667054881]>, <overpy.Way id=1051952550 nodes=[9667054882, 9667054883]>, <overpy.Way id=1051952551 nodes=[9667054884, 9667054885]>, <overpy.Way id=1051963099 nodes=[9667173162, 9667173164]>, <overpy.Way id=1051966879 nodes=[9667200300, 9667200299, 9870757309, 9667200295, 470094897]>, <overpy.Way id=1051966880 nodes=[9667200301, 465090738]>, <overpy.Way id=1051966881 nodes=[9667200303, 9667200301]>, <overpy.Way id=1051966882 nodes=[470094897, 9667200301]>, <overpy.Way id=1051966883 nodes=[470094897, 9667200296, 9870757306, 9667200298, 9667200300]>, <overpy.Way id=1051966884 nodes=[9667200297, 9696398608, 9667200302, 9696398607, 465090742]>, <overpy.Way id=1051968115 nodes=[2418403639, 2418403640]>, <overpy.Way id=1051968116 nodes=[9667203266, 9667203269]>, <overpy.Way id=1051968117 nodes=[2418403629, 2418403628]>, <overpy.Way id=1051968262 nodes=[9667202063, 9667202062, 9667202072]>, <overpy.Way id=1051968263 nodes=[9667202064, 9667202066, 9667202073, 9667202068, 9667202067, 9667202069, 9667202070, 9668543951]>, <overpy.Way id=1051968264 nodes=[9667174116, 9667202076, 9667202063]>, <overpy.Way id=1051968652 nodes=[9667202071, 9667174116]>, <overpy.Way id=1052061170 nodes=[9668207358, 9668207354]>, <overpy.Way id=1052084663 nodes=[9668447983, 9668447984, 9668447985, 9668447986, 9668447988, 9668447987, 9668447981]>, <overpy.Way id=1052090404 nodes=[9668510464, 9668510463]>, <overpy.Way id=1052090405 nodes=[6154668187, 7281264453]>, <overpy.Way id=1052090406 nodes=[9668510468, 9668510467]>, <overpy.Way id=1052090407 nodes=[465090787, 9668510465, 9668510468]>, <overpy.Way id=1052090408 nodes=[6154668192, 7281264466]>, <overpy.Way id=1052090409 nodes=[9668510469, 6154668192]>, <overpy.Way id=1052090410 nodes=[465090772, 9668510469, 9668510471]>, <overpy.Way id=1052090411 nodes=[9668510471, 9668510470]>, <overpy.Way id=1052090412 nodes=[9668510465, 6154668187]>, <overpy.Way id=1052095082 nodes=[9668543951, 9667202065, 9667202074, 9667202075, 9667202063]>, <overpy.Way id=1052275803 nodes=[7364595104, 9130939024, 9130954361, 9130954362, 9130954363, 401563907, 9130954364, 7364595096, 7364595094, 9130954365, 9130954379, 7364595134, 7364595142, 9130954366, 9130954367, 9130954368, 9130954369, 9667202062, 465101884, 9130954370, 9130954371, 9667203261, 9130954372, 9130954373, 9130954374, 9130954375, 9130954376, 9130954377, 7726944480]>, <overpy.Way id=1052332506 nodes=[7281272389, 7281272390]>, <overpy.Way id=1052332507 nodes=[9668207361, 9667202064]>, <overpy.Way id=1052735571 nodes=[9674832713, 9674832715, 9674832714]>, <overpy.Way id=1052735572 nodes=[9674832716, 9674855620, 9674855617, 9674855618, 9674855619, 9675139944, 9675139948, 9675139942, 9675139945]>, <overpy.Way id=1052735695 nodes=[9674832716, 9674812694, 9674812693]>, <overpy.Way id=1052771256 nodes=[9675139946, 9675139949, 9675139942]>, <overpy.Way id=1052771257 nodes=[9675139943, 9675139947, 9675139945]>, <overpy.Way id=1053809960 nodes=[9684358609, 9684358605]>, <overpy.Way id=1053809961 nodes=[35721263, 9684358603]>, <overpy.Way id=1053809962 nodes=[9684358605, 9684358608]>, <overpy.Way id=1053809963 nodes=[9684358607, 9684358602]>, <overpy.Way id=1053809964 nodes=[9684358598, 9684358610, 7283492049]>, <overpy.Way id=1053809965 nodes=[9684358601, 9684358599, 9684358600, 9684358611, 9684358604, 9684358609, 9684358607]>, <overpy.Way id=1053819330 nodes=[7281191203, 9684443673, 9684443676, 9684443670, 9684443687, 7434257112]>, <overpy.Way id=1053819331 nodes=[35721360, 9684443674]>, <overpy.Way id=1053819332 nodes=[7434257094, 9684443697]>, <overpy.Way id=1053819333 nodes=[7281191200, 7281191201]>, <overpy.Way id=1053819334 nodes=[9684443687, 6154665794]>, <overpy.Way id=1055236279 nodes=[9696398609, 465090777]>, <overpy.Way id=1055236280 nodes=[9696398610, 465090774]>, <overpy.Way id=1055236281 nodes=[9696398606, 9696398604, 9696398603, 9696398605, 9696398611, 9696398602, 9696398601, 9696398600]>, <overpy.Way id=1056991665 nodes=[9712295936, 7317232937]>, <overpy.Way id=1056991666 nodes=[9712295941, 9712295936]>, <overpy.Way id=1056991667 nodes=[9712295934, 9712295938, 9712295932, 9712295940, 9712295936]>, <overpy.Way id=1056991668 nodes=[9712295941, 9712295935]>, <overpy.Way id=1056994578 nodes=[9712318580, 9712286384]>, <overpy.Way id=1075418194 nodes=[9862843934, 9862843935, 9862843936, 9862843937]>, <overpy.Way id=1075418195 nodes=[9862843938, 9862843939]>, <overpy.Way id=1075434338 nodes=[9863084869, 9863084864, 9863084855, 9863084875, 9863084872, 9863084859, 9863084871, 9863084865]>, <overpy.Way id=1075434545 nodes=[9863084878, 9863084879, 9863084880]>, <overpy.Way id=1075437048 nodes=[9863114730, 9863639915, 9863114731]>, <overpy.Way id=1075513705 nodes=[9863762720, 9863762721]>, <overpy.Way id=1075513706 nodes=[9863762722, 9863762723, 9863762724, 9863762725]>, <overpy.Way id=1075513707 nodes=[9863762726, 9863762727, 9863762728, 9863762729]>, <overpy.Way id=1075513708 nodes=[9863762730, 9863762728]>, <overpy.Way id=1075513709 nodes=[9863762731, 9863762732]>, <overpy.Way id=1076395630 nodes=[9870744305, 9301551849]>]\n"
          ]
        }
      ],
      "source": [
        "# Main python wrapper for acessing OSM tools\n",
        "\n",
        "import overpy\n",
        "api = overpy.Overpass()\n",
        "\n",
        "## Bounding box - Limits the scope of our api \n",
        "## Campus is (roughly)  ==  [bbox:44.2224495448,-76.5017059541,44.2298231916,-76.4903552918]\n",
        "# Import all nodes and ways (edges) locally\n",
        "\n",
        "all_campus_result = api.query('[bbox: 44.2224495448,-76.5017059541,44.2298231916,-76.4903552918];(way[highway=footway];way[highway=pedestrian];way[highway=steps];way[highway=corridor];way[highway=path];way[highway=service];);(._;>;);out;')\n",
        "#This holds ways and nodes\n",
        "\n",
        "#Nodes\n",
        "print(\"All nodes on campus: \"+str(len(all_campus_result.nodes)))\n",
        "print(all_campus_result.nodes[1])\n",
        "\n",
        "#Ways\n",
        "print(\"All ways on campus: \"+str(len(all_campus_result.ways)))\n",
        "print(all_campus_result.ways[1])\n",
        "\n",
        "#Relations - There are none non campus, we could build them manually if needed tho  \n",
        "#all_campus_result.append((api.query('[bbox:44.2224495448,-76.5017059541,44.2298231916,-76.4903552918];(relation;);out;')).relations)\n",
        "#try:\n",
        "#  queens_campus_relations = api.query('[bbox:44.2224495448,-76.5017059541,44.2298231916,-76.4903552918];(relation;);out;')\n",
        "#  queens_campus_relations.relations[0]\n",
        "#except:\n",
        "#  print(\"No relations on campus\")\n",
        "#else:\n",
        "  #print(\"All Relations on campus: \"+str(len(all_campus_result.relations)))\n",
        " # print(queens_campus_relations.relations[0])\n",
        "#print(all_campus_result.ways)\n",
        "\n",
        "#all_campus_result.ways.pop(0)\n",
        "#print(\"sssss\")\n",
        "#print(all_campus_result.ways)\n"
      ]
    },
    {
      "cell_type": "code",
      "execution_count": 61,
      "metadata": {
        "id": "0lW54qkt89Bc"
      },
      "outputs": [],
      "source": [
        "## Sample functions\n",
        "    \n",
        "# maybe get time from\n",
        "\n",
        "# Search for a tag in an area \"query\" This could be used for input/output coordinates/location\n",
        "\n",
        "#[out:json][timeout:250];\n",
        "#(\n",
        "#  area[name=\"Palo Alto\"];\n",
        "#  way(area)[\"building\"];\n",
        "#  relation(area)[\"building\"];\n",
        "#);\n",
        "#out body;\n",
        "#>;\n",
        "#out skel qt;\n",
        "def get_nodes_with_tag(tag, nodes):\n",
        "    n_list = []\n",
        "    for n in nodes:\n",
        "        if tag in vars(n)['tags'].keys():\n",
        "            n_list.append(n)\n",
        "    return n_list\n",
        "\n",
        "# returns name of building\n",
        "def _node_to_str(node):\n",
        "    return vars(node)['tags']['name']\n",
        "\n",
        "# returns name of node (if it exists)\n",
        "def _str_to_node(string, nodes):\n",
        "    for n in nodes:\n",
        "        if string in vars(n)['tags']['name']:\n",
        "            return n\n",
        "    return\"no node with this name\"\n",
        "\n",
        "\n",
        "\n",
        "#Could be used for input/output coordinates/location\n",
        "def get_closest_node_fromCoordinate(latitude, longitude):\n",
        "  # figure out how to input coordinate and in what order they are usually shown\n",
        "  pass\n",
        "  #Output node"
      ]
    },
    {
      "cell_type": "code",
      "execution_count": 66,
      "metadata": {
        "id": "8T3MrOqLHLmy"
      },
      "outputs": [],
      "source": [
        "from copy import deepcopy\n",
        "import numpy as np\n",
        "\n",
        "class World:\n",
        "    \n",
        "    def __init__(self, allData:overpy.Result, start, terminal): \n",
        "    \n",
        "        # nodes (list) = the nodes\n",
        "        # ways (list) = the ways\n",
        "        # start (node) = the starting node\n",
        "        # terminal (node) = the goal node\n",
        "\n",
        "        # policy (dict) = each node a: {each potential goal node: best first way to take to reach this goal}\n",
        "        # values (dict) = each node a: {each potential goal node: {each way from node a: value}}\n",
        "\n",
        "        self._allData = allData\n",
        "\n",
        "        self._nodes = allData.nodes\n",
        "        self._ways = allData.ways\n",
        "        self._start = start ### What type is this coordinates or node? Figure out after making interface\n",
        "        self._terminal = terminal\n",
        "        \n",
        "        self._policy = {}\n",
        "        self._values = {}\n",
        "        \n",
        "        self._values_next = {}\n",
        "#        self._values_next = self.create_next_values() ###do we need this?\n",
        "\n",
        "        self._currentNode = start\n",
        "        self.isEnd = False\n",
        "        \n",
        "#        for node in self._nodes:\n",
        "#            self._values[node] = {}\n",
        "#            self._values[node] = dict(zip(self._nodes, [None]*len(self._nodes)))\n",
        "#            self._policy[node] = {}\n",
        "#            self._policy[node] = dict(zip(self._nodes, [None]*len(self._nodes)))\n",
        "##            for goal_node in self._values[node]:\n",
        "#                self._values[node][goal_node] = {}\n",
        "#                self._values[node][goal_node] = dict(zip(get_ways_fromNode(node,self._ways), [None]*len(get_ways_fromNode(node,self._ways))))\n",
        "#                self._policy[node][goal_node] = random.choice(self._values[node][goal_node].keys())\n",
        "#                for possible_way in self._values[node][goal_node]:\n",
        "#                    self._values[node][goal_node][possible_way] = 0\n",
        "    \n",
        "    def reset(self):\n",
        "    #    for node in self._nodes:\n",
        "    #        self._values[node] = {}\n",
        "    #        self._values[node] = dict(zip(self._nodes, [None]*len(self._nodes)))\n",
        "    #        self._policy[node] = {}\n",
        "    #        self._policy[node] = dict(zip(self._nodes, [None]*len(self._nodes)))\n",
        "    #        for goal_node in self._values[node]:\n",
        "    #            self._values[node][goal_node] = {}\n",
        "    #            self._values[node][goal_node] = dict(zip(get_ways_fromNode(node,self._ways), [None]*len(get_ways_fromNode(node,self._ways))))\n",
        "    #            self._policy[node][goal_node] = random.choice(self._values[node][goal_node].keys())\n",
        "     #           for possible_way in self._values[node][goal_node]:\n",
        "     #               self._values[node][goal_node][possible_way] = 0\n",
        "     #   self.create_next_values()\n",
        "      pass\n",
        "        \n",
        "    # you get the reward when you take the way\n",
        "    # a reward of 0 when you reach the terminal state\n",
        "    # a negative reward when you take an way\n",
        "    def _get_reward(self, node_a, node_b, way):\n",
        "        if node_b == self._terminal:\n",
        "            return 0\n",
        "        else:\n",
        "            return -get_time(node_a,node_b,way)\n",
        "    \n",
        "    #def _get_next_node(self, node, way):\n",
        "     #   return get_node_fromWay(node, way)\n",
        "    \n",
        "    # returns all nodes in the world\n",
        "    def get_nodes(self):\n",
        "        return self._nodes\n",
        "\n",
        "    # Returns all node id from input list of nodes (Ways or Nodes)\n",
        "    def get_element_ids(elementList):\n",
        "      idList = []\n",
        "      for element in elementList:\n",
        "        idList.append(element.id)\n",
        "      return idList\n",
        "\n",
        "    \n",
        "    # returns each way from this node to terminal ### we dont know this?\n",
        "    #def get_ways_toTerminal(self, from_node:overpy.Node):\n",
        "    #    return self._values[from_node][gw._terminal].keys()\n",
        "    \n",
        "    # returns the value of each way from this node to terminal\n",
        "    #def get_values(self, node):\n",
        "    #    return self._values[node][gw._terminal]\n",
        "    \n",
        "    # values should be a dictionary of {(goal node: (possible ways: value)),}\n",
        "    #def set_values(self, node, values): ###\n",
        "    #    self._values_next[node][gw._terminal] = values\n",
        "        \n",
        "    #def set_next_values(self): ###\n",
        "    #    self._values = deepcopy(self._values_next)\n",
        "        \n",
        "    #def create_next_values(self): ###\n",
        "    #    for node in self._nodes:\n",
        "    #        self._values_next[node] = {}\n",
        "    #        self._values_next[node] = dict(zip(self._nodes, [None]*len(self._nodes)))\n",
        "    #        self._policy[node] = {}\n",
        "    #        self._policy[node] = dict(zip(self._nodes, [None]*len(self._nodes)))\n",
        "    #        for goal_node in self._values[node]:\n",
        "    #            self._values_next[node][goal_node] = {}\n",
        "    #            self._values_next[node][goal_node] = dict(zip(get_ways_fromNode(node, self._ways), [None]*len(get_ways_fromNode(node, self._ways))))\n",
        "    #            self._policy[node][goal_node] = random.choice(self._values_next[node][goal_node].keys())\n",
        "    #            for possible_way in self._values[node][goal_node]:\n",
        "    #                self._values_next[node][goal_node][possible_way] = 0\n",
        "                    \n",
        "\n",
        "    def get_ways_fromNode(self, node:overpy.Node):\n",
        "      ## Gets all ways connected to a node\n",
        "      # Input: Node to be considered\n",
        "      # Output: list of ways\n",
        "      way_list = []\n",
        "      for each_way in self._allData.get_ways():\n",
        "        idList = []\n",
        "\n",
        "        for eachNode in each_way.nodes:\n",
        "          idList.append(eachNode.id)\n",
        "        if node.id in idList:\n",
        "          way_list.append(each_way)\n",
        "\n",
        "      if len(way_list) < 1:###\n",
        "        # Use this to delete any nodes not connected to the system, delete later\n",
        "        raise exception(\"No ways connected to node\")###\n",
        "\n",
        "      return way_list\n",
        "\n",
        "    def isEndFunc(self): # Checks if the current state is at the goal and flags that the game has ended\n",
        "      if (self.currentNode == self._terminal):\n",
        "        self.isEnd = True\n",
        "    \n",
        "    def print_world(self):\n",
        "        pass\n",
        "    # Get random node in set\n",
        "    def random_node(self) -> overpy.Node:\n",
        "      return np.random.choice(list(self._allData.nodes))\n",
        "\n",
        "    # Calulate the time walking a \"Way\"\n",
        "    def get_distance(node_a:overpy.Node, node_b:overpy.Node):\n",
        "      a = (node_a.lat,noda_a.lat)\n",
        "      b = (node_b.lat,noda_b.lat)\n",
        "      return (distance.distance(a,b)).meters\n",
        "    \n",
        "    def get_nxtNodes_fromNode(self, node: overpy.Node):\n",
        "      #Returns next possible nodes in movement from the inputted node\n",
        "      ## This ensures the agent only moves one node at a time and not the entire way\n",
        "      #a ways list of node is a sequential lists of nodes where beside everyone is the next one\n",
        "      connected_ways = self.get_ways_fromNode(node)\n",
        "      nxtNodes = []\n",
        "      for eachWay in connected_ways:\n",
        "        index_of_node = eachWay.nodes.index(node)\n",
        "        length = len(eachWay.nodes)\n",
        "\n",
        "        if length < 2:\n",
        "          raise exception(\"One node in list???\")\n",
        "\n",
        "        elif length == 2:\n",
        "          if index_of_node == 0:\n",
        "            nxtNodes.append(eachWay.nodes[1])\n",
        "          else:\n",
        "            nxtNodes.append(eachWay.nodes[0])\n",
        "        \n",
        "        elif length > 2:\n",
        "          if index_of_node == 0:\n",
        "            nxtNodes.append(eachWay.nodes[1])\n",
        "          elif index_of_node == (length-1):\n",
        "            nxtNodes.append(eachWay.nodes[index_of_node-1])\n",
        "          else:\n",
        "            nxtNodes.append(eachWay.nodes[index_of_node-1])\n",
        "            nxtNodes.append(eachWay.nodes[index_of_node+1])\n",
        "\n",
        "      return nxtNodes\n",
        "\n",
        "\n",
        "      \n",
        "#World.get_distance(all_campus_result.nodes[1],all_campus_result.nodes[4])\n",
        "        "
      ]
    },
    {
      "cell_type": "code",
      "source": [
        "\n"
      ],
      "metadata": {
        "id": "t_rzk564JumC"
      },
      "execution_count": 62,
      "outputs": []
    },
    {
      "cell_type": "code",
      "execution_count": 63,
      "metadata": {
        "id": "3SM7NfDCHRaz"
      },
      "outputs": [],
      "source": [
        "def qlearning(world:World, alpha, gamma, e, max_eps=500):\n",
        "\n",
        "    world.reset()\n",
        "    q = {}\n",
        "\n",
        "    #Q-Table set up\n",
        "    # States are node\n",
        "    # Actions are next nodes they can reach\n",
        "    # Use node.id to map\n",
        "    for node in world.get_nodes():\n",
        "        q[node.id] = {}\n",
        "        if node.id != world._terminal.id:\n",
        "\n",
        "            for nextNode in world.get_nxtNodes_fromNode(node):\n",
        "                q[node.id][nextNode.id] = -10\n",
        "\n",
        "        elif node.id == world._terminal.id:\n",
        "            for nextNode in world.get_nxtNodes_fromNode(node):\n",
        "                q[node.id][nextNode.id] = 0\n",
        "                \n",
        "    #world.create_next_values()\n",
        "\n",
        "    def get_next_state(self,s:overpy.Node,epsilon=e):\n",
        "        mx_nxt_reward = -9999\n",
        "        action = self.q[s.id].keys[0] #or .keys[0]\n",
        "\n",
        "        rc = np.random.choice(['exploit','explore'], p=[1-e, e])\n",
        "\n",
        "        if rc == 'exploit':\n",
        "\n",
        "            for s_prime in self.q[s.id].keys:\n",
        "\n",
        "              nxt_reward = self.Q[s][s_prime]\n",
        "  \n",
        "              if nxt_reward >= mx_nxt_reward:\n",
        "                  action = s_prime\n",
        "                  mx_nxt_reward = nxt_reward\n",
        "\n",
        "        elif rc == \"explore\":\n",
        "            action = np.random.choice(list(q[s.id]))\n",
        "        \n",
        "        return action\n",
        "    \n",
        "    for i in range(0, max_eps):\n",
        "        n = world._start\n",
        "        \n",
        "        while n != world._terminal:\n",
        "\n",
        "            #Choose a from S using policy derived from q\n",
        "\n",
        "            a = self.get_next_state(n,e)\n",
        "            # Take action A, observe S', R\n",
        "\n",
        "            s_prime = world._nodes.get_node(str(a))\n",
        "\n",
        "            r = world._get_reward(n,s_prime)\n",
        "\n",
        "            #n_prime = world._get_next_node(n,w)\n",
        "            #r = world._get_reward(n, n_prime)\n",
        "            qna = q[n][a]\n",
        "            maxa = self.get_next_state(n,e=0)\n",
        "            q[n][a] = qna + alpha*( r + gamma * (q[s_prime.id][maxa]) - qna )\n",
        "            q[n][w] += alpha*(r + (gamma * np.max(list(q[n_prime].values())) - q[n][w]))\n",
        "            #values = {}\n",
        "            #for way in get_ways_fromNode(n, world._ways):\n",
        "            #    values[way] = q[n][way]\n",
        "            #world.set_values(n, values)\n",
        "            n = s_prime\n",
        "\n",
        "\n",
        "        #world.set_next_values()\n",
        "        \n",
        "    #world.create_next_values()\n"
      ]
    },
    {
      "cell_type": "code",
      "execution_count": 63,
      "metadata": {
        "scrolled": true,
        "id": "ctbU2DSdgrHu"
      },
      "outputs": [],
      "source": []
    },
    {
      "cell_type": "markdown",
      "source": [
        "Interface"
      ],
      "metadata": {
        "id": "gHpk6TZzvmjz"
      }
    },
    {
      "cell_type": "code",
      "execution_count": 64,
      "metadata": {
        "id": "yIH9dIQgHWT2",
        "colab": {
          "base_uri": "https://localhost:8080/"
        },
        "outputId": "3a1ee918-55cc-4177-e684-740861854833"
      },
      "outputs": [
        {
          "output_type": "stream",
          "name": "stdout",
          "text": [
            "['Douglas Library', 'Stauffer Library', 'Robert Sutherland Hall', 'Macdonald Hall', 'Richardson Hall', 'Ontario Hall', 'Ellis Hall', 'Jeffery Hall', 'Chernoff Hall', 'Watts Hall', 'Chernoff Auditorium', 'Chown Hall', 'Morris Hall', 'McLaughlin Hall', 'Watson Hall', 'Harrison-LeCaine Hall', 'Agnes Queen’s Art Gallery', 'Grant Hall', 'Nicol Hall', 'Jackson Hall', 'Old Medical Building', 'Humphrey Hall', 'Kathleen Ryan Hall', 'Louise D. Acton Building', 'Cancer Research Institute', 'Clark Hall', 'Carruthers Hall', 'Cataraqui Building', 'Abramsky Hall', 'Dupuis Hall', 'Goodwin Hall', 'Walter Light Hall', 'Stirling Hall', 'LaSalle Building', 'Theological Hall', \"Central Heating Plant - Queen's University & KGH\", 'Kingston Hall', 'Grey House', 'Botterell Hall', 'University Club', 'Etherington Hall', 'Richardson House', 'Kidd House', 'Physical Plant Services Shed', \"Queen's School of Medicine\", 'Kinesiology Building', 'The Grad Club', \"St. James' Anglican Church\", 'Summerhill', 'Beamish-Munro Hall', 'Gordon Hall', 'Ban Righ Hall', 'Ann Baillie Building', 'Campus Bookstore (underground entrance)', 'Chalmers United Church', 'David C. Smith House', 'Brant Hall', 'Ban Righ Centre', '140 Stuart', 'Craine Building', 'Macklem House', 'Burr Wing', 'Centre for Applied Urological Research', 'Abrhamsky House', 'Chalmers Church House', 'Richardson Laboratory', 'former Kingston Collegiate Vocational Institute', 'Environmental Health & Safety Building', 'Geneva House', 'Newman House', 'Hedgewood House', 'MacGillivray-Brown Hall', 'Davies Wing', 'Kidd Wing', 'Armstrong Wing', 'Connell Wing', 'Douglas Wing', 'Dietary Wing', 'Victory Wing', 'Adelaide Hall', 'Nickle Wing', 'Angada Building', 'Doran Building', 'Empire Wing', 'Watkins Wing', \"Queen's Centre\"]\n"
          ]
        }
      ],
      "source": [
        "\n",
        "# making a list of campus buildings from ways with the building tag\n",
        "tempData = api.query('[bbox:44.2224495448,-76.5017059541,44.2298231916,-76.4903552918];(way;);out;')\n",
        "buildingNames = []\n",
        "wayId = []\n",
        "for w in tempData.ways:\n",
        "  #print(w.tags.keys())#[access'])\n",
        "  if \"building\" in w.tags.keys():\n",
        "    if \"name\" in w.tags.keys():\n",
        "      buildingNames.append(w.tags[\"name\"])\n",
        "      wayId.append(w.id)\n",
        "\n",
        "print(buildingNames)\n",
        "    \n",
        "    #if 'building' in vars(w)['tags'].keys():\n",
        "    #    if 'name' in vars(w)['tags'].keys():  \n",
        "    #        print(w) \n",
        "    #        buildings.append(w)\n",
        "#print(\"node to string: \", _node_to_str(buildings[5]) )\n",
        "#print(\"string to node: \", _str_to_node(\"Ontario Hall\", buildings))\n",
        "\n",
        "# Please uncomment a line to Choose a starting point\n",
        "#s =         #Douglas Library\n",
        "#s =          # Stauffer Library\n",
        "s = all_campus_result.get_node(9224895888,True)         #Ontario Hall\n",
        "\n",
        "# Please uncomment a line to Choose a starting point\n",
        "#t =         #Douglas Library\n",
        "#t =          # Stauffer Library\n",
        "#t = all_campus_result.get_node(9224895888)         #Ontario Hall\n",
        "t = all_campus_result.get_node(9130940237,True) #Ellis Hall\n",
        "\n",
        "# Alternativly input coordinates to choose a starting point and ending point\n",
        "#start_latitude = \n",
        "#start_longitude =\n",
        "#s = coor_resolve_to_node(start_latitude,start_longitude) \n",
        "\n",
        "#end_latitude = \n",
        "#end_longitude =\n",
        "#t = coor_resolve_to_node(end_latitude,end_longitude)  \n",
        "\n",
        "\n",
        "def coor_resolve_to_node(latitude,longitide) -> overpy.Node:\n",
        "  # Api call to get close nodes,\n",
        "  #get their id\n",
        "  #then find it in our node list and return\n",
        "  pass\n"
      ]
    },
    {
      "cell_type": "code",
      "source": [
        "def Interface(start: overpy.Node, terminal: overpy.Node):\n",
        "  alpha = 0.1\n",
        "  gamma = 0.9\n",
        "  e = 0.1\n",
        "  world = World(all_campus_result,start,terminal=terminal)\n",
        "  print(\"Training the Model\")\n",
        "  for eachnode in all_campus_result.nodes:\n",
        "    world.get_ways_fromNode(eachnode)\n",
        "  #agent = qlearning(world, alpha=alpha, gamma=gamma, e=e)\n",
        "  print(\"Training done\")\n",
        "\n",
        "  #agent.e\n",
        "\n",
        "  print(\"Showing Best route\")\n",
        "\n",
        "\n",
        "  \n",
        "\n",
        "\n",
        "Interface(s,t)\n"
      ],
      "metadata": {
        "colab": {
          "base_uri": "https://localhost:8080/",
          "height": 407
        },
        "id": "3lG5cjxr56kX",
        "outputId": "b0a816b0-ce7d-420d-a4f0-2aed4be56169"
      },
      "execution_count": 69,
      "outputs": [
        {
          "output_type": "stream",
          "name": "stdout",
          "text": [
            "Training the Model\n"
          ]
        },
        {
          "output_type": "stream",
          "name": "stderr",
          "text": [
            "ERROR:root:No ways connected to node\n",
            "NoneType: None\n"
          ]
        },
        {
          "output_type": "error",
          "ename": "TypeError",
          "evalue": "ignored",
          "traceback": [
            "\u001b[0;31m---------------------------------------------------------------------------\u001b[0m",
            "\u001b[0;31mTypeError\u001b[0m                                 Traceback (most recent call last)",
            "\u001b[0;32m<ipython-input-69-8fad6ad5fbb0>\u001b[0m in \u001b[0;36m<module>\u001b[0;34m\u001b[0m\n\u001b[1;32m     18\u001b[0m \u001b[0;34m\u001b[0m\u001b[0m\n\u001b[1;32m     19\u001b[0m \u001b[0;34m\u001b[0m\u001b[0m\n\u001b[0;32m---> 20\u001b[0;31m \u001b[0mInterface\u001b[0m\u001b[0;34m(\u001b[0m\u001b[0ms\u001b[0m\u001b[0;34m,\u001b[0m\u001b[0mt\u001b[0m\u001b[0;34m)\u001b[0m\u001b[0;34m\u001b[0m\u001b[0;34m\u001b[0m\u001b[0m\n\u001b[0m",
            "\u001b[0;32m<ipython-input-69-8fad6ad5fbb0>\u001b[0m in \u001b[0;36mInterface\u001b[0;34m(start, terminal)\u001b[0m\n\u001b[1;32m      6\u001b[0m   \u001b[0mprint\u001b[0m\u001b[0;34m(\u001b[0m\u001b[0;34m\"Training the Model\"\u001b[0m\u001b[0;34m)\u001b[0m\u001b[0;34m\u001b[0m\u001b[0;34m\u001b[0m\u001b[0m\n\u001b[1;32m      7\u001b[0m   \u001b[0;32mfor\u001b[0m \u001b[0meachnode\u001b[0m \u001b[0;32min\u001b[0m \u001b[0mall_campus_result\u001b[0m\u001b[0;34m.\u001b[0m\u001b[0mnodes\u001b[0m\u001b[0;34m:\u001b[0m\u001b[0;34m\u001b[0m\u001b[0;34m\u001b[0m\u001b[0m\n\u001b[0;32m----> 8\u001b[0;31m     \u001b[0mworld\u001b[0m\u001b[0;34m.\u001b[0m\u001b[0mget_ways_fromNode\u001b[0m\u001b[0;34m(\u001b[0m\u001b[0meachnode\u001b[0m\u001b[0;34m)\u001b[0m\u001b[0;34m\u001b[0m\u001b[0;34m\u001b[0m\u001b[0m\n\u001b[0m\u001b[1;32m      9\u001b[0m   \u001b[0;31m#agent = qlearning(world, alpha=alpha, gamma=gamma, e=e)\u001b[0m\u001b[0;34m\u001b[0m\u001b[0;34m\u001b[0m\u001b[0;34m\u001b[0m\u001b[0m\n\u001b[1;32m     10\u001b[0m   \u001b[0mprint\u001b[0m\u001b[0;34m(\u001b[0m\u001b[0;34m\"Training done\"\u001b[0m\u001b[0;34m)\u001b[0m\u001b[0;34m\u001b[0m\u001b[0;34m\u001b[0m\u001b[0m\n",
            "\u001b[0;32m<ipython-input-66-82b351ffd536>\u001b[0m in \u001b[0;36mget_ways_fromNode\u001b[0;34m(self, node)\u001b[0m\n\u001b[1;32m    125\u001b[0m       \u001b[0;32mif\u001b[0m \u001b[0mlen\u001b[0m\u001b[0;34m(\u001b[0m\u001b[0mway_list\u001b[0m\u001b[0;34m)\u001b[0m \u001b[0;34m<\u001b[0m \u001b[0;36m1\u001b[0m\u001b[0;34m:\u001b[0m\u001b[0;31m###\u001b[0m\u001b[0;34m\u001b[0m\u001b[0;34m\u001b[0m\u001b[0m\n\u001b[1;32m    126\u001b[0m         \u001b[0;31m# Use this to delete any nodes not connected to the system, delete later\u001b[0m\u001b[0;34m\u001b[0m\u001b[0;34m\u001b[0m\u001b[0;34m\u001b[0m\u001b[0m\n\u001b[0;32m--> 127\u001b[0;31m         \u001b[0;32mraise\u001b[0m \u001b[0mexception\u001b[0m\u001b[0;34m(\u001b[0m\u001b[0;34m\"No ways connected to node\"\u001b[0m\u001b[0;34m)\u001b[0m\u001b[0;31m###\u001b[0m\u001b[0;34m\u001b[0m\u001b[0;34m\u001b[0m\u001b[0m\n\u001b[0m\u001b[1;32m    128\u001b[0m \u001b[0;34m\u001b[0m\u001b[0m\n\u001b[1;32m    129\u001b[0m       \u001b[0;32mreturn\u001b[0m \u001b[0mway_list\u001b[0m\u001b[0;34m\u001b[0m\u001b[0;34m\u001b[0m\u001b[0m\n",
            "\u001b[0;31mTypeError\u001b[0m: exceptions must derive from BaseException"
          ]
        }
      ]
    },
    {
      "cell_type": "code",
      "source": [
        "import folium\n",
        "from folium.plugins import MarkerCluster\n",
        "import pandas as pd"
      ],
      "metadata": {
        "id": "ahSZEL-Wz6rP"
      },
      "execution_count": null,
      "outputs": []
    },
    {
      "cell_type": "code",
      "source": [
        "#Define coordinates of where we want to center our map\n",
        "campus_coords = [44.2265204, -76.4959298]\n",
        "\n",
        "#Create the map\n",
        "my_map = folium.Map(location = campus_coords, zoom_start = 16)\n",
        "\n",
        "#Create markers\n",
        "start_coords = [s.lat,s.lon]\n",
        "terminal_coords = [t.lat,t.lon]\n",
        "#print (start_coords)\n",
        "\n",
        "folium.Marker(start_coords, popup = 'Start').add_to(my_map)\n",
        "folium.Marker(terminal_coords, popup = 'End').add_to(my_map)\n",
        "\n",
        "#Display the map\n",
        "my_map\n",
        "\n",
        "#Whats left to display a route\n",
        "# Generate a list of way ids in our code\n",
        "# (do an api call?) to get OSM data for these ways\n",
        "# convert .osm to .geojson (done, using !osm) !osmtogeojson file1.osm > file2.geojson"
      ],
      "metadata": {
        "id": "JwtZgN_pD-PP"
      },
      "execution_count": null,
      "outputs": []
    },
    {
      "cell_type": "code",
      "source": [
        "#!https://www.overpass-api.de/api/interpreter?data=[out:json];node[highway=speed_camera];out%20meta;\n",
        "#!https://www.overpass-api.de/api/interpreter?data=[out:json];node[highway=speed_camera](43.46669501043081,-5.708215989569187,43.588927989569186,-5.605835010430813);out%20meta; --output-document=out.xml\n",
        "!https://www.overpass-api.de/api/interpreter?data=node[highway=speed_camera](43.46669501043081,-5.708215989569187,43.588927989569186,-5.605835010430813);out&20meta;;\n",
        "\n",
        "#!wget --post-file=query.txt http://overpass-api.de/api/interpreter --output-document=out.xml\n",
        "\n"
      ],
      "metadata": {
        "id": "OwAxXQztGumV"
      },
      "execution_count": null,
      "outputs": []
    },
    {
      "cell_type": "code",
      "source": [
        "#selectedNodeIds=\"\"\n",
        "#for nodes in \n",
        "#overpass.query(node[])\n",
        "#Not finished but so close -> need to figure out how to put this stupid geojson file into the foliam map and we are set\n",
        "!cp /content/cache/api-f6f7201ed9c847b8c895891416142873af55d69f /content/api1.osm\n",
        "!osmtogeojson /content/api1.osm > /content/way.geojson\n",
        "geojsonFeature = \"/content/way.geojson\"\n",
        "#print(geojsonFeature)\n",
        "folium.GeoJson(geojsonFeature).addTo(my_map);"
      ],
      "metadata": {
        "id": "Y9g0vN-yJzbX"
      },
      "execution_count": null,
      "outputs": []
    },
    {
      "cell_type": "code",
      "source": [
        "\n"
      ],
      "metadata": {
        "id": "Wr9HGm4gXfYK"
      },
      "execution_count": null,
      "outputs": []
    }
  ],
  "metadata": {
    "colab": {
      "provenance": []
    },
    "kernelspec": {
      "display_name": "Python 3 (ipykernel)",
      "language": "python",
      "name": "python3"
    },
    "language_info": {
      "codemirror_mode": {
        "name": "ipython",
        "version": 3
      },
      "file_extension": ".py",
      "mimetype": "text/x-python",
      "name": "python",
      "nbconvert_exporter": "python",
      "pygments_lexer": "ipython3",
      "version": "3.11.0"
    }
  },
  "nbformat": 4,
  "nbformat_minor": 0
}