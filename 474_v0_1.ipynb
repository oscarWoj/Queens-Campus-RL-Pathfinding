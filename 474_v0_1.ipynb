{
  "nbformat": 4,
  "nbformat_minor": 0,
  "metadata": {
    "colab": {
      "provenance": [],
      "authorship_tag": "ABX9TyPuq+ZWObm3h7RaHipUxzBM",
      "include_colab_link": true
    },
    "kernelspec": {
      "name": "python3",
      "display_name": "Python 3"
    },
    "language_info": {
      "name": "python"
    }
  },
  "cells": [
    {
      "cell_type": "markdown",
      "metadata": {
        "id": "view-in-github",
        "colab_type": "text"
      },
      "source": [
        "<a href=\"https://colab.research.google.com/github/oscarWoj/Queens-Campus-RL-Pathfinding/blob/main/474_v0_1.ipynb\" target=\"_parent\"><img src=\"https://colab.research.google.com/assets/colab-badge.svg\" alt=\"Open In Colab\"/></a>"
      ]
    },
    {
      "cell_type": "code",
      "execution_count": 26,
      "metadata": {
        "colab": {
          "base_uri": "https://localhost:8080/"
        },
        "id": "xOgZkmyD5FmO",
        "outputId": "fc0a8801-2300-4820-abb6-4bf831690633"
      },
      "outputs": [
        {
          "output_type": "stream",
          "name": "stdout",
          "text": [
            "Looking in indexes: https://pypi.org/simple, https://us-python.pkg.dev/colab-wheels/public/simple/\n",
            "Requirement already satisfied: OSMPythonTools in /usr/local/lib/python3.8/dist-packages (0.3.5)\n",
            "Requirement already satisfied: numpy in /usr/local/lib/python3.8/dist-packages (from OSMPythonTools) (1.21.6)\n",
            "Requirement already satisfied: beautifulsoup4 in /usr/local/lib/python3.8/dist-packages (from OSMPythonTools) (4.6.3)\n",
            "Requirement already satisfied: ujson in /usr/local/lib/python3.8/dist-packages (from OSMPythonTools) (5.6.0)\n",
            "Requirement already satisfied: xarray in /usr/local/lib/python3.8/dist-packages (from OSMPythonTools) (0.20.2)\n",
            "Requirement already satisfied: pandas in /usr/local/lib/python3.8/dist-packages (from OSMPythonTools) (1.3.5)\n",
            "Requirement already satisfied: lxml in /usr/local/lib/python3.8/dist-packages (from OSMPythonTools) (4.9.1)\n",
            "Requirement already satisfied: geojson in /usr/local/lib/python3.8/dist-packages (from OSMPythonTools) (2.5.0)\n",
            "Requirement already satisfied: matplotlib in /usr/local/lib/python3.8/dist-packages (from OSMPythonTools) (3.2.2)\n",
            "Requirement already satisfied: cycler>=0.10 in /usr/local/lib/python3.8/dist-packages (from matplotlib->OSMPythonTools) (0.11.0)\n",
            "Requirement already satisfied: kiwisolver>=1.0.1 in /usr/local/lib/python3.8/dist-packages (from matplotlib->OSMPythonTools) (1.4.4)\n",
            "Requirement already satisfied: pyparsing!=2.0.4,!=2.1.2,!=2.1.6,>=2.0.1 in /usr/local/lib/python3.8/dist-packages (from matplotlib->OSMPythonTools) (3.0.9)\n",
            "Requirement already satisfied: python-dateutil>=2.1 in /usr/local/lib/python3.8/dist-packages (from matplotlib->OSMPythonTools) (2.8.2)\n",
            "Requirement already satisfied: six>=1.5 in /usr/local/lib/python3.8/dist-packages (from python-dateutil>=2.1->matplotlib->OSMPythonTools) (1.15.0)\n",
            "Requirement already satisfied: pytz>=2017.3 in /usr/local/lib/python3.8/dist-packages (from pandas->OSMPythonTools) (2022.6)\n",
            "Looking in indexes: https://pypi.org/simple, https://us-python.pkg.dev/colab-wheels/public/simple/\n",
            "Requirement already satisfied: overpy in /usr/local/lib/python3.8/dist-packages (0.6)\n"
          ]
        }
      ],
      "source": [
        "!pip install OSMPythonTools\n",
        "!pip install overpy"
      ]
    },
    {
      "cell_type": "code",
      "source": [
        "#Not really using this at the moment, but might have to, to do queries between nodes\n",
        "from OSMPythonTools.api import Api\n",
        "from OSMPythonTools.overpass import Overpass\n",
        "\n",
        "api = Api()\n",
        "queens = api.query('way/12030883') \n",
        "overpass = Overpass()\n",
        "\n",
        "#Bounding box for Campus is (roughly)\n",
        "#[bbox:44.2224495448,-76.5017059541,44.2298231916,-76.4903552918]\n"
      ],
      "metadata": {
        "id": "rQe_8QJIUV9H"
      },
      "execution_count": null,
      "outputs": []
    },
    {
      "cell_type": "code",
      "source": [
        "#https://python-overpy.readthedocs.io/en/latest/api.html\n",
        "import overpy\n",
        "overpyapi = overpy.Overpass()\n",
        "\n",
        "queens_campus_nodes = overpyapi.query('[bbox:44.2224495448,-76.5017059541,44.2298231916,-76.4903552918];(node;);out;')\n",
        "queens_campus_ways = overpyapi.query('[bbox:44.2224495448,-76.5017059541,44.2298231916,-76.4903552918];(way;);out;')\n",
        "print(\"All nodes on campus: \"+str(len(queens_campus_nodes.nodes)))\n",
        "print(queens_campus_nodes.nodes[1])\n",
        "print(\"All ways on campus: \"+str(len(queens_campus_ways.ways)))\n",
        "print(queens_campus_ways.ways[1])\n"
      ],
      "metadata": {
        "colab": {
          "base_uri": "https://localhost:8080/"
        },
        "id": "aZwWaXJl5PUI",
        "outputId": "0a754fc3-ff0d-4ce5-c2b0-0a4dfdbd7794"
      },
      "execution_count": 30,
      "outputs": [
        {
          "output_type": "stream",
          "name": "stdout",
          "text": [
            "All nodes on campus: 10311\n",
            "<overpy.Node id=27495897 lat=44.2279960 lon=-76.4908268>\n",
            "All ways on campus: 1569\n",
            "<overpy.Way id=4642462 nodes=[7684020544, 401544451, 7684020543, 7281272432, 9604229820, 9604229821, 27495910]>\n"
          ]
        }
      ]
    },
    {
      "cell_type": "code",
      "source": [
        "# Sample functions\n",
        "# Fetch functions for ways connected to node\n",
        "def get_ways_fromNode(node):\n",
        "  pass\n",
        "\n",
        "# Get all nodes in a way\n",
        "#https://python-overpy.readthedocs.io/en/latest/example.html\n",
        "def get_nodes_fromWay(way):\n",
        "  pass\n",
        "\n",
        "# Get random node in set\n",
        "def random_node(set):\n",
        "  pass\n",
        "\n",
        "# Calulate the time walking a \"Way\"\n",
        "def get_time(way):\n",
        "  pass\n",
        "\n",
        "# maybe get time from\n",
        "\n",
        "# Search for a tag in an area \"query\" This could be used for input/output coordinates/location\n",
        "\n",
        "#[out:json][timeout:250];\n",
        "#(\n",
        "#  area[name=\"Palo Alto\"];\n",
        "#  way(area)[\"building\"];\n",
        "#  relation(area)[\"building\"];\n",
        "#);\n",
        "#out body;\n",
        "#>;\n",
        "#out skel qt;\n",
        "def get_nodes_with_tag(tag:str):\n",
        "  pass\n",
        "\n",
        "#Could be used for input/output coordinates/location\n",
        "def get_closest_node_fromCoordinate(latitude, longitude):\n",
        "  # figure out how to input coordinate and in what order they are usually shown\n",
        "  pass\n",
        "  #Output node\n",
        "\n",
        "\n",
        "\n"
      ],
      "metadata": {
        "id": "0lW54qkt89Bc"
      },
      "execution_count": null,
      "outputs": []
    },
    {
      "cell_type": "code",
      "source": [
        "# Q-learning / agent -> Figure out what functions you will specifically need from this data \n",
        "# Enviroment -> figure out enviroment ~  how to connect the agents actions to the enviroment -> To the api\n",
        "              #ie: how to break down "
      ],
      "metadata": {
        "id": "bd6irYHqG9KD"
      },
      "execution_count": null,
      "outputs": []
    },
    {
      "cell_type": "code",
      "source": [
        "class Enviroment():\n",
        "  pass"
      ],
      "metadata": {
        "id": "8T3MrOqLHLmy"
      },
      "execution_count": null,
      "outputs": []
    },
    {
      "cell_type": "code",
      "source": [
        "class Agent():\n",
        "  pass"
      ],
      "metadata": {
        "id": "3SM7NfDCHRaz"
      },
      "execution_count": null,
      "outputs": []
    },
    {
      "cell_type": "code",
      "source": [
        "class interface():\n",
        "  pass"
      ],
      "metadata": {
        "id": "yIH9dIQgHWT2"
      },
      "execution_count": null,
      "outputs": []
    }
  ]
}