{
  "cells": [
    {
      "cell_type": "markdown",
      "source": [
        "Queen's Campus Campus Pathfinding\n",
        "Reinforcment Learning agent who uses Q-Learning to find the shortest path between two points on Campus\n",
        "\n",
        "CISC 474\n",
        "names and SN's (insert before handing in - Not while on Github though)\n",
        "- \n",
        "- \n",
        "- \n",
        "-"
      ],
      "metadata": {
        "id": "CV7Ubl-ahgV9"
      }
    },
    {
      "cell_type": "markdown",
      "source": [
        "Reference Materials:\n",
        "\n",
        "[Overpass API/Overpass QL](https://wiki.openstreetmap.org/wiki/Overpass_API/Overpass_QL): API and Query Language for accessing Open Street Maps data.\n",
        "\n",
        "[Overpass Turbo](https://overpass-turbo.eu/): Website to help build and visualize Overpass API calls.\n",
        "\n",
        "[OverPy](https://python-overpy.readthedocs.io/en/latest/api.html): Python Wrapper for Overpass"
      ],
      "metadata": {
        "id": "uzWOa8RLi7V2"
      }
    },
    {
      "cell_type": "code",
      "execution_count": 1,
      "metadata": {
        "id": "1Fuc1QT6grHd"
      },
      "outputs": [],
      "source": [
        "###\n",
        "## TO DO\n",
        "\n",
        "# get_ways_fromNode(node,ways)\n",
        "# get_node_fromWay(node,way)\n",
        "# get_time(node_a, node_b, way)\n",
        "\n",
        "# World.print_world(self)\n",
        "#Wokring on it (OScar)\n",
        "\n",
        "# Look over world and agent function logic. Nodes are objects and if we want to \n",
        "#   specifically refer to them perhaps we should do it as node.id (For example for building dictionaries)\n",
        "\n",
        "#Do we need values? ie enviroment.set next values if not then delete it\n",
        "####"
      ]
    },
    {
      "cell_type": "code",
      "execution_count": 2,
      "metadata": {
        "colab": {
          "base_uri": "https://localhost:8080/"
        },
        "id": "xOgZkmyD5FmO",
        "outputId": "c1c0c34a-b445-498c-de2c-10ae00adb017"
      },
      "outputs": [
        {
          "output_type": "stream",
          "name": "stdout",
          "text": [
            "Looking in indexes: https://pypi.org/simple, https://us-python.pkg.dev/colab-wheels/public/simple/\n",
            "Requirement already satisfied: OSMPythonTools in /usr/local/lib/python3.8/dist-packages (0.3.5)\n",
            "Requirement already satisfied: geojson in /usr/local/lib/python3.8/dist-packages (from OSMPythonTools) (2.5.0)\n",
            "Requirement already satisfied: pandas in /usr/local/lib/python3.8/dist-packages (from OSMPythonTools) (1.3.5)\n",
            "Requirement already satisfied: beautifulsoup4 in /usr/local/lib/python3.8/dist-packages (from OSMPythonTools) (4.6.3)\n",
            "Requirement already satisfied: lxml in /usr/local/lib/python3.8/dist-packages (from OSMPythonTools) (4.9.1)\n",
            "Requirement already satisfied: xarray in /usr/local/lib/python3.8/dist-packages (from OSMPythonTools) (0.20.2)\n",
            "Requirement already satisfied: matplotlib in /usr/local/lib/python3.8/dist-packages (from OSMPythonTools) (3.6.2)\n",
            "Requirement already satisfied: numpy in /usr/local/lib/python3.8/dist-packages (from OSMPythonTools) (1.21.6)\n",
            "Requirement already satisfied: ujson in /usr/local/lib/python3.8/dist-packages (from OSMPythonTools) (5.6.0)\n",
            "Requirement already satisfied: contourpy>=1.0.1 in /usr/local/lib/python3.8/dist-packages (from matplotlib->OSMPythonTools) (1.0.6)\n",
            "Requirement already satisfied: kiwisolver>=1.0.1 in /usr/local/lib/python3.8/dist-packages (from matplotlib->OSMPythonTools) (1.4.4)\n",
            "Requirement already satisfied: python-dateutil>=2.7 in /usr/local/lib/python3.8/dist-packages (from matplotlib->OSMPythonTools) (2.8.2)\n",
            "Requirement already satisfied: cycler>=0.10 in /usr/local/lib/python3.8/dist-packages (from matplotlib->OSMPythonTools) (0.11.0)\n",
            "Requirement already satisfied: fonttools>=4.22.0 in /usr/local/lib/python3.8/dist-packages (from matplotlib->OSMPythonTools) (4.38.0)\n",
            "Requirement already satisfied: packaging>=20.0 in /usr/local/lib/python3.8/dist-packages (from matplotlib->OSMPythonTools) (21.3)\n",
            "Requirement already satisfied: pillow>=6.2.0 in /usr/local/lib/python3.8/dist-packages (from matplotlib->OSMPythonTools) (7.1.2)\n",
            "Requirement already satisfied: pyparsing>=2.2.1 in /usr/local/lib/python3.8/dist-packages (from matplotlib->OSMPythonTools) (3.0.9)\n",
            "Requirement already satisfied: six>=1.5 in /usr/local/lib/python3.8/dist-packages (from python-dateutil>=2.7->matplotlib->OSMPythonTools) (1.15.0)\n",
            "Requirement already satisfied: pytz>=2017.3 in /usr/local/lib/python3.8/dist-packages (from pandas->OSMPythonTools) (2022.6)\n",
            "Looking in indexes: https://pypi.org/simple, https://us-python.pkg.dev/colab-wheels/public/simple/\n",
            "Requirement already satisfied: overpy in /usr/local/lib/python3.8/dist-packages (0.6)\n",
            "Looking in indexes: https://pypi.org/simple, https://us-python.pkg.dev/colab-wheels/public/simple/\n",
            "Obtaining prettymaps from git+https://github.com/marceloprates/prettymaps#egg=prettymaps\n",
            "  Updating ./src/prettymaps clone\n",
            "  Running command git fetch -q --tags\n",
            "  Running command git reset --hard -q 3f3b8be923a9c0abda10fbc6f002ceb048c8e7f2\n",
            "Requirement already satisfied: osmnx==1.1.2 in /usr/local/lib/python3.8/dist-packages (from prettymaps) (1.1.2)\n",
            "Requirement already satisfied: tabulate==0.8.9 in /usr/local/lib/python3.8/dist-packages (from prettymaps) (0.8.9)\n",
            "Requirement already satisfied: Shapely<2.0,>=1.8 in /usr/local/lib/python3.8/dist-packages (from prettymaps) (1.8.5.post1)\n",
            "Requirement already satisfied: descartes==1.1.0 in /usr/local/lib/python3.8/dist-packages (from prettymaps) (1.1.0)\n",
            "Requirement already satisfied: pyyaml==6.0.0 in /usr/local/lib/python3.8/dist-packages (from prettymaps) (6.0)\n",
            "Requirement already satisfied: matplotlib in /usr/local/lib/python3.8/dist-packages (from descartes==1.1.0->prettymaps) (3.6.2)\n",
            "Requirement already satisfied: numpy>=1.21 in /usr/local/lib/python3.8/dist-packages (from osmnx==1.1.2->prettymaps) (1.21.6)\n",
            "Requirement already satisfied: requests>=2.26 in /usr/local/lib/python3.8/dist-packages (from osmnx==1.1.2->prettymaps) (2.28.1)\n",
            "Requirement already satisfied: pandas>=1.3 in /usr/local/lib/python3.8/dist-packages (from osmnx==1.1.2->prettymaps) (1.3.5)\n",
            "Requirement already satisfied: pyproj>=3.2 in /usr/local/lib/python3.8/dist-packages (from osmnx==1.1.2->prettymaps) (3.4.0)\n",
            "Requirement already satisfied: geopandas>=0.10 in /usr/local/lib/python3.8/dist-packages (from osmnx==1.1.2->prettymaps) (0.12.1)\n",
            "Requirement already satisfied: networkx>=2.6 in /usr/local/lib/python3.8/dist-packages (from osmnx==1.1.2->prettymaps) (2.6.3)\n",
            "Requirement already satisfied: Rtree>=0.9 in /usr/local/lib/python3.8/dist-packages (from osmnx==1.1.2->prettymaps) (1.0.1)\n",
            "Requirement already satisfied: packaging in /usr/local/lib/python3.8/dist-packages (from geopandas>=0.10->osmnx==1.1.2->prettymaps) (21.3)\n",
            "Requirement already satisfied: fiona>=1.8 in /usr/local/lib/python3.8/dist-packages (from geopandas>=0.10->osmnx==1.1.2->prettymaps) (1.8.22)\n",
            "Requirement already satisfied: cligj>=0.5 in /usr/local/lib/python3.8/dist-packages (from fiona>=1.8->geopandas>=0.10->osmnx==1.1.2->prettymaps) (0.7.2)\n",
            "Requirement already satisfied: certifi in /usr/local/lib/python3.8/dist-packages (from fiona>=1.8->geopandas>=0.10->osmnx==1.1.2->prettymaps) (2022.9.24)\n",
            "Requirement already satisfied: click-plugins>=1.0 in /usr/local/lib/python3.8/dist-packages (from fiona>=1.8->geopandas>=0.10->osmnx==1.1.2->prettymaps) (1.1.1)\n",
            "Requirement already satisfied: six>=1.7 in /usr/local/lib/python3.8/dist-packages (from fiona>=1.8->geopandas>=0.10->osmnx==1.1.2->prettymaps) (1.15.0)\n",
            "Requirement already satisfied: setuptools in /usr/local/lib/python3.8/dist-packages (from fiona>=1.8->geopandas>=0.10->osmnx==1.1.2->prettymaps) (57.4.0)\n",
            "Requirement already satisfied: munch in /usr/local/lib/python3.8/dist-packages (from fiona>=1.8->geopandas>=0.10->osmnx==1.1.2->prettymaps) (2.5.0)\n",
            "Requirement already satisfied: attrs>=17 in /usr/local/lib/python3.8/dist-packages (from fiona>=1.8->geopandas>=0.10->osmnx==1.1.2->prettymaps) (22.1.0)\n",
            "Requirement already satisfied: click>=4.0 in /usr/local/lib/python3.8/dist-packages (from fiona>=1.8->geopandas>=0.10->osmnx==1.1.2->prettymaps) (7.1.2)\n",
            "Requirement already satisfied: fonttools>=4.22.0 in /usr/local/lib/python3.8/dist-packages (from matplotlib->descartes==1.1.0->prettymaps) (4.38.0)\n",
            "Requirement already satisfied: contourpy>=1.0.1 in /usr/local/lib/python3.8/dist-packages (from matplotlib->descartes==1.1.0->prettymaps) (1.0.6)\n",
            "Requirement already satisfied: kiwisolver>=1.0.1 in /usr/local/lib/python3.8/dist-packages (from matplotlib->descartes==1.1.0->prettymaps) (1.4.4)\n",
            "Requirement already satisfied: python-dateutil>=2.7 in /usr/local/lib/python3.8/dist-packages (from matplotlib->descartes==1.1.0->prettymaps) (2.8.2)\n",
            "Requirement already satisfied: cycler>=0.10 in /usr/local/lib/python3.8/dist-packages (from matplotlib->descartes==1.1.0->prettymaps) (0.11.0)\n",
            "Requirement already satisfied: pillow>=6.2.0 in /usr/local/lib/python3.8/dist-packages (from matplotlib->descartes==1.1.0->prettymaps) (7.1.2)\n",
            "Requirement already satisfied: pyparsing>=2.2.1 in /usr/local/lib/python3.8/dist-packages (from matplotlib->descartes==1.1.0->prettymaps) (3.0.9)\n",
            "Requirement already satisfied: pytz>=2017.3 in /usr/local/lib/python3.8/dist-packages (from pandas>=1.3->osmnx==1.1.2->prettymaps) (2022.6)\n",
            "Requirement already satisfied: idna<4,>=2.5 in /usr/local/lib/python3.8/dist-packages (from requests>=2.26->osmnx==1.1.2->prettymaps) (2.10)\n",
            "Requirement already satisfied: charset-normalizer<3,>=2 in /usr/local/lib/python3.8/dist-packages (from requests>=2.26->osmnx==1.1.2->prettymaps) (2.1.1)\n",
            "Requirement already satisfied: urllib3<1.27,>=1.21.1 in /usr/local/lib/python3.8/dist-packages (from requests>=2.26->osmnx==1.1.2->prettymaps) (1.24.3)\n",
            "Installing collected packages: prettymaps\n",
            "  Attempting uninstall: prettymaps\n",
            "    Found existing installation: prettymaps 0.1.3\n",
            "    Can't uninstall 'prettymaps'. No files were found to uninstall.\n",
            "  Running setup.py develop for prettymaps\n",
            "Successfully installed prettymaps-0.1.3\n",
            "node: /lib/x86_64-linux-gnu/libc.so.6: version `GLIBC_2.28' not found (required by node)\n",
            "node: /lib/x86_64-linux-gnu/libc.so.6: version `GLIBC_2.28' not found (required by node)\n",
            "  \u001b[36m   copying\u001b[0m : \u001b[2mnode/18.12.1\u001b[0m\n",
            "node: /lib/x86_64-linux-gnu/libc.so.6: version `GLIBC_2.28' not found (required by node)\n",
            "/usr/local/bin/node: /lib/x86_64-linux-gnu/libc.so.6: version `GLIBC_2.28' not found (required by /usr/local/bin/node)\n",
            "  \u001b[36m installed\u001b[0m : \u001b[2m (with npm )\u001b[0m\n",
            "node: /lib/x86_64-linux-gnu/libc.so.6: version `GLIBC_2.28' not found (required by node)\n",
            "node: /lib/x86_64-linux-gnu/libc.so.6: version `GLIBC_2.28' not found (required by node)\n"
          ]
        }
      ],
      "source": [
        "!pip install OSMPythonTools\n",
        "!pip install overpy\n",
        "from logging import exception\n",
        "!pip install -e \"git+https://github.com/marceloprates/prettymaps#egg=prettymaps\"\n",
        "\n",
        "!npm cache clean -f\n",
        "!npm install -g n\n",
        "!n stable\n",
        "!npm install -g npm\n",
        "!npm install -g osmtogeojson"
      ]
    },
    {
      "cell_type": "code",
      "execution_count": 3,
      "metadata": {
        "id": "rQe_8QJIUV9H",
        "outputId": "525baab3-2460-45f2-ffc1-0b5d839b689e",
        "colab": {
          "base_uri": "https://localhost:8080/"
        }
      },
      "outputs": [
        {
          "output_type": "stream",
          "name": "stdout",
          "text": [
            "<OSMPythonTools.api.ApiResult object at 0x7f376abf3310>\n"
          ]
        }
      ],
      "source": [
        "#Not really using this at the moment, but might have to, to do queries between nodes\n",
        "# Api imports and set up to: import and access OpenStreetMaps\n",
        "from OSMPythonTools.api import Api\n",
        "from OSMPythonTools.overpass import Overpass\n",
        "\n",
        "OSMapi = Api()\n",
        "queens = OSMapi.query('way/12030883') \n",
        "print(queens)\n",
        "overpass = Overpass()"
      ]
    },
    {
      "cell_type": "code",
      "execution_count": 4,
      "metadata": {
        "colab": {
          "base_uri": "https://localhost:8080/"
        },
        "id": "aZwWaXJl5PUI",
        "outputId": "3f2f5af9-3617-4b7b-b1f8-99a73253cf40"
      },
      "outputs": [
        {
          "output_type": "stream",
          "name": "stdout",
          "text": [
            "All nodes on campus: 2362\n",
            "<overpy.Node id=27495897 lat=44.2279960 lon=-76.4908268>\n",
            "All ways on campus: 722\n",
            "<overpy.Way id=4964337 nodes=[30342171, 7434257090, 7434257091, 32871496, 32871497, 305089193, 32871498, 7434257092, 32871499]>\n",
            "All Relations on campus: 0\n",
            "<overpy.Relation id=36847>\n"
          ]
        }
      ],
      "source": [
        "# Main python wrapper for acessing OSM tools\n",
        "\n",
        "import overpy\n",
        "api = overpy.Overpass()\n",
        "\n",
        "## Bounding box - Limits the scope of our api \n",
        "## Campus is (roughly)  ==  [bbox:44.2224495448,-76.5017059541,44.2298231916,-76.4903552918]\n",
        "# Import all nodes and ways (edges) locally\n",
        "\n",
        "all_campus_result = api.query('[bbox: 44.2224495448,-76.5017059541,44.2298231916,-76.4903552918];(way[highway=footway];way[highway=pedestrian];way[highway=steps];way[highway=corridor];way[highway=path];way[highway=service];);(._;>;);out;')\n",
        "#This holds ways and nodes\n",
        "\n",
        "#Nodes\n",
        "print(\"All nodes on campus: \"+str(len(all_campus_result.nodes)))\n",
        "print(all_campus_result.nodes[1])\n",
        "\n",
        "#Ways\n",
        "print(\"All ways on campus: \"+str(len(all_campus_result.ways)))\n",
        "print(all_campus_result.ways[1])\n",
        "\n",
        "#Relations - There are none non campus, we could build them manually if needed tho  \n",
        "#all_campus_result.append((api.query('[bbox:44.2224495448,-76.5017059541,44.2298231916,-76.4903552918];(relation;);out;')).relations)\n",
        "try:\n",
        "  queens_campus_relations = api.query('[bbox:44.2224495448,-76.5017059541,44.2298231916,-76.4903552918];(relation;);out;')\n",
        "  queens_campus_relations.relations[0]\n",
        "except:\n",
        "  print(\"No relations on campus\")\n",
        "else:\n",
        "  print(\"All Relations on campus: \"+str(len(all_campus_result.relations)))\n",
        "  print(queens_campus_relations.relations[0])\n"
      ]
    },
    {
      "cell_type": "code",
      "execution_count": 5,
      "metadata": {
        "id": "0lW54qkt89Bc"
      },
      "outputs": [],
      "source": [
        "## Sample functions\n",
        "\n",
        "# Get all nodes in a way\n",
        "def get_node_fromWay(node, way):\n",
        "    pass\n",
        "    \n",
        "# Calulate the time walking a \"Way\"\n",
        "def get_time(node_a, node_b, way):\n",
        "    pass\n",
        "\n",
        "# maybe get time from\n",
        "\n",
        "# Search for a tag in an area \"query\" This could be used for input/output coordinates/location\n",
        "\n",
        "#[out:json][timeout:250];\n",
        "#(\n",
        "#  area[name=\"Palo Alto\"];\n",
        "#  way(area)[\"building\"];\n",
        "#  relation(area)[\"building\"];\n",
        "#);\n",
        "#out body;\n",
        "#>;\n",
        "#out skel qt;\n",
        "def get_nodes_with_tag(tag, nodes):\n",
        "    n_list = []\n",
        "    for n in nodes:\n",
        "        if tag in vars(n)['tags'].keys():\n",
        "            n_list.append(n)\n",
        "    return n_list\n",
        "\n",
        "# returns name of building\n",
        "def _node_to_str(node):\n",
        "    return vars(node)['tags']['name']\n",
        "\n",
        "# returns name of node (if it exists)\n",
        "def _str_to_node(string, nodes):\n",
        "    for n in nodes:\n",
        "        if string in vars(n)['tags']['name']:\n",
        "            return n\n",
        "    return\"no node with this name\"\n",
        "\n",
        "# Get random node in set\n",
        "def random_node(set):\n",
        "    pass\n",
        "\n",
        "#Could be used for input/output coordinates/location\n",
        "def get_closest_node_fromCoordinate(latitude, longitude):\n",
        "  # figure out how to input coordinate and in what order they are usually shown\n",
        "  pass\n",
        "  #Output node\n",
        "    "
      ]
    },
    {
      "cell_type": "code",
      "execution_count": 6,
      "metadata": {
        "id": "8T3MrOqLHLmy"
      },
      "outputs": [],
      "source": [
        "from copy import deepcopy\n",
        "import numpy as np\n",
        "\n",
        "class World:\n",
        "    \n",
        "    def __init__(self, allData:overpy.Result, start, terminal): \n",
        "    \n",
        "        # nodes (list) = the nodes\n",
        "        # ways (list) = the ways\n",
        "        # start (node) = the starting node\n",
        "        # terminal (node) = the goal node\n",
        "\n",
        "        # policy (dict) = each node a: {each potential goal node: best first way to take to reach this goal}\n",
        "        # values (dict) = each node a: {each potential goal node: {each way from node a: value}}\n",
        "\n",
        "        self._allData = allData\n",
        "\n",
        "        self._nodes = allData.nodes\n",
        "        self._ways = allData.ways\n",
        "        self._start = start ### What type is this coordinates or node? Figure out after making interface\n",
        "        self._terminal = terminal\n",
        "        \n",
        "        self._policy = {}\n",
        "        self._values = {}\n",
        "        \n",
        "        self._values_next = {}\n",
        "        self._values_next = self.create_next_values() ###do we need this?\n",
        "\n",
        "        self._currentNode = start\n",
        "        self.isEnd = False\n",
        "        \n",
        "        for node in self._nodes:\n",
        "            self._values[node] = {}\n",
        "            self._values[node] = dict(zip(self._nodes, [None]*len(self._nodes)))\n",
        "            self._policy[node] = {}\n",
        "            self._policy[node] = dict(zip(self._nodes, [None]*len(self._nodes)))\n",
        "            for goal_node in self._values[node]:\n",
        "                self._values[node][goal_node] = {}\n",
        "                self._values[node][goal_node] = dict(zip(get_ways_fromNode(node,self._ways), [None]*len(get_ways_fromNode(node,self._ways))))\n",
        "                self._policy[node][goal_node] = random.choice(self._values[node][goal_node].keys())\n",
        "                for possible_way in self._values[node][goal_node]:\n",
        "                    self._values[node][goal_node][possible_way] = 0\n",
        "    \n",
        "    def reset(self):\n",
        "        for node in self._nodes:\n",
        "            self._values[node] = {}\n",
        "            self._values[node] = dict(zip(self._nodes, [None]*len(self._nodes)))\n",
        "            self._policy[node] = {}\n",
        "            self._policy[node] = dict(zip(self._nodes, [None]*len(self._nodes)))\n",
        "            for goal_node in self._values[node]:\n",
        "                self._values[node][goal_node] = {}\n",
        "                self._values[node][goal_node] = dict(zip(get_ways_fromNode(node,self._ways), [None]*len(get_ways_fromNode(node,self._ways))))\n",
        "                self._policy[node][goal_node] = random.choice(self._values[node][goal_node].keys())\n",
        "                for possible_way in self._values[node][goal_node]:\n",
        "                    self._values[node][goal_node][possible_way] = 0\n",
        "        self.create_next_values()\n",
        "        \n",
        "    # you get the reward when you take the way\n",
        "    # a reward of 0 when you reach the terminal state\n",
        "    # a negative reward when you take an way\n",
        "    def _get_reward(self, node_a, node_b, way):\n",
        "        if node_b == self._terminal:\n",
        "            return 0\n",
        "        else:\n",
        "            return -get_time(node_a,node_b,way)\n",
        "    \n",
        "    def _get_next_node(self, node, way):\n",
        "        return get_node_fromWay(node, way)\n",
        "    \n",
        "    # returns all nodes in the world\n",
        "    def get_nodes(self):\n",
        "        return self._nodes\n",
        "\n",
        "    # Returns all node id from input list of nodes (Ways or Nodes)\n",
        "    def get_element_ids(elementList):\n",
        "      idList = []\n",
        "      for element in elementList:\n",
        "        idList.append(element.id)\n",
        "      return idList\n",
        "\n",
        "    \n",
        "    # returns each way from this node to terminal ### we dont know this?\n",
        "    def get_ways_toTerminal(self, from_node:overpy.Node):\n",
        "        return self._values[from_node][gw._terminal].keys()\n",
        "    \n",
        "    # returns the value of each way from this node to terminal\n",
        "    def get_values(self, node):\n",
        "        return self._values[node][gw._terminal]\n",
        "    \n",
        "    # values should be a dictionary of {(goal node: (possible ways: value)),}\n",
        "    def set_values(self, node, values): ###\n",
        "        self._values_next[node][gw._terminal] = values\n",
        "        \n",
        "    def set_next_values(self): ###\n",
        "        self._values = deepcopy(self._values_next)\n",
        "        \n",
        "    def create_next_values(self): ###\n",
        "        for node in self._nodes:\n",
        "            self._values_next[node] = {}\n",
        "            self._values_next[node] = dict(zip(self._nodes, [None]*len(self._nodes)))\n",
        "            self._policy[node] = {}\n",
        "            self._policy[node] = dict(zip(self._nodes, [None]*len(self._nodes)))\n",
        "            for goal_node in self._values[node]:\n",
        "                self._values_next[node][goal_node] = {}\n",
        "                self._values_next[node][goal_node] = dict(zip(get_ways_fromNode(node, self._ways), [None]*len(get_ways_fromNode(node, self._ways))))\n",
        "                self._policy[node][goal_node] = random.choice(self._values_next[node][goal_node].keys())\n",
        "                for possible_way in self._values[node][goal_node]:\n",
        "                    self._values_next[node][goal_node][possible_way] = 0\n",
        "                    \n",
        "\n",
        "    def get_ways_fromNode(self, node:overpy.Node):\n",
        "      ## Gets all ways to move from a node\n",
        "      # Input: Node to be considered\n",
        "      # Output: list of ways\n",
        "      way_list = []\n",
        "      for each_way in self._allData.get_ways():\n",
        "        idList = []\n",
        "\n",
        "        for eachNode in each_way.nodes:\n",
        "          idList.append(eachNode.id)\n",
        "        if node.id in idList:\n",
        "          way_list.append(each_way)\n",
        "\n",
        "      if len(way_list) < 1:\n",
        "        # Use this to delete any nodes not connected to the system, delete later\n",
        "        raise exception(\"No ways connected to node\")\n",
        "\n",
        "      return way_list\n",
        "\n",
        "    def isEndFunc(self): # Checks if the current state is at the goal and flags that the game has ended\n",
        "      if (self.currentNode == self._terminal):\n",
        "        self.isEnd = True\n",
        "    \n",
        "    def print_world(self):\n",
        "        pass\n",
        "        "
      ]
    },
    {
      "cell_type": "code",
      "execution_count": 7,
      "metadata": {
        "id": "3SM7NfDCHRaz"
      },
      "outputs": [],
      "source": [
        "def qlearning(world:World, alpha, gamma, e, max_eps=500):\n",
        "\n",
        "    world.reset()\n",
        "    q = {}\n",
        "\n",
        "    for node in world.get_nodes():\n",
        "        q[node] = {}\n",
        "        if node != world._terminal:\n",
        "            for way in get_ways_fromNode(node, world._ways):\n",
        "                q[node][way] = 1\n",
        "        elif node == world._terminal:\n",
        "            for way in world.ways:\n",
        "                q[node][way] = 0\n",
        "                \n",
        "    world.create_next_values()\n",
        "    \n",
        "    for i in range(0, max_eps):\n",
        "        n = world._start\n",
        "        \n",
        "        while n != world._terminal:   \n",
        "            rc = np.random.choice(['exploit','explore'], p=[1-e, e])\n",
        "            if rc == 'exploit':\n",
        "                v = np.argmax(list(q[n].values()))\n",
        "                w = list(g[n][v])\n",
        "            elif rc == \"explore\":\n",
        "                w = np.random.choice(list(q[n]))\n",
        "            n_prime = world._get_next_node(n,w)\n",
        "            r = world._get_reward(n, n_prime, way)\n",
        "            q[n][w] += alpha*(r + (gamma * np.max(list(q[n_prime].values())) - q[n][w]))\n",
        "            values = {}\n",
        "            for way in get_ways_fromNode(n, world._ways):\n",
        "                values[way] = q[n][way]\n",
        "            world.set_values(n, values)\n",
        "            n = n_prime\n",
        "\n",
        "\n",
        "        world.set_next_values()\n",
        "        \n",
        "    world.create_next_values()"
      ]
    },
    {
      "cell_type": "code",
      "execution_count": 8,
      "metadata": {
        "scrolled": true,
        "id": "ctbU2DSdgrHu"
      },
      "outputs": [],
      "source": [
        "nodes = all_campus_result.nodes\n",
        "ways = all_campus_result.ways\n",
        "\n",
        "# making a list of campus buildings from ways with the building tag\n",
        "buildings = []\n",
        "for w in ways:\n",
        "    if 'building' in vars(w)['tags'].keys():\n",
        "        if 'name' in vars(w)['tags'].keys():   \n",
        "            buildings.append(w)\n",
        "##print(\"node to string: \", _node_to_str(buildings[5]) )\n",
        "#print(\"string to node: \", _str_to_node(\"Ontario Hall\", buildings))\n",
        "\n",
        "start = np.random.choice(nodes)\n",
        "terminal = np.random.choice(nodes)\n",
        "\n",
        "# world = World(nodes, ways, start, terminal)\n",
        "alpha = 0.1\n",
        "gamma = 0.9\n",
        "e = 0.1\n",
        "\n",
        "# qlearning(world, alpha=alpha, gamma=gamma, e=e)\n",
        "# world.print_world()"
      ]
    },
    {
      "cell_type": "markdown",
      "source": [
        "Interface"
      ],
      "metadata": {
        "id": "gHpk6TZzvmjz"
      }
    },
    {
      "cell_type": "code",
      "execution_count": 9,
      "metadata": {
        "id": "yIH9dIQgHWT2",
        "outputId": "00545337-eefe-4ccf-8c45-c3e9a34e863e",
        "colab": {
          "base_uri": "https://localhost:8080/"
        }
      },
      "outputs": [
        {
          "output_type": "stream",
          "name": "stdout",
          "text": [
            "['Douglas Library', 'Stauffer Library', 'Robert Sutherland Hall', 'Macdonald Hall', 'Richardson Hall', 'Ontario Hall', 'Ellis Hall', 'Jeffery Hall', 'Chernoff Hall', 'Watts Hall', 'Chernoff Auditorium', 'Chown Hall', 'Morris Hall', 'McLaughlin Hall', 'Watson Hall', 'Harrison-LeCaine Hall', 'Agnes Queen’s Art Gallery', 'Grant Hall', 'Nicol Hall', 'Jackson Hall', 'Old Medical Building', 'Humphrey Hall', 'Kathleen Ryan Hall', 'Louise D. Acton Building', 'Cancer Research Institute', 'Clark Hall', 'Carruthers Hall', 'Cataraqui Building', 'Abramsky Hall', 'Dupuis Hall', 'Goodwin Hall', 'Walter Light Hall', 'Stirling Hall', 'LaSalle Building', 'Theological Hall', \"Central Heating Plant - Queen's University & KGH\", 'Kingston Hall', 'Grey House', 'Botterell Hall', 'University Club', 'Etherington Hall', 'Richardson House', 'Kidd House', 'Physical Plant Services Shed', \"Queen's School of Medicine\", 'Kinesiology Building', 'The Grad Club', \"St. James' Anglican Church\", 'Summerhill', 'Beamish-Munro Hall', 'Gordon Hall', 'Ban Righ Hall', 'Ann Baillie Building', 'Campus Bookstore (underground entrance)', 'Chalmers United Church', 'David C. Smith House', 'Brant Hall', 'Ban Righ Centre', '140 Stuart', 'Craine Building', 'Macklem House', 'Burr Wing', 'Centre for Applied Urological Research', 'Abrhamsky House', 'Chalmers Church House', 'Richardson Laboratory', 'former Kingston Collegiate Vocational Institute', 'Environmental Health & Safety Building', 'Geneva House', 'Newman House', 'Hedgewood House', 'MacGillivray-Brown Hall', 'Davies Wing', 'Kidd Wing', 'Armstrong Wing', 'Connell Wing', 'Douglas Wing', 'Dietary Wing', 'Victory Wing', 'Adelaide Hall', 'Nickle Wing', 'Angada Building', 'Doran Building', 'Empire Wing', 'Watkins Wing', \"Queen's Centre\"]\n"
          ]
        }
      ],
      "source": [
        "\n",
        "# making a list of campus buildings from ways with the building tag\n",
        "tempData = api.query('[bbox:44.2224495448,-76.5017059541,44.2298231916,-76.4903552918];(way;);out;')\n",
        "buildingNames = []\n",
        "wayId = []\n",
        "for w in tempData.ways:\n",
        "  #print(w.tags.keys())#[access'])\n",
        "  if \"building\" in w.tags.keys():\n",
        "    if \"name\" in w.tags.keys():\n",
        "      buildingNames.append(w.tags[\"name\"])\n",
        "      wayId.append(w.id)\n",
        "\n",
        "print(buildingNames)\n",
        "    \n",
        "    #if 'building' in vars(w)['tags'].keys():\n",
        "    #    if 'name' in vars(w)['tags'].keys():  \n",
        "    #        print(w) \n",
        "    #        buildings.append(w)\n",
        "#print(\"node to string: \", _node_to_str(buildings[5]) )\n",
        "#print(\"string to node: \", _str_to_node(\"Ontario Hall\", buildings))\n",
        "\n",
        "# Please uncomment a line to Choose a starting point\n",
        "#s =         #Douglas Library\n",
        "#s =          # Stauffer Library\n",
        "s = all_campus_result.get_node(9224895888,True)         #Ontario Hall\n",
        "\n",
        "# Please uncomment a line to Choose a starting point\n",
        "#t =         #Douglas Library\n",
        "#t =          # Stauffer Library\n",
        "#t = all_campus_result.get_node(9224895888)         #Ontario Hall\n",
        "t = all_campus_result.get_node(9130940237,True) #Ellis Hall\n",
        "\n",
        "# Alternativly input coordinates to choose a starting point and ending point\n",
        "#start_latitude = \n",
        "#start_longitude =\n",
        "#s = coor_resolve_to_node(start_latitude,start_longitude) \n",
        "\n",
        "#end_latitude = \n",
        "#end_longitude =\n",
        "#t = coor_resolve_to_node(end_latitude,end_longitude)  \n",
        "\n",
        "\n",
        "def coor_resolve_to_node(latitude,longitide) -> overpy.Node:\n",
        "  # Api call to get close nodes,\n",
        "  #get their id\n",
        "  #then find it in our node list and return\n",
        "  pass\n"
      ]
    },
    {
      "cell_type": "code",
      "source": [
        "def Interface(start: overpy.Node, terminal: overpy.Node):\n",
        "  #world = World(all_campus_result,start,terminal=terminal)\n",
        "  print(\"Training the Model\")\n",
        "  #agent = qlearning(world, alpha=alpha, gamma=gamma, e=e)\n",
        "  print(\"Training done\")\n",
        "\n",
        "  #agent.e\n",
        "\n",
        "  print(\"Showing Best route\")\n",
        "\n",
        "\n",
        "  \n",
        "\n",
        "\n",
        "Interface(s,t)\n"
      ],
      "metadata": {
        "id": "3lG5cjxr56kX",
        "outputId": "632ecb16-5db2-4d1d-82e5-60e719df3dbe",
        "colab": {
          "base_uri": "https://localhost:8080/"
        }
      },
      "execution_count": 10,
      "outputs": [
        {
          "output_type": "stream",
          "name": "stdout",
          "text": [
            "Training the Model\n",
            "Training done\n",
            "Showing Best route\n"
          ]
        }
      ]
    },
    {
      "cell_type": "code",
      "source": [
        "import folium\n",
        "from folium.plugins import MarkerCluster\n",
        "import pandas as pd"
      ],
      "metadata": {
        "id": "ahSZEL-Wz6rP"
      },
      "execution_count": 11,
      "outputs": []
    },
    {
      "cell_type": "code",
      "source": [
        "#Define coordinates of where we want to center our map\n",
        "campus_coords = [44.2265204, -76.4959298]\n",
        "\n",
        "#Create the map\n",
        "my_map = folium.Map(location = campus_coords, zoom_start = 16)\n",
        "\n",
        "#Create markers\n",
        "start_coords = [s.lat,s.lon]\n",
        "terminal_coords = [t.lat,t.lon]\n",
        "\n",
        "folium.Marker(start_coords, popup = 'Start').add_to(my_map)\n",
        "folium.Marker(terminal_coords, popup = 'End').add_to(my_map)\n",
        "\n",
        "#Display the map\n",
        "my_map\n",
        "\n",
        "#Whats left to display a route\n",
        "# Generate a list of way ids in our code\n",
        "# (do an api call?) to get OSM data for these ways\n",
        "# convert .osm to .geojson (done, using !osm) !osmtogeojson file1.osm > file2.geojson"
      ],
      "metadata": {
        "id": "JwtZgN_pD-PP",
        "outputId": "6be817ba-1990-4c3f-81d1-8fa456e9e5cf",
        "colab": {
          "base_uri": "https://localhost:8080/",
          "height": 627
        }
      },
      "execution_count": 12,
      "outputs": [
        {
          "output_type": "execute_result",
          "data": {
            "text/plain": [
              "<folium.folium.Map at 0x7f3762e48670>"
            ],
            "text/html": [
              "<div style=\"width:100%;\"><div style=\"position:relative;width:100%;height:0;padding-bottom:60%;\"><span style=\"color:#565656\">Make this Notebook Trusted to load map: File -> Trust Notebook</span><iframe srcdoc=\"&lt;!DOCTYPE html&gt;\n",
              "&lt;html&gt;\n",
              "&lt;head&gt;\n",
              "    \n",
              "    &lt;meta http-equiv=&quot;content-type&quot; content=&quot;text/html; charset=UTF-8&quot; /&gt;\n",
              "    \n",
              "        &lt;script&gt;\n",
              "            L_NO_TOUCH = false;\n",
              "            L_DISABLE_3D = false;\n",
              "        &lt;/script&gt;\n",
              "    \n",
              "    &lt;style&gt;html, body {width: 100%;height: 100%;margin: 0;padding: 0;}&lt;/style&gt;\n",
              "    &lt;style&gt;#map {position:absolute;top:0;bottom:0;right:0;left:0;}&lt;/style&gt;\n",
              "    &lt;script src=&quot;https://cdn.jsdelivr.net/npm/leaflet@1.6.0/dist/leaflet.js&quot;&gt;&lt;/script&gt;\n",
              "    &lt;script src=&quot;https://code.jquery.com/jquery-1.12.4.min.js&quot;&gt;&lt;/script&gt;\n",
              "    &lt;script src=&quot;https://maxcdn.bootstrapcdn.com/bootstrap/3.2.0/js/bootstrap.min.js&quot;&gt;&lt;/script&gt;\n",
              "    &lt;script src=&quot;https://cdnjs.cloudflare.com/ajax/libs/Leaflet.awesome-markers/2.0.2/leaflet.awesome-markers.js&quot;&gt;&lt;/script&gt;\n",
              "    &lt;link rel=&quot;stylesheet&quot; href=&quot;https://cdn.jsdelivr.net/npm/leaflet@1.6.0/dist/leaflet.css&quot;/&gt;\n",
              "    &lt;link rel=&quot;stylesheet&quot; href=&quot;https://maxcdn.bootstrapcdn.com/bootstrap/3.2.0/css/bootstrap.min.css&quot;/&gt;\n",
              "    &lt;link rel=&quot;stylesheet&quot; href=&quot;https://maxcdn.bootstrapcdn.com/bootstrap/3.2.0/css/bootstrap-theme.min.css&quot;/&gt;\n",
              "    &lt;link rel=&quot;stylesheet&quot; href=&quot;https://maxcdn.bootstrapcdn.com/font-awesome/4.6.3/css/font-awesome.min.css&quot;/&gt;\n",
              "    &lt;link rel=&quot;stylesheet&quot; href=&quot;https://cdnjs.cloudflare.com/ajax/libs/Leaflet.awesome-markers/2.0.2/leaflet.awesome-markers.css&quot;/&gt;\n",
              "    &lt;link rel=&quot;stylesheet&quot; href=&quot;https://cdn.jsdelivr.net/gh/python-visualization/folium/folium/templates/leaflet.awesome.rotate.min.css&quot;/&gt;\n",
              "    \n",
              "            &lt;meta name=&quot;viewport&quot; content=&quot;width=device-width,\n",
              "                initial-scale=1.0, maximum-scale=1.0, user-scalable=no&quot; /&gt;\n",
              "            &lt;style&gt;\n",
              "                #map_0a3e0d60d889873993f50e8df104d047 {\n",
              "                    position: relative;\n",
              "                    width: 100.0%;\n",
              "                    height: 100.0%;\n",
              "                    left: 0.0%;\n",
              "                    top: 0.0%;\n",
              "                }\n",
              "            &lt;/style&gt;\n",
              "        \n",
              "&lt;/head&gt;\n",
              "&lt;body&gt;\n",
              "    \n",
              "    \n",
              "            &lt;div class=&quot;folium-map&quot; id=&quot;map_0a3e0d60d889873993f50e8df104d047&quot; &gt;&lt;/div&gt;\n",
              "        \n",
              "&lt;/body&gt;\n",
              "&lt;script&gt;\n",
              "    \n",
              "    \n",
              "            var map_0a3e0d60d889873993f50e8df104d047 = L.map(\n",
              "                &quot;map_0a3e0d60d889873993f50e8df104d047&quot;,\n",
              "                {\n",
              "                    center: [44.2265204, -76.4959298],\n",
              "                    crs: L.CRS.EPSG3857,\n",
              "                    zoom: 16,\n",
              "                    zoomControl: true,\n",
              "                    preferCanvas: false,\n",
              "                }\n",
              "            );\n",
              "\n",
              "            \n",
              "\n",
              "        \n",
              "    \n",
              "            var tile_layer_452a392d7478941203066b45aa61f5b5 = L.tileLayer(\n",
              "                &quot;https://{s}.tile.openstreetmap.org/{z}/{x}/{y}.png&quot;,\n",
              "                {&quot;attribution&quot;: &quot;Data by \\u0026copy; \\u003ca href=\\&quot;http://openstreetmap.org\\&quot;\\u003eOpenStreetMap\\u003c/a\\u003e, under \\u003ca href=\\&quot;http://www.openstreetmap.org/copyright\\&quot;\\u003eODbL\\u003c/a\\u003e.&quot;, &quot;detectRetina&quot;: false, &quot;maxNativeZoom&quot;: 18, &quot;maxZoom&quot;: 18, &quot;minZoom&quot;: 0, &quot;noWrap&quot;: false, &quot;opacity&quot;: 1, &quot;subdomains&quot;: &quot;abc&quot;, &quot;tms&quot;: false}\n",
              "            ).addTo(map_0a3e0d60d889873993f50e8df104d047);\n",
              "        \n",
              "    \n",
              "            var marker_f48e2d326844e9a3cf39e6b578b4e151 = L.marker(\n",
              "                [44.2265077, -76.4953073],\n",
              "                {}\n",
              "            ).addTo(map_0a3e0d60d889873993f50e8df104d047);\n",
              "        \n",
              "    \n",
              "        var popup_dfe69f8a6303b40232057d47e250a681 = L.popup({&quot;maxWidth&quot;: &quot;100%&quot;});\n",
              "\n",
              "        \n",
              "            var html_abbc6449ea52ab0f356d540722c44fa0 = $(`&lt;div id=&quot;html_abbc6449ea52ab0f356d540722c44fa0&quot; style=&quot;width: 100.0%; height: 100.0%;&quot;&gt;Start&lt;/div&gt;`)[0];\n",
              "            popup_dfe69f8a6303b40232057d47e250a681.setContent(html_abbc6449ea52ab0f356d540722c44fa0);\n",
              "        \n",
              "\n",
              "        marker_f48e2d326844e9a3cf39e6b578b4e151.bindPopup(popup_dfe69f8a6303b40232057d47e250a681)\n",
              "        ;\n",
              "\n",
              "        \n",
              "    \n",
              "    \n",
              "            var marker_0d5d11e0d1915b7ef102d4d0d8439079 = L.marker(\n",
              "                [44.226326, -76.4959347],\n",
              "                {}\n",
              "            ).addTo(map_0a3e0d60d889873993f50e8df104d047);\n",
              "        \n",
              "    \n",
              "        var popup_7b4b22bd7ac6d0e744f4dda0cc441853 = L.popup({&quot;maxWidth&quot;: &quot;100%&quot;});\n",
              "\n",
              "        \n",
              "            var html_8ad10f1f1daf43794e353e7f686df326 = $(`&lt;div id=&quot;html_8ad10f1f1daf43794e353e7f686df326&quot; style=&quot;width: 100.0%; height: 100.0%;&quot;&gt;End&lt;/div&gt;`)[0];\n",
              "            popup_7b4b22bd7ac6d0e744f4dda0cc441853.setContent(html_8ad10f1f1daf43794e353e7f686df326);\n",
              "        \n",
              "\n",
              "        marker_0d5d11e0d1915b7ef102d4d0d8439079.bindPopup(popup_7b4b22bd7ac6d0e744f4dda0cc441853)\n",
              "        ;\n",
              "\n",
              "        \n",
              "    \n",
              "&lt;/script&gt;\n",
              "&lt;/html&gt;\" style=\"position:absolute;width:100%;height:100%;left:0;top:0;border:none !important;\" allowfullscreen webkitallowfullscreen mozallowfullscreen></iframe></div></div>"
            ]
          },
          "metadata": {},
          "execution_count": 12
        }
      ]
    },
    {
      "cell_type": "code",
      "source": [
        "#!https://www.overpass-api.de/api/interpreter?data=[out:json];node[highway=speed_camera];out%20meta;\n",
        "#!https://www.overpass-api.de/api/interpreter?data=[out:json];node[highway=speed_camera](43.46669501043081,-5.708215989569187,43.588927989569186,-5.605835010430813);out%20meta; --output-document=out.xml\n",
        "!https://www.overpass-api.de/api/interpreter?data=node[highway=speed_camera](43.46669501043081,-5.708215989569187,43.588927989569186,-5.605835010430813);out&20meta;;\n",
        "\n",
        "#!wget --post-file=query.txt http://overpass-api.de/api/interpreter --output-document=out.xml\n",
        "\n"
      ],
      "metadata": {
        "id": "OwAxXQztGumV",
        "outputId": "022cbfac-8678-4b62-f4cb-efd5475901f8",
        "colab": {
          "base_uri": "https://localhost:8080/"
        }
      },
      "execution_count": 13,
      "outputs": [
        {
          "output_type": "stream",
          "name": "stdout",
          "text": [
            "/bin/bash: -c: line 0: syntax error near unexpected token `43.46669501043081,-5.708215989569187,43.588927989569186,-5.605835010430813'\n",
            "/bin/bash: -c: line 0: `https://www.overpass-api.de/api/interpreter?data=node[highway=speed_camera](43.46669501043081,-5.708215989569187,43.588927989569186,-5.605835010430813);out&20meta;;'\n"
          ]
        }
      ]
    },
    {
      "cell_type": "code",
      "source": [
        "#selectedNodeIds=\"\"\n",
        "#for nodes in \n",
        "#overpass.query(node[])\n",
        "#Not finished but so close -> need to figure out how to put this stupid geojson file into the foliam map and we are set\n",
        "!cp /content/cache/api-f6f7201ed9c847b8c895891416142873af55d69f /content/api1.osm\n",
        "!osmtogeojson /content/api1.osm > /content/way.geojson\n",
        "geojsonFeature = \"/content/way.geojson\"\n",
        "#print(geojsonFeature)\n",
        "folium.GeoJson(geojsonFeature).addTo(my_map);"
      ],
      "metadata": {
        "id": "Y9g0vN-yJzbX",
        "outputId": "b2a4e6ab-ec78-4c26-9f37-6ea614d44038",
        "colab": {
          "base_uri": "https://localhost:8080/",
          "height": 336
        }
      },
      "execution_count": 19,
      "outputs": [
        {
          "output_type": "error",
          "ename": "JSONDecodeError",
          "evalue": "ignored",
          "traceback": [
            "\u001b[0;31m---------------------------------------------------------------------------\u001b[0m",
            "\u001b[0;31mJSONDecodeError\u001b[0m                           Traceback (most recent call last)",
            "\u001b[0;32m<ipython-input-19-a280b47cdaf2>\u001b[0m in \u001b[0;36m<module>\u001b[0;34m\u001b[0m\n\u001b[1;32m      7\u001b[0m \u001b[0mgeojsonFeature\u001b[0m \u001b[0;34m=\u001b[0m \u001b[0;34m\"/content/way.geojson\"\u001b[0m\u001b[0;34m\u001b[0m\u001b[0;34m\u001b[0m\u001b[0m\n\u001b[1;32m      8\u001b[0m \u001b[0;31m#print(geojsonFeature)\u001b[0m\u001b[0;34m\u001b[0m\u001b[0;34m\u001b[0m\u001b[0;34m\u001b[0m\u001b[0m\n\u001b[0;32m----> 9\u001b[0;31m \u001b[0mfolium\u001b[0m\u001b[0;34m.\u001b[0m\u001b[0mGeoJson\u001b[0m\u001b[0;34m(\u001b[0m\u001b[0mgeojsonFeature\u001b[0m\u001b[0;34m)\u001b[0m\u001b[0;34m.\u001b[0m\u001b[0maddTo\u001b[0m\u001b[0;34m(\u001b[0m\u001b[0mmy_map\u001b[0m\u001b[0;34m)\u001b[0m\u001b[0;34m;\u001b[0m\u001b[0;34m\u001b[0m\u001b[0;34m\u001b[0m\u001b[0m\n\u001b[0m",
            "\u001b[0;32m/usr/local/lib/python3.8/dist-packages/folium/features.py\u001b[0m in \u001b[0;36m__init__\u001b[0;34m(self, data, style_function, highlight_function, name, overlay, control, show, smooth_factor, tooltip, embed, popup, zoom_on_click, marker)\u001b[0m\n\u001b[1;32m    497\u001b[0m         \u001b[0mself\u001b[0m\u001b[0;34m.\u001b[0m\u001b[0mmarker\u001b[0m \u001b[0;34m=\u001b[0m \u001b[0mmarker\u001b[0m\u001b[0;34m\u001b[0m\u001b[0;34m\u001b[0m\u001b[0m\n\u001b[1;32m    498\u001b[0m \u001b[0;34m\u001b[0m\u001b[0m\n\u001b[0;32m--> 499\u001b[0;31m         \u001b[0mself\u001b[0m\u001b[0;34m.\u001b[0m\u001b[0mdata\u001b[0m \u001b[0;34m=\u001b[0m \u001b[0mself\u001b[0m\u001b[0;34m.\u001b[0m\u001b[0mprocess_data\u001b[0m\u001b[0;34m(\u001b[0m\u001b[0mdata\u001b[0m\u001b[0;34m)\u001b[0m\u001b[0;34m\u001b[0m\u001b[0;34m\u001b[0m\u001b[0m\n\u001b[0m\u001b[1;32m    500\u001b[0m \u001b[0;34m\u001b[0m\u001b[0m\n\u001b[1;32m    501\u001b[0m         \u001b[0;32mif\u001b[0m \u001b[0mself\u001b[0m\u001b[0;34m.\u001b[0m\u001b[0mstyle\u001b[0m \u001b[0;32mor\u001b[0m \u001b[0mself\u001b[0m\u001b[0;34m.\u001b[0m\u001b[0mhighlight\u001b[0m\u001b[0;34m:\u001b[0m\u001b[0;34m\u001b[0m\u001b[0;34m\u001b[0m\u001b[0m\n",
            "\u001b[0;32m/usr/local/lib/python3.8/dist-packages/folium/features.py\u001b[0m in \u001b[0;36mprocess_data\u001b[0;34m(self, data)\u001b[0m\n\u001b[1;32m    535\u001b[0m                     \u001b[0mself\u001b[0m\u001b[0;34m.\u001b[0m\u001b[0membed_link\u001b[0m \u001b[0;34m=\u001b[0m \u001b[0mdata\u001b[0m\u001b[0;34m\u001b[0m\u001b[0;34m\u001b[0m\u001b[0m\n\u001b[1;32m    536\u001b[0m                 \u001b[0;32mwith\u001b[0m \u001b[0mopen\u001b[0m\u001b[0;34m(\u001b[0m\u001b[0mdata\u001b[0m\u001b[0;34m)\u001b[0m \u001b[0;32mas\u001b[0m \u001b[0mf\u001b[0m\u001b[0;34m:\u001b[0m\u001b[0;34m\u001b[0m\u001b[0;34m\u001b[0m\u001b[0m\n\u001b[0;32m--> 537\u001b[0;31m                     \u001b[0;32mreturn\u001b[0m \u001b[0mjson\u001b[0m\u001b[0;34m.\u001b[0m\u001b[0mloads\u001b[0m\u001b[0;34m(\u001b[0m\u001b[0mf\u001b[0m\u001b[0;34m.\u001b[0m\u001b[0mread\u001b[0m\u001b[0;34m(\u001b[0m\u001b[0;34m)\u001b[0m\u001b[0;34m)\u001b[0m\u001b[0;34m\u001b[0m\u001b[0;34m\u001b[0m\u001b[0m\n\u001b[0m\u001b[1;32m    538\u001b[0m         \u001b[0;32melif\u001b[0m \u001b[0mhasattr\u001b[0m\u001b[0;34m(\u001b[0m\u001b[0mdata\u001b[0m\u001b[0;34m,\u001b[0m \u001b[0;34m'__geo_interface__'\u001b[0m\u001b[0;34m)\u001b[0m\u001b[0;34m:\u001b[0m\u001b[0;34m\u001b[0m\u001b[0;34m\u001b[0m\u001b[0m\n\u001b[1;32m    539\u001b[0m             \u001b[0mself\u001b[0m\u001b[0;34m.\u001b[0m\u001b[0membed\u001b[0m \u001b[0;34m=\u001b[0m \u001b[0;32mTrue\u001b[0m\u001b[0;34m\u001b[0m\u001b[0;34m\u001b[0m\u001b[0m\n",
            "\u001b[0;32m/usr/lib/python3.8/json/__init__.py\u001b[0m in \u001b[0;36mloads\u001b[0;34m(s, cls, object_hook, parse_float, parse_int, parse_constant, object_pairs_hook, **kw)\u001b[0m\n\u001b[1;32m    355\u001b[0m             \u001b[0mparse_int\u001b[0m \u001b[0;32mis\u001b[0m \u001b[0;32mNone\u001b[0m \u001b[0;32mand\u001b[0m \u001b[0mparse_float\u001b[0m \u001b[0;32mis\u001b[0m \u001b[0;32mNone\u001b[0m \u001b[0;32mand\u001b[0m\u001b[0;34m\u001b[0m\u001b[0;34m\u001b[0m\u001b[0m\n\u001b[1;32m    356\u001b[0m             parse_constant is None and object_pairs_hook is None and not kw):\n\u001b[0;32m--> 357\u001b[0;31m         \u001b[0;32mreturn\u001b[0m \u001b[0m_default_decoder\u001b[0m\u001b[0;34m.\u001b[0m\u001b[0mdecode\u001b[0m\u001b[0;34m(\u001b[0m\u001b[0ms\u001b[0m\u001b[0;34m)\u001b[0m\u001b[0;34m\u001b[0m\u001b[0;34m\u001b[0m\u001b[0m\n\u001b[0m\u001b[1;32m    358\u001b[0m     \u001b[0;32mif\u001b[0m \u001b[0mcls\u001b[0m \u001b[0;32mis\u001b[0m \u001b[0;32mNone\u001b[0m\u001b[0;34m:\u001b[0m\u001b[0;34m\u001b[0m\u001b[0;34m\u001b[0m\u001b[0m\n\u001b[1;32m    359\u001b[0m         \u001b[0mcls\u001b[0m \u001b[0;34m=\u001b[0m \u001b[0mJSONDecoder\u001b[0m\u001b[0;34m\u001b[0m\u001b[0;34m\u001b[0m\u001b[0m\n",
            "\u001b[0;32m/usr/lib/python3.8/json/decoder.py\u001b[0m in \u001b[0;36mdecode\u001b[0;34m(self, s, _w)\u001b[0m\n\u001b[1;32m    335\u001b[0m \u001b[0;34m\u001b[0m\u001b[0m\n\u001b[1;32m    336\u001b[0m         \"\"\"\n\u001b[0;32m--> 337\u001b[0;31m         \u001b[0mobj\u001b[0m\u001b[0;34m,\u001b[0m \u001b[0mend\u001b[0m \u001b[0;34m=\u001b[0m \u001b[0mself\u001b[0m\u001b[0;34m.\u001b[0m\u001b[0mraw_decode\u001b[0m\u001b[0;34m(\u001b[0m\u001b[0ms\u001b[0m\u001b[0;34m,\u001b[0m \u001b[0midx\u001b[0m\u001b[0;34m=\u001b[0m\u001b[0m_w\u001b[0m\u001b[0;34m(\u001b[0m\u001b[0ms\u001b[0m\u001b[0;34m,\u001b[0m \u001b[0;36m0\u001b[0m\u001b[0;34m)\u001b[0m\u001b[0;34m.\u001b[0m\u001b[0mend\u001b[0m\u001b[0;34m(\u001b[0m\u001b[0;34m)\u001b[0m\u001b[0;34m)\u001b[0m\u001b[0;34m\u001b[0m\u001b[0;34m\u001b[0m\u001b[0m\n\u001b[0m\u001b[1;32m    338\u001b[0m         \u001b[0mend\u001b[0m \u001b[0;34m=\u001b[0m \u001b[0m_w\u001b[0m\u001b[0;34m(\u001b[0m\u001b[0ms\u001b[0m\u001b[0;34m,\u001b[0m \u001b[0mend\u001b[0m\u001b[0;34m)\u001b[0m\u001b[0;34m.\u001b[0m\u001b[0mend\u001b[0m\u001b[0;34m(\u001b[0m\u001b[0;34m)\u001b[0m\u001b[0;34m\u001b[0m\u001b[0;34m\u001b[0m\u001b[0m\n\u001b[1;32m    339\u001b[0m         \u001b[0;32mif\u001b[0m \u001b[0mend\u001b[0m \u001b[0;34m!=\u001b[0m \u001b[0mlen\u001b[0m\u001b[0;34m(\u001b[0m\u001b[0ms\u001b[0m\u001b[0;34m)\u001b[0m\u001b[0;34m:\u001b[0m\u001b[0;34m\u001b[0m\u001b[0;34m\u001b[0m\u001b[0m\n",
            "\u001b[0;32m/usr/lib/python3.8/json/decoder.py\u001b[0m in \u001b[0;36mraw_decode\u001b[0;34m(self, s, idx)\u001b[0m\n\u001b[1;32m    353\u001b[0m             \u001b[0mobj\u001b[0m\u001b[0;34m,\u001b[0m \u001b[0mend\u001b[0m \u001b[0;34m=\u001b[0m \u001b[0mself\u001b[0m\u001b[0;34m.\u001b[0m\u001b[0mscan_once\u001b[0m\u001b[0;34m(\u001b[0m\u001b[0ms\u001b[0m\u001b[0;34m,\u001b[0m \u001b[0midx\u001b[0m\u001b[0;34m)\u001b[0m\u001b[0;34m\u001b[0m\u001b[0;34m\u001b[0m\u001b[0m\n\u001b[1;32m    354\u001b[0m         \u001b[0;32mexcept\u001b[0m \u001b[0mStopIteration\u001b[0m \u001b[0;32mas\u001b[0m \u001b[0merr\u001b[0m\u001b[0;34m:\u001b[0m\u001b[0;34m\u001b[0m\u001b[0;34m\u001b[0m\u001b[0m\n\u001b[0;32m--> 355\u001b[0;31m             \u001b[0;32mraise\u001b[0m \u001b[0mJSONDecodeError\u001b[0m\u001b[0;34m(\u001b[0m\u001b[0;34m\"Expecting value\"\u001b[0m\u001b[0;34m,\u001b[0m \u001b[0ms\u001b[0m\u001b[0;34m,\u001b[0m \u001b[0merr\u001b[0m\u001b[0;34m.\u001b[0m\u001b[0mvalue\u001b[0m\u001b[0;34m)\u001b[0m \u001b[0;32mfrom\u001b[0m \u001b[0;32mNone\u001b[0m\u001b[0;34m\u001b[0m\u001b[0;34m\u001b[0m\u001b[0m\n\u001b[0m\u001b[1;32m    356\u001b[0m         \u001b[0;32mreturn\u001b[0m \u001b[0mobj\u001b[0m\u001b[0;34m,\u001b[0m \u001b[0mend\u001b[0m\u001b[0;34m\u001b[0m\u001b[0;34m\u001b[0m\u001b[0m\n",
            "\u001b[0;31mJSONDecodeError\u001b[0m: Expecting value: line 1 column 1 (char 0)"
          ]
        }
      ]
    },
    {
      "cell_type": "code",
      "source": [
        "!npm --help\n",
        "!npm search s"
      ],
      "metadata": {
        "id": "Wr9HGm4gXfYK",
        "outputId": "bf124d35-248d-4e10-8932-4fc051c7f6b2",
        "colab": {
          "base_uri": "https://localhost:8080/"
        }
      },
      "execution_count": 18,
      "outputs": [
        {
          "output_type": "stream",
          "name": "stdout",
          "text": [
            "node: /lib/x86_64-linux-gnu/libc.so.6: version `GLIBC_2.28' not found (required by node)\n",
            "node: /lib/x86_64-linux-gnu/libc.so.6: version `GLIBC_2.28' not found (required by node)\n"
          ]
        }
      ]
    }
  ],
  "metadata": {
    "colab": {
      "provenance": []
    },
    "kernelspec": {
      "display_name": "Python 3 (ipykernel)",
      "language": "python",
      "name": "python3"
    },
    "language_info": {
      "codemirror_mode": {
        "name": "ipython",
        "version": 3
      },
      "file_extension": ".py",
      "mimetype": "text/x-python",
      "name": "python",
      "nbconvert_exporter": "python",
      "pygments_lexer": "ipython3",
      "version": "3.11.0"
    }
  },
  "nbformat": 4,
  "nbformat_minor": 0
}